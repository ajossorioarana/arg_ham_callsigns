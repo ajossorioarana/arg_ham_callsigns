{
 "cells": [
  {
   "cell_type": "code",
   "execution_count": 499,
   "metadata": {},
   "outputs": [],
   "source": [
    "import json\n",
    "import requests\n",
    "\n",
    "import geopandas as gpd\n",
    "from geojson_rewind import rewind\n",
    "import numpy as np\n",
    "import pandas as pd\n",
    "import plotly.express as px"
   ]
  },
  {
   "attachments": {},
   "cell_type": "markdown",
   "metadata": {},
   "source": [
    "## 1. Load relevant data"
   ]
  },
  {
   "attachments": {},
   "cell_type": "markdown",
   "metadata": {},
   "source": [
    "Download the dataset of argetinian amateur radio licenses.\n",
    "\n",
    "While ENACOM has an API, the dataset is provided by a URL, both in their website as in the API."
   ]
  },
  {
   "cell_type": "code",
   "execution_count": 500,
   "metadata": {},
   "outputs": [
    {
     "data": {
      "text/html": [
       "<div>\n",
       "<style scoped>\n",
       "    .dataframe tbody tr th:only-of-type {\n",
       "        vertical-align: middle;\n",
       "    }\n",
       "\n",
       "    .dataframe tbody tr th {\n",
       "        vertical-align: top;\n",
       "    }\n",
       "\n",
       "    .dataframe thead th {\n",
       "        text-align: right;\n",
       "    }\n",
       "</style>\n",
       "<table border=\"1\" class=\"dataframe\">\n",
       "  <thead>\n",
       "    <tr style=\"text-align: right;\">\n",
       "      <th></th>\n",
       "      <th>Titular de la Licencia</th>\n",
       "      <th>Señal Distintiva</th>\n",
       "      <th>Categoría</th>\n",
       "      <th>Expiración</th>\n",
       "      <th>Provincia</th>\n",
       "      <th>Localidad</th>\n",
       "    </tr>\n",
       "  </thead>\n",
       "  <tbody>\n",
       "    <tr>\n",
       "      <th>0</th>\n",
       "      <td>PROTECCION CIVIL (MIN. SEG. NACION)</td>\n",
       "      <td>LU0CD</td>\n",
       "      <td>SUPERIOR</td>\n",
       "      <td>2025-05-21</td>\n",
       "      <td>Ciudad de Buenos Aires</td>\n",
       "      <td>CIUDAD AUTONOMA DE BUENOS AIRES</td>\n",
       "    </tr>\n",
       "    <tr>\n",
       "      <th>1</th>\n",
       "      <td>ARTURO JORGE PEYRU</td>\n",
       "      <td>LU1AAA</td>\n",
       "      <td>NOVICIO</td>\n",
       "      <td>2024-05-07</td>\n",
       "      <td>Ciudad de Buenos Aires</td>\n",
       "      <td>CIUDAD AUTONOMA DE BUENOS AIRES</td>\n",
       "    </tr>\n",
       "    <tr>\n",
       "      <th>2</th>\n",
       "      <td>CHRISTIAN LUIS DIAZ</td>\n",
       "      <td>LU1AAB</td>\n",
       "      <td>NOVICIO</td>\n",
       "      <td>2024-04-26</td>\n",
       "      <td>Ciudad de Buenos Aires</td>\n",
       "      <td>CIUDAD AUTONOMA DE BUENOS AIRES</td>\n",
       "    </tr>\n",
       "    <tr>\n",
       "      <th>3</th>\n",
       "      <td>WENCESLAO BERNARDINO MOREL</td>\n",
       "      <td>LU1AAC</td>\n",
       "      <td>GENERAL</td>\n",
       "      <td>2024-05-16</td>\n",
       "      <td>Ciudad de Buenos Aires</td>\n",
       "      <td>CIUDAD AUTONOMA DE BUENOS AIRES</td>\n",
       "    </tr>\n",
       "    <tr>\n",
       "      <th>4</th>\n",
       "      <td>JUAN ANTONIO BILOTA</td>\n",
       "      <td>LU1AAD</td>\n",
       "      <td>NOVICIO</td>\n",
       "      <td>2024-08-14</td>\n",
       "      <td>Ciudad de Buenos Aires</td>\n",
       "      <td>CIUDAD AUTONOMA DE BUENOS AIRES</td>\n",
       "    </tr>\n",
       "  </tbody>\n",
       "</table>\n",
       "</div>"
      ],
      "text/plain": [
       "                Titular de la Licencia Señal Distintiva Categoría Expiración  \\\n",
       "0  PROTECCION CIVIL (MIN. SEG. NACION)            LU0CD  SUPERIOR 2025-05-21   \n",
       "1                   ARTURO JORGE PEYRU           LU1AAA   NOVICIO 2024-05-07   \n",
       "2                  CHRISTIAN LUIS DIAZ           LU1AAB   NOVICIO 2024-04-26   \n",
       "3           WENCESLAO BERNARDINO MOREL           LU1AAC   GENERAL 2024-05-16   \n",
       "4                  JUAN ANTONIO BILOTA           LU1AAD   NOVICIO 2024-08-14   \n",
       "\n",
       "                Provincia                        Localidad  \n",
       "0  Ciudad de Buenos Aires  CIUDAD AUTONOMA DE BUENOS AIRES  \n",
       "1  Ciudad de Buenos Aires  CIUDAD AUTONOMA DE BUENOS AIRES  \n",
       "2  Ciudad de Buenos Aires  CIUDAD AUTONOMA DE BUENOS AIRES  \n",
       "3  Ciudad de Buenos Aires  CIUDAD AUTONOMA DE BUENOS AIRES  \n",
       "4  Ciudad de Buenos Aires  CIUDAD AUTONOMA DE BUENOS AIRES  "
      ]
     },
     "execution_count": 500,
     "metadata": {},
     "output_type": "execute_result"
    }
   ],
   "source": [
    "# Switch to avoid downnloading XSLX each time I ran\n",
    "donwload_file = False\n",
    "\n",
    "# Define the name of the file to be saved locally\n",
    "filename = 'argentina_ham_callsigns.xls'\n",
    "\n",
    "if donwload_file:\n",
    "    # Define the URL with the file to be downlaoded\n",
    "    url = 'https://datosabiertos.enacom.gob.ar/datasets/197452-listado-de-radioaficionados.download/'\n",
    "\n",
    "    # Send the petition HTTP Get for obtaining the resource\n",
    "    data = requests.get(url)\n",
    "\n",
    "    # Save the file locally\n",
    "    with open(filename, 'wb') as file:\n",
    "        file.write(data.content)\n",
    "\n",
    "# Read CSV as pandas DataFrame\n",
    "df = pd.read_excel(filename)\n",
    "df.head()"
   ]
  },
  {
   "attachments": {},
   "cell_type": "markdown",
   "metadata": {},
   "source": [
    "Loading a previously downloaded GeoJSON with the shapefile of Argentina's provinces (*[Source](https://www.kaggle.com/datasets/pablomgomez21/geojson-file-provincias-argentinas)*)"
   ]
  },
  {
   "cell_type": "code",
   "execution_count": 501,
   "metadata": {},
   "outputs": [],
   "source": [
    "with open('arg_provinces.geojson', 'rb') as file:\n",
    "    arg_prov_shape = json.load(file)"
   ]
  },
  {
   "attachments": {},
   "cell_type": "markdown",
   "metadata": {},
   "source": [
    "Lastly, I'll load a CSV with some basic information of each province in Argentina.\n",
    "+ **province(index)**: Name of the province.\n",
    "+ **population**, in number of people (obatined by [provisional 2022 census results](https://www.indec.gob.ar/indec/web/Nivel4-Tema-2-41-165))\n",
    "+ **area**, in $km^{2}$. [Source](https://en.wikipedia.org/wiki/Provinces_of_Argentina)\n",
    "+ **earnings**, which refers to the monthly mean individual earning for each province for the month of february 2023. [Source](https://datos.gob.ar/dataset/produccion-salarios-promedio-mediano-por-provincia-sector-actividad/archivo/produccion_8ed16580-cc11-48ba-8ba3-81ab3c95b6da)"
   ]
  },
  {
   "cell_type": "code",
   "execution_count": 502,
   "metadata": {},
   "outputs": [
    {
     "data": {
      "text/html": [
       "<div>\n",
       "<style scoped>\n",
       "    .dataframe tbody tr th:only-of-type {\n",
       "        vertical-align: middle;\n",
       "    }\n",
       "\n",
       "    .dataframe tbody tr th {\n",
       "        vertical-align: top;\n",
       "    }\n",
       "\n",
       "    .dataframe thead th {\n",
       "        text-align: right;\n",
       "    }\n",
       "</style>\n",
       "<table border=\"1\" class=\"dataframe\">\n",
       "  <thead>\n",
       "    <tr style=\"text-align: right;\">\n",
       "      <th></th>\n",
       "      <th>population</th>\n",
       "      <th>area</th>\n",
       "      <th>earnings</th>\n",
       "      <th>pop_density</th>\n",
       "    </tr>\n",
       "    <tr>\n",
       "      <th>province</th>\n",
       "      <th></th>\n",
       "      <th></th>\n",
       "      <th></th>\n",
       "      <th></th>\n",
       "    </tr>\n",
       "  </thead>\n",
       "  <tbody>\n",
       "    <tr>\n",
       "      <th>Buenos Aires</th>\n",
       "      <td>17569053</td>\n",
       "      <td>307571</td>\n",
       "      <td>244345</td>\n",
       "      <td>57.12</td>\n",
       "    </tr>\n",
       "    <tr>\n",
       "      <th>Catamarca</th>\n",
       "      <td>429556</td>\n",
       "      <td>102602</td>\n",
       "      <td>186419</td>\n",
       "      <td>4.19</td>\n",
       "    </tr>\n",
       "    <tr>\n",
       "      <th>Chaco</th>\n",
       "      <td>1142963</td>\n",
       "      <td>99633</td>\n",
       "      <td>186228</td>\n",
       "      <td>11.47</td>\n",
       "    </tr>\n",
       "    <tr>\n",
       "      <th>Chubut</th>\n",
       "      <td>603120</td>\n",
       "      <td>224686</td>\n",
       "      <td>368289</td>\n",
       "      <td>2.68</td>\n",
       "    </tr>\n",
       "    <tr>\n",
       "      <th>Ciudad Autónoma de Buenos Aires</th>\n",
       "      <td>3120612</td>\n",
       "      <td>203</td>\n",
       "      <td>323670</td>\n",
       "      <td>15372.47</td>\n",
       "    </tr>\n",
       "  </tbody>\n",
       "</table>\n",
       "</div>"
      ],
      "text/plain": [
       "                                 population    area  earnings  pop_density\n",
       "province                                                                  \n",
       "Buenos Aires                       17569053  307571    244345        57.12\n",
       "Catamarca                            429556  102602    186419         4.19\n",
       "Chaco                               1142963   99633    186228        11.47\n",
       "Chubut                               603120  224686    368289         2.68\n",
       "Ciudad Autónoma de Buenos Aires     3120612     203    323670     15372.47"
      ]
     },
     "execution_count": 502,
     "metadata": {},
     "output_type": "execute_result"
    }
   ],
   "source": [
    "prov_data = pd.read_csv('arg_provinces_data.csv', delimiter=';').set_index('province')\n",
    "\n",
    "# Create a propulation density column\n",
    "prov_data['pop_density'] = (prov_data['population'] / prov_data['area']).round(2)\n",
    "prov_data.head()"
   ]
  },
  {
   "cell_type": "code",
   "execution_count": 503,
   "metadata": {},
   "outputs": [
    {
     "data": {
      "text/plain": [
       "Index(['Buenos Aires', 'Catamarca', 'Chaco', 'Chubut',\n",
       "       'Ciudad Autónoma de Buenos Aires', 'Corrientes', 'Córdoba',\n",
       "       'Entre Ríos', 'Formosa', 'Jujuy', 'La Pampa', 'La Rioja', 'Mendoza',\n",
       "       'Misiones', 'Neuquén', 'Río Negro', 'Salta', 'San Juan', 'San Luis',\n",
       "       'Santa Cruz', 'Santa Fe', 'Santiago del Estero',\n",
       "       'Tierra del Fuego, Antártida e Islas del Atlántico Sur', 'Tucumán'],\n",
       "      dtype='object', name='province')"
      ]
     },
     "execution_count": 503,
     "metadata": {},
     "output_type": "execute_result"
    }
   ],
   "source": [
    "prov_data.index"
   ]
  },
  {
   "attachments": {},
   "cell_type": "markdown",
   "metadata": {},
   "source": [
    "## 2. Data Manipulation"
   ]
  },
  {
   "cell_type": "code",
   "execution_count": 504,
   "metadata": {},
   "outputs": [],
   "source": [
    "# Renaming the columns for ease of use\n",
    "df = df.rename(columns={\n",
    "    'Titular de la Licencia': 'license_owner',\n",
    "    'Señal Distintiva': 'callsign',\n",
    "    'Categoría': 'category',\n",
    "    'Expiración': 'expiration_date',\n",
    "    'Provincia': 'province',\n",
    "    'Localidad': 'city'\n",
    "})\n",
    "\n",
    "# Remove leading or trailing spaces for all object columns\n",
    "for column in df.columns:\n",
    "    if df[column].dtype == object:\n",
    "        df[column] = df[column].str.strip() \n",
    "\n",
    "# Apply same format to category and city column\n",
    "df['category'] = df['category'].str.title()\n",
    "df['city'] = df['city'].str.title()\n",
    "\n",
    "# Rename province names to adhere to a standard\n",
    "df['province'] = df['province'].replace({\n",
    "    'Provincia de Buenos Aires': 'Buenos Aires',\n",
    "    'Ciudad de Buenos Aires': 'Ciudad Autónoma de Buenos Aires',\n",
    "    'Tierra del Fuego A. e I.A.S.': 'Tierra del Fuego, Antártida e Islas del Atlántico Sur'\n",
    "})"
   ]
  },
  {
   "cell_type": "code",
   "execution_count": 505,
   "metadata": {},
   "outputs": [
    {
     "data": {
      "text/plain": [
       "array(['Ciudad Autónoma de Buenos Aires', 'Buenos Aires', 'Santa Fe',\n",
       "       'Chaco', 'Formosa', 'Córdoba', 'Misiones', 'Entre Ríos', 'Tucumán',\n",
       "       'Corrientes', 'Mendoza', 'Santiago del Estero', 'Salta',\n",
       "       'San Juan', 'San Luis', 'Catamarca', 'La Rioja', 'Jujuy',\n",
       "       'La Pampa', 'Río Negro', 'Chubut', 'Santa Cruz',\n",
       "       'Tierra del Fuego, Antártida e Islas del Atlántico Sur', 'Neuquén',\n",
       "       nan], dtype=object)"
      ]
     },
     "execution_count": 505,
     "metadata": {},
     "output_type": "execute_result"
    }
   ],
   "source": [
    "df['province'].unique()"
   ]
  },
  {
   "cell_type": "code",
   "execution_count": 506,
   "metadata": {},
   "outputs": [
    {
     "name": "stdout",
     "output_type": "stream",
     "text": [
      "<class 'pandas.core.frame.DataFrame'>\n",
      "RangeIndex: 14995 entries, 0 to 14994\n",
      "Data columns (total 6 columns):\n",
      " #   Column           Non-Null Count  Dtype         \n",
      "---  ------           --------------  -----         \n",
      " 0   license_owner    14995 non-null  object        \n",
      " 1   callsign         14995 non-null  object        \n",
      " 2   category         14995 non-null  object        \n",
      " 3   expiration_date  14995 non-null  datetime64[ns]\n",
      " 4   province         14992 non-null  object        \n",
      " 5   city             14989 non-null  object        \n",
      "dtypes: datetime64[ns](1), object(5)\n",
      "memory usage: 703.0+ KB\n"
     ]
    }
   ],
   "source": [
    "df.info()"
   ]
  },
  {
   "attachments": {},
   "cell_type": "markdown",
   "metadata": {},
   "source": [
    "First, we perform some basic Data Quality operations"
   ]
  },
  {
   "cell_type": "code",
   "execution_count": 507,
   "metadata": {},
   "outputs": [
    {
     "data": {
      "text/plain": [
       "license_owner      0\n",
       "callsign           0\n",
       "category           0\n",
       "expiration_date    0\n",
       "province           3\n",
       "city               6\n",
       "dtype: int64"
      ]
     },
     "execution_count": 507,
     "metadata": {},
     "output_type": "execute_result"
    }
   ],
   "source": [
    "# Change dtype of Expiration date colunm\n",
    "df['expiration_date'] = pd.to_datetime(df['expiration_date'])\n",
    "\n",
    "# Check number of NaNs\n",
    "df.isna().sum()"
   ]
  },
  {
   "attachments": {},
   "cell_type": "markdown",
   "metadata": {},
   "source": [
    "We have some instances were the province or the city are not defined. While we can't do anything about the city, we can find out the corresponding state by looking at the callsign, in which the suffix (usually by the first letter) responds to the province of the station.\n",
    "\n",
    "Let's take a look into the missing ones:"
   ]
  },
  {
   "cell_type": "code",
   "execution_count": 508,
   "metadata": {},
   "outputs": [
    {
     "data": {
      "text/html": [
       "<div>\n",
       "<style scoped>\n",
       "    .dataframe tbody tr th:only-of-type {\n",
       "        vertical-align: middle;\n",
       "    }\n",
       "\n",
       "    .dataframe tbody tr th {\n",
       "        vertical-align: top;\n",
       "    }\n",
       "\n",
       "    .dataframe thead th {\n",
       "        text-align: right;\n",
       "    }\n",
       "</style>\n",
       "<table border=\"1\" class=\"dataframe\">\n",
       "  <thead>\n",
       "    <tr style=\"text-align: right;\">\n",
       "      <th></th>\n",
       "      <th>license_owner</th>\n",
       "      <th>callsign</th>\n",
       "      <th>category</th>\n",
       "      <th>expiration_date</th>\n",
       "      <th>province</th>\n",
       "      <th>city</th>\n",
       "    </tr>\n",
       "  </thead>\n",
       "  <tbody>\n",
       "    <tr>\n",
       "      <th>5322</th>\n",
       "      <td>JUAN CARLOS CHEHADHI</td>\n",
       "      <td>LU3OAB</td>\n",
       "      <td>Novicio</td>\n",
       "      <td>2023-10-16</td>\n",
       "      <td>NaN</td>\n",
       "      <td>NaN</td>\n",
       "    </tr>\n",
       "    <tr>\n",
       "      <th>8205</th>\n",
       "      <td>ESTEBAN MANDUCI</td>\n",
       "      <td>LU6EEM</td>\n",
       "      <td>Novicio</td>\n",
       "      <td>2023-09-14</td>\n",
       "      <td>NaN</td>\n",
       "      <td>NaN</td>\n",
       "    </tr>\n",
       "    <tr>\n",
       "      <th>9083</th>\n",
       "      <td>LEONARDO ANTONIO PAGLIARO</td>\n",
       "      <td>LU7DNI</td>\n",
       "      <td>Novicio</td>\n",
       "      <td>2023-07-13</td>\n",
       "      <td>NaN</td>\n",
       "      <td>NaN</td>\n",
       "    </tr>\n",
       "  </tbody>\n",
       "</table>\n",
       "</div>"
      ],
      "text/plain": [
       "                  license_owner callsign category expiration_date province  \\\n",
       "5322       JUAN CARLOS CHEHADHI   LU3OAB  Novicio      2023-10-16      NaN   \n",
       "8205            ESTEBAN MANDUCI   LU6EEM  Novicio      2023-09-14      NaN   \n",
       "9083  LEONARDO ANTONIO PAGLIARO   LU7DNI  Novicio      2023-07-13      NaN   \n",
       "\n",
       "     city  \n",
       "5322  NaN  \n",
       "8205  NaN  \n",
       "9083  NaN  "
      ]
     },
     "execution_count": 508,
     "metadata": {},
     "output_type": "execute_result"
    }
   ],
   "source": [
    "df.loc[df['province'].isna(), :]"
   ]
  },
  {
   "attachments": {},
   "cell_type": "markdown",
   "metadata": {},
   "source": [
    "We create a function that fills NaN values province based on the callsign structure:"
   ]
  },
  {
   "cell_type": "code",
   "execution_count": 509,
   "metadata": {},
   "outputs": [
    {
     "name": "stdout",
     "output_type": "stream",
     "text": [
      "NaNs in \"province\" column: 0\n"
     ]
    }
   ],
   "source": [
    "def fix_province_nan(callsign):\n",
    "    # State is defined by the first letter (and sometimes also second) of the suffix\n",
    "    first_letter = callsign[3]\n",
    "    second_letter = callsign[4]\n",
    "\n",
    "    match first_letter:\n",
    "        case 'A' | 'B' | 'C':\n",
    "            return 'Ciudad Autónoma de Buenos Aires'\n",
    "        case 'D' | 'E':\n",
    "            return 'Buenos Aires'\n",
    "        case 'F':\n",
    "            return 'Santa Fe'\n",
    "        case 'G':\n",
    "            if second_letter in [chr(i) for i in range(ord('A'), ord('P'))]:\n",
    "                return 'Chaco'\n",
    "            else:\n",
    "                return 'Formosa'\n",
    "        case 'H':\n",
    "            return 'Córdoba'\n",
    "        case 'I':\n",
    "            return 'Misiones'\n",
    "        case 'J':\n",
    "            return 'Entre Ríos'\n",
    "        case 'K':\n",
    "            return 'Tucumán'\n",
    "        case 'L':\n",
    "            return 'Corrientes'\n",
    "        case 'M':\n",
    "            return 'Mendoza'\n",
    "        case 'N':\n",
    "            return 'Santiago del Estero'\n",
    "        case 'O':\n",
    "            return 'Salta'\n",
    "        case 'P':\n",
    "            return 'San Juan'\n",
    "        case 'Q':\n",
    "            return 'San Luis'\n",
    "        case 'R':\n",
    "            return 'Catamarca'\n",
    "        case 'S':\n",
    "            return 'La Rioja'\n",
    "        case 'T':\n",
    "            return 'Jujuy'\n",
    "        case 'U':\n",
    "            return 'La Pampa'\n",
    "        case 'V':\n",
    "            return 'Río Negro' \n",
    "        case 'W':\n",
    "            return 'Chubut'\n",
    "        case 'X':\n",
    "            if second_letter in [chr(i) for i in range(ord('A'), ord('P'))]:\n",
    "                return 'Santa Cruz'\n",
    "            else:\n",
    "                return 'Tierra del Fuego, Antártida e Islas del Atlántico Sur'\n",
    "        case 'Y':\n",
    "            return 'Neuquén'\n",
    "        case 'Z':\n",
    "            return 'Tierra del Fuego, Antártida e Islas del Atlántico Sur'\n",
    "\n",
    "df['province'] = df.apply(lambda row: fix_province_nan(row['callsign']) if pd.isna(row['province']) else row['province'], axis=1)\n",
    "\n",
    "# Check if the function corrected the NaN\n",
    "print(f'NaNs in \"province\" column: {df[\"province\"].isna().sum()}')"
   ]
  },
  {
   "attachments": {},
   "cell_type": "markdown",
   "metadata": {},
   "source": [
    "## 3. Data Analysis\n",
    "\n",
    "First of all, I'm going to create a GeoDataFrame. This way, I can link the provinces geography from the GeoJSON with the province data and the amateur radio callsigns database.\n",
    "\n",
    "Had to rewind GeoJSON because if not, ot rendered properly. More info [here](https://pypi.org/project/geojson-rewind/)"
   ]
  },
  {
   "cell_type": "code",
   "execution_count": 510,
   "metadata": {},
   "outputs": [],
   "source": [
    "# Rewinded GeoJSON\n",
    "rewinded = rewind(arg_prov_shape, rfc7946=False)"
   ]
  },
  {
   "cell_type": "code",
   "execution_count": 533,
   "metadata": {},
   "outputs": [
    {
     "data": {
      "text/html": [
       "<div>\n",
       "<style scoped>\n",
       "    .dataframe tbody tr th:only-of-type {\n",
       "        vertical-align: middle;\n",
       "    }\n",
       "\n",
       "    .dataframe tbody tr th {\n",
       "        vertical-align: top;\n",
       "    }\n",
       "\n",
       "    .dataframe thead th {\n",
       "        text-align: right;\n",
       "    }\n",
       "</style>\n",
       "<table border=\"1\" class=\"dataframe\">\n",
       "  <thead>\n",
       "    <tr style=\"text-align: right;\">\n",
       "      <th></th>\n",
       "      <th>geometry</th>\n",
       "      <th>population</th>\n",
       "      <th>area</th>\n",
       "      <th>earnings</th>\n",
       "      <th>pop_density</th>\n",
       "      <th>latitude</th>\n",
       "      <th>total_licenses</th>\n",
       "      <th>novicio</th>\n",
       "      <th>general</th>\n",
       "      <th>superior</th>\n",
       "      <th>especial</th>\n",
       "      <th>licenses_perc_pop</th>\n",
       "    </tr>\n",
       "    <tr>\n",
       "      <th>province</th>\n",
       "      <th></th>\n",
       "      <th></th>\n",
       "      <th></th>\n",
       "      <th></th>\n",
       "      <th></th>\n",
       "      <th></th>\n",
       "      <th></th>\n",
       "      <th></th>\n",
       "      <th></th>\n",
       "      <th></th>\n",
       "      <th></th>\n",
       "      <th></th>\n",
       "    </tr>\n",
       "  </thead>\n",
       "  <tbody>\n",
       "    <tr>\n",
       "      <th>Tucumán</th>\n",
       "      <td>POLYGON ((-66.20361 -26.62782, -66.11572 -26.2...</td>\n",
       "      <td>1703186</td>\n",
       "      <td>22524</td>\n",
       "      <td>152862</td>\n",
       "      <td>75.62</td>\n",
       "      <td>26.953960</td>\n",
       "      <td>116</td>\n",
       "      <td>49</td>\n",
       "      <td>26</td>\n",
       "      <td>37</td>\n",
       "      <td>4</td>\n",
       "      <td>0.000068</td>\n",
       "    </tr>\n",
       "    <tr>\n",
       "      <th>Santiago del Estero</th>\n",
       "      <td>POLYGON ((-64.42108 -26.28356, -64.22333 -25.6...</td>\n",
       "      <td>1054028</td>\n",
       "      <td>136351</td>\n",
       "      <td>170466</td>\n",
       "      <td>7.73</td>\n",
       "      <td>27.771537</td>\n",
       "      <td>94</td>\n",
       "      <td>62</td>\n",
       "      <td>16</td>\n",
       "      <td>14</td>\n",
       "      <td>2</td>\n",
       "      <td>0.000089</td>\n",
       "    </tr>\n",
       "    <tr>\n",
       "      <th>Salta</th>\n",
       "      <td>POLYGON ((-66.11572 -26.21459, -66.21460 -26.1...</td>\n",
       "      <td>1440672</td>\n",
       "      <td>155488</td>\n",
       "      <td>241973</td>\n",
       "      <td>9.27</td>\n",
       "      <td>24.310458</td>\n",
       "      <td>118</td>\n",
       "      <td>54</td>\n",
       "      <td>33</td>\n",
       "      <td>27</td>\n",
       "      <td>4</td>\n",
       "      <td>0.000082</td>\n",
       "    </tr>\n",
       "    <tr>\n",
       "      <th>Jujuy</th>\n",
       "      <td>POLYGON ((-67.22534 -23.69483, -67.02759 -22.9...</td>\n",
       "      <td>797955</td>\n",
       "      <td>53219</td>\n",
       "      <td>153811</td>\n",
       "      <td>14.99</td>\n",
       "      <td>23.301782</td>\n",
       "      <td>27</td>\n",
       "      <td>17</td>\n",
       "      <td>1</td>\n",
       "      <td>8</td>\n",
       "      <td>1</td>\n",
       "      <td>0.000034</td>\n",
       "    </tr>\n",
       "    <tr>\n",
       "      <th>Formosa</th>\n",
       "      <td>POLYGON ((-62.35840 -24.08659, -62.40234 -22.4...</td>\n",
       "      <td>604278</td>\n",
       "      <td>72066</td>\n",
       "      <td>194757</td>\n",
       "      <td>8.39</td>\n",
       "      <td>24.847571</td>\n",
       "      <td>27</td>\n",
       "      <td>15</td>\n",
       "      <td>8</td>\n",
       "      <td>4</td>\n",
       "      <td>0</td>\n",
       "      <td>0.000045</td>\n",
       "    </tr>\n",
       "  </tbody>\n",
       "</table>\n",
       "</div>"
      ],
      "text/plain": [
       "                                                              geometry  \\\n",
       "province                                                                 \n",
       "Tucumán              POLYGON ((-66.20361 -26.62782, -66.11572 -26.2...   \n",
       "Santiago del Estero  POLYGON ((-64.42108 -26.28356, -64.22333 -25.6...   \n",
       "Salta                POLYGON ((-66.11572 -26.21459, -66.21460 -26.1...   \n",
       "Jujuy                POLYGON ((-67.22534 -23.69483, -67.02759 -22.9...   \n",
       "Formosa              POLYGON ((-62.35840 -24.08659, -62.40234 -22.4...   \n",
       "\n",
       "                     population    area  earnings  pop_density   latitude  \\\n",
       "province                                                                    \n",
       "Tucumán                 1703186   22524    152862        75.62  26.953960   \n",
       "Santiago del Estero     1054028  136351    170466         7.73  27.771537   \n",
       "Salta                   1440672  155488    241973         9.27  24.310458   \n",
       "Jujuy                    797955   53219    153811        14.99  23.301782   \n",
       "Formosa                  604278   72066    194757         8.39  24.847571   \n",
       "\n",
       "                     total_licenses  novicio  general  superior  especial  \\\n",
       "province                                                                    \n",
       "Tucumán                         116       49       26        37         4   \n",
       "Santiago del Estero              94       62       16        14         2   \n",
       "Salta                           118       54       33        27         4   \n",
       "Jujuy                            27       17        1         8         1   \n",
       "Formosa                          27       15        8         4         0   \n",
       "\n",
       "                     licenses_perc_pop  \n",
       "province                                \n",
       "Tucumán                       0.000068  \n",
       "Santiago del Estero           0.000089  \n",
       "Salta                         0.000082  \n",
       "Jujuy                         0.000034  \n",
       "Formosa                       0.000045  "
      ]
     },
     "execution_count": 533,
     "metadata": {},
     "output_type": "execute_result"
    }
   ],
   "source": [
    "# Create GeoDataFrame\n",
    "gdf = gpd.GeoDataFrame.from_features(rewinded)\n",
    "gdf = gdf.rename(columns={'nombre': 'province'})\n",
    "gdf = gdf.set_index('province')\n",
    "\n",
    "# Merge province data previously loaded from CSV\n",
    "gdf = gdf.merge(prov_data, on='province')\n",
    "gdf['latitude'] = abs(gdf['geometry'].centroid.y)\n",
    "\n",
    "# Auxiliary groupby DataFrame\n",
    "grouped_by_df = df.groupby(['province', 'category']).size().unstack().fillna(0)\n",
    "\n",
    "# Count number of licenses for each province\n",
    "gdf['total_licenses'] = df.groupby('province').size()\n",
    "\n",
    "# Count number of licenses of each category for each province\n",
    "for category in ['Novicio', 'General', 'Superior', 'Especial']:\n",
    "    gdf[category.lower()] = grouped_by_df[category].astype(int)\n",
    "\n",
    "# Generate an additional column with the licenses as percentage of population\n",
    "gdf['licenses_perc_pop'] = gdf['total_licenses'] / gdf['population']\n",
    "\n",
    "gdf.head()"
   ]
  },
  {
   "cell_type": "code",
   "execution_count": 775,
   "metadata": {},
   "outputs": [
    {
     "data": {
      "application/vnd.plotly.v1+json": {
       "config": {
        "plotlyServerURL": "https://plot.ly"
       },
       "data": [
        {
         "alignmentgroup": "True",
         "hovertemplate": "Licenses: %{y}<extra></extra>",
         "legendgroup": "total_licenses",
         "marker": {
          "color": "chocolate",
          "line": {
           "color": "DarkSlateGrey",
           "width": 1
          },
          "pattern": {
           "shape": ""
          }
         },
         "name": "total_licenses",
         "offsetgroup": "total_licenses",
         "orientation": "v",
         "showlegend": true,
         "textposition": "auto",
         "type": "bar",
         "x": [
          "Buenos Aires",
          "Ciudad Autónoma de Buenos Aires",
          "Córdoba",
          "Santa Fe",
          "Mendoza",
          "Entre Ríos",
          "Chubut",
          "Río Negro",
          "Neuquén",
          "Santa Cruz",
          "Corrientes",
          "San Juan",
          "Tierra del Fuego, Antártida e Islas del Atlántico Sur",
          "San Luis",
          "Misiones",
          "Chaco",
          "Salta",
          "Tucumán",
          "La Pampa",
          "Santiago del Estero",
          "Catamarca",
          "La Rioja",
          "Jujuy",
          "Formosa"
         ],
         "xaxis": "x",
         "y": [
          6537,
          1639,
          1377,
          1027,
          778,
          576,
          507,
          410,
          255,
          246,
          243,
          179,
          166,
          163,
          138,
          132,
          118,
          116,
          112,
          94,
          72,
          56,
          27,
          27
         ],
         "yaxis": "y"
        }
       ],
       "layout": {
        "barmode": "relative",
        "font": {
         "family": "Ubuntu"
        },
        "height": 700,
        "hovermode": "x unified",
        "legend": {
         "title": {
          "text": "variable"
         },
         "tracegroupgap": 0
        },
        "showlegend": false,
        "template": {
         "data": {
          "bar": [
           {
            "error_x": {
             "color": "rgb(36,36,36)"
            },
            "error_y": {
             "color": "rgb(36,36,36)"
            },
            "marker": {
             "line": {
              "color": "white",
              "width": 0.5
             },
             "pattern": {
              "fillmode": "overlay",
              "size": 10,
              "solidity": 0.2
             }
            },
            "type": "bar"
           }
          ],
          "barpolar": [
           {
            "marker": {
             "line": {
              "color": "white",
              "width": 0.5
             },
             "pattern": {
              "fillmode": "overlay",
              "size": 10,
              "solidity": 0.2
             }
            },
            "type": "barpolar"
           }
          ],
          "carpet": [
           {
            "aaxis": {
             "endlinecolor": "rgb(36,36,36)",
             "gridcolor": "white",
             "linecolor": "white",
             "minorgridcolor": "white",
             "startlinecolor": "rgb(36,36,36)"
            },
            "baxis": {
             "endlinecolor": "rgb(36,36,36)",
             "gridcolor": "white",
             "linecolor": "white",
             "minorgridcolor": "white",
             "startlinecolor": "rgb(36,36,36)"
            },
            "type": "carpet"
           }
          ],
          "choropleth": [
           {
            "colorbar": {
             "outlinewidth": 1,
             "tickcolor": "rgb(36,36,36)",
             "ticks": "outside"
            },
            "type": "choropleth"
           }
          ],
          "contour": [
           {
            "colorbar": {
             "outlinewidth": 1,
             "tickcolor": "rgb(36,36,36)",
             "ticks": "outside"
            },
            "colorscale": [
             [
              0,
              "#440154"
             ],
             [
              0.1111111111111111,
              "#482878"
             ],
             [
              0.2222222222222222,
              "#3e4989"
             ],
             [
              0.3333333333333333,
              "#31688e"
             ],
             [
              0.4444444444444444,
              "#26828e"
             ],
             [
              0.5555555555555556,
              "#1f9e89"
             ],
             [
              0.6666666666666666,
              "#35b779"
             ],
             [
              0.7777777777777778,
              "#6ece58"
             ],
             [
              0.8888888888888888,
              "#b5de2b"
             ],
             [
              1,
              "#fde725"
             ]
            ],
            "type": "contour"
           }
          ],
          "contourcarpet": [
           {
            "colorbar": {
             "outlinewidth": 1,
             "tickcolor": "rgb(36,36,36)",
             "ticks": "outside"
            },
            "type": "contourcarpet"
           }
          ],
          "heatmap": [
           {
            "colorbar": {
             "outlinewidth": 1,
             "tickcolor": "rgb(36,36,36)",
             "ticks": "outside"
            },
            "colorscale": [
             [
              0,
              "#440154"
             ],
             [
              0.1111111111111111,
              "#482878"
             ],
             [
              0.2222222222222222,
              "#3e4989"
             ],
             [
              0.3333333333333333,
              "#31688e"
             ],
             [
              0.4444444444444444,
              "#26828e"
             ],
             [
              0.5555555555555556,
              "#1f9e89"
             ],
             [
              0.6666666666666666,
              "#35b779"
             ],
             [
              0.7777777777777778,
              "#6ece58"
             ],
             [
              0.8888888888888888,
              "#b5de2b"
             ],
             [
              1,
              "#fde725"
             ]
            ],
            "type": "heatmap"
           }
          ],
          "heatmapgl": [
           {
            "colorbar": {
             "outlinewidth": 1,
             "tickcolor": "rgb(36,36,36)",
             "ticks": "outside"
            },
            "colorscale": [
             [
              0,
              "#440154"
             ],
             [
              0.1111111111111111,
              "#482878"
             ],
             [
              0.2222222222222222,
              "#3e4989"
             ],
             [
              0.3333333333333333,
              "#31688e"
             ],
             [
              0.4444444444444444,
              "#26828e"
             ],
             [
              0.5555555555555556,
              "#1f9e89"
             ],
             [
              0.6666666666666666,
              "#35b779"
             ],
             [
              0.7777777777777778,
              "#6ece58"
             ],
             [
              0.8888888888888888,
              "#b5de2b"
             ],
             [
              1,
              "#fde725"
             ]
            ],
            "type": "heatmapgl"
           }
          ],
          "histogram": [
           {
            "marker": {
             "line": {
              "color": "white",
              "width": 0.6
             }
            },
            "type": "histogram"
           }
          ],
          "histogram2d": [
           {
            "colorbar": {
             "outlinewidth": 1,
             "tickcolor": "rgb(36,36,36)",
             "ticks": "outside"
            },
            "colorscale": [
             [
              0,
              "#440154"
             ],
             [
              0.1111111111111111,
              "#482878"
             ],
             [
              0.2222222222222222,
              "#3e4989"
             ],
             [
              0.3333333333333333,
              "#31688e"
             ],
             [
              0.4444444444444444,
              "#26828e"
             ],
             [
              0.5555555555555556,
              "#1f9e89"
             ],
             [
              0.6666666666666666,
              "#35b779"
             ],
             [
              0.7777777777777778,
              "#6ece58"
             ],
             [
              0.8888888888888888,
              "#b5de2b"
             ],
             [
              1,
              "#fde725"
             ]
            ],
            "type": "histogram2d"
           }
          ],
          "histogram2dcontour": [
           {
            "colorbar": {
             "outlinewidth": 1,
             "tickcolor": "rgb(36,36,36)",
             "ticks": "outside"
            },
            "colorscale": [
             [
              0,
              "#440154"
             ],
             [
              0.1111111111111111,
              "#482878"
             ],
             [
              0.2222222222222222,
              "#3e4989"
             ],
             [
              0.3333333333333333,
              "#31688e"
             ],
             [
              0.4444444444444444,
              "#26828e"
             ],
             [
              0.5555555555555556,
              "#1f9e89"
             ],
             [
              0.6666666666666666,
              "#35b779"
             ],
             [
              0.7777777777777778,
              "#6ece58"
             ],
             [
              0.8888888888888888,
              "#b5de2b"
             ],
             [
              1,
              "#fde725"
             ]
            ],
            "type": "histogram2dcontour"
           }
          ],
          "mesh3d": [
           {
            "colorbar": {
             "outlinewidth": 1,
             "tickcolor": "rgb(36,36,36)",
             "ticks": "outside"
            },
            "type": "mesh3d"
           }
          ],
          "parcoords": [
           {
            "line": {
             "colorbar": {
              "outlinewidth": 1,
              "tickcolor": "rgb(36,36,36)",
              "ticks": "outside"
             }
            },
            "type": "parcoords"
           }
          ],
          "pie": [
           {
            "automargin": true,
            "type": "pie"
           }
          ],
          "scatter": [
           {
            "fillpattern": {
             "fillmode": "overlay",
             "size": 10,
             "solidity": 0.2
            },
            "type": "scatter"
           }
          ],
          "scatter3d": [
           {
            "line": {
             "colorbar": {
              "outlinewidth": 1,
              "tickcolor": "rgb(36,36,36)",
              "ticks": "outside"
             }
            },
            "marker": {
             "colorbar": {
              "outlinewidth": 1,
              "tickcolor": "rgb(36,36,36)",
              "ticks": "outside"
             }
            },
            "type": "scatter3d"
           }
          ],
          "scattercarpet": [
           {
            "marker": {
             "colorbar": {
              "outlinewidth": 1,
              "tickcolor": "rgb(36,36,36)",
              "ticks": "outside"
             }
            },
            "type": "scattercarpet"
           }
          ],
          "scattergeo": [
           {
            "marker": {
             "colorbar": {
              "outlinewidth": 1,
              "tickcolor": "rgb(36,36,36)",
              "ticks": "outside"
             }
            },
            "type": "scattergeo"
           }
          ],
          "scattergl": [
           {
            "marker": {
             "colorbar": {
              "outlinewidth": 1,
              "tickcolor": "rgb(36,36,36)",
              "ticks": "outside"
             }
            },
            "type": "scattergl"
           }
          ],
          "scattermapbox": [
           {
            "marker": {
             "colorbar": {
              "outlinewidth": 1,
              "tickcolor": "rgb(36,36,36)",
              "ticks": "outside"
             }
            },
            "type": "scattermapbox"
           }
          ],
          "scatterpolar": [
           {
            "marker": {
             "colorbar": {
              "outlinewidth": 1,
              "tickcolor": "rgb(36,36,36)",
              "ticks": "outside"
             }
            },
            "type": "scatterpolar"
           }
          ],
          "scatterpolargl": [
           {
            "marker": {
             "colorbar": {
              "outlinewidth": 1,
              "tickcolor": "rgb(36,36,36)",
              "ticks": "outside"
             }
            },
            "type": "scatterpolargl"
           }
          ],
          "scatterternary": [
           {
            "marker": {
             "colorbar": {
              "outlinewidth": 1,
              "tickcolor": "rgb(36,36,36)",
              "ticks": "outside"
             }
            },
            "type": "scatterternary"
           }
          ],
          "surface": [
           {
            "colorbar": {
             "outlinewidth": 1,
             "tickcolor": "rgb(36,36,36)",
             "ticks": "outside"
            },
            "colorscale": [
             [
              0,
              "#440154"
             ],
             [
              0.1111111111111111,
              "#482878"
             ],
             [
              0.2222222222222222,
              "#3e4989"
             ],
             [
              0.3333333333333333,
              "#31688e"
             ],
             [
              0.4444444444444444,
              "#26828e"
             ],
             [
              0.5555555555555556,
              "#1f9e89"
             ],
             [
              0.6666666666666666,
              "#35b779"
             ],
             [
              0.7777777777777778,
              "#6ece58"
             ],
             [
              0.8888888888888888,
              "#b5de2b"
             ],
             [
              1,
              "#fde725"
             ]
            ],
            "type": "surface"
           }
          ],
          "table": [
           {
            "cells": {
             "fill": {
              "color": "rgb(237,237,237)"
             },
             "line": {
              "color": "white"
             }
            },
            "header": {
             "fill": {
              "color": "rgb(217,217,217)"
             },
             "line": {
              "color": "white"
             }
            },
            "type": "table"
           }
          ]
         },
         "layout": {
          "annotationdefaults": {
           "arrowhead": 0,
           "arrowwidth": 1
          },
          "autotypenumbers": "strict",
          "coloraxis": {
           "colorbar": {
            "outlinewidth": 1,
            "tickcolor": "rgb(36,36,36)",
            "ticks": "outside"
           }
          },
          "colorscale": {
           "diverging": [
            [
             0,
             "rgb(103,0,31)"
            ],
            [
             0.1,
             "rgb(178,24,43)"
            ],
            [
             0.2,
             "rgb(214,96,77)"
            ],
            [
             0.3,
             "rgb(244,165,130)"
            ],
            [
             0.4,
             "rgb(253,219,199)"
            ],
            [
             0.5,
             "rgb(247,247,247)"
            ],
            [
             0.6,
             "rgb(209,229,240)"
            ],
            [
             0.7,
             "rgb(146,197,222)"
            ],
            [
             0.8,
             "rgb(67,147,195)"
            ],
            [
             0.9,
             "rgb(33,102,172)"
            ],
            [
             1,
             "rgb(5,48,97)"
            ]
           ],
           "sequential": [
            [
             0,
             "#440154"
            ],
            [
             0.1111111111111111,
             "#482878"
            ],
            [
             0.2222222222222222,
             "#3e4989"
            ],
            [
             0.3333333333333333,
             "#31688e"
            ],
            [
             0.4444444444444444,
             "#26828e"
            ],
            [
             0.5555555555555556,
             "#1f9e89"
            ],
            [
             0.6666666666666666,
             "#35b779"
            ],
            [
             0.7777777777777778,
             "#6ece58"
            ],
            [
             0.8888888888888888,
             "#b5de2b"
            ],
            [
             1,
             "#fde725"
            ]
           ],
           "sequentialminus": [
            [
             0,
             "#440154"
            ],
            [
             0.1111111111111111,
             "#482878"
            ],
            [
             0.2222222222222222,
             "#3e4989"
            ],
            [
             0.3333333333333333,
             "#31688e"
            ],
            [
             0.4444444444444444,
             "#26828e"
            ],
            [
             0.5555555555555556,
             "#1f9e89"
            ],
            [
             0.6666666666666666,
             "#35b779"
            ],
            [
             0.7777777777777778,
             "#6ece58"
            ],
            [
             0.8888888888888888,
             "#b5de2b"
            ],
            [
             1,
             "#fde725"
            ]
           ]
          },
          "colorway": [
           "#1F77B4",
           "#FF7F0E",
           "#2CA02C",
           "#D62728",
           "#9467BD",
           "#8C564B",
           "#E377C2",
           "#7F7F7F",
           "#BCBD22",
           "#17BECF"
          ],
          "font": {
           "color": "rgb(36,36,36)"
          },
          "geo": {
           "bgcolor": "white",
           "lakecolor": "white",
           "landcolor": "white",
           "showlakes": true,
           "showland": true,
           "subunitcolor": "white"
          },
          "hoverlabel": {
           "align": "left"
          },
          "hovermode": "closest",
          "mapbox": {
           "style": "light"
          },
          "paper_bgcolor": "white",
          "plot_bgcolor": "white",
          "polar": {
           "angularaxis": {
            "gridcolor": "rgb(232,232,232)",
            "linecolor": "rgb(36,36,36)",
            "showgrid": false,
            "showline": true,
            "ticks": "outside"
           },
           "bgcolor": "white",
           "radialaxis": {
            "gridcolor": "rgb(232,232,232)",
            "linecolor": "rgb(36,36,36)",
            "showgrid": false,
            "showline": true,
            "ticks": "outside"
           }
          },
          "scene": {
           "xaxis": {
            "backgroundcolor": "white",
            "gridcolor": "rgb(232,232,232)",
            "gridwidth": 2,
            "linecolor": "rgb(36,36,36)",
            "showbackground": true,
            "showgrid": false,
            "showline": true,
            "ticks": "outside",
            "zeroline": false,
            "zerolinecolor": "rgb(36,36,36)"
           },
           "yaxis": {
            "backgroundcolor": "white",
            "gridcolor": "rgb(232,232,232)",
            "gridwidth": 2,
            "linecolor": "rgb(36,36,36)",
            "showbackground": true,
            "showgrid": false,
            "showline": true,
            "ticks": "outside",
            "zeroline": false,
            "zerolinecolor": "rgb(36,36,36)"
           },
           "zaxis": {
            "backgroundcolor": "white",
            "gridcolor": "rgb(232,232,232)",
            "gridwidth": 2,
            "linecolor": "rgb(36,36,36)",
            "showbackground": true,
            "showgrid": false,
            "showline": true,
            "ticks": "outside",
            "zeroline": false,
            "zerolinecolor": "rgb(36,36,36)"
           }
          },
          "shapedefaults": {
           "fillcolor": "black",
           "line": {
            "width": 0
           },
           "opacity": 0.3
          },
          "ternary": {
           "aaxis": {
            "gridcolor": "rgb(232,232,232)",
            "linecolor": "rgb(36,36,36)",
            "showgrid": false,
            "showline": true,
            "ticks": "outside"
           },
           "baxis": {
            "gridcolor": "rgb(232,232,232)",
            "linecolor": "rgb(36,36,36)",
            "showgrid": false,
            "showline": true,
            "ticks": "outside"
           },
           "bgcolor": "white",
           "caxis": {
            "gridcolor": "rgb(232,232,232)",
            "linecolor": "rgb(36,36,36)",
            "showgrid": false,
            "showline": true,
            "ticks": "outside"
           }
          },
          "title": {
           "x": 0.05
          },
          "xaxis": {
           "automargin": true,
           "gridcolor": "rgb(232,232,232)",
           "linecolor": "rgb(36,36,36)",
           "showgrid": false,
           "showline": true,
           "ticks": "outside",
           "title": {
            "standoff": 15
           },
           "zeroline": false,
           "zerolinecolor": "rgb(36,36,36)"
          },
          "yaxis": {
           "automargin": true,
           "gridcolor": "rgb(232,232,232)",
           "linecolor": "rgb(36,36,36)",
           "showgrid": false,
           "showline": true,
           "ticks": "outside",
           "title": {
            "standoff": 15
           },
           "zeroline": false,
           "zerolinecolor": "rgb(36,36,36)"
          }
         }
        },
        "title": {
         "font": {
          "size": 20
         },
         "text": "Total Amateur Radio Licenses per Province"
        },
        "xaxis": {
         "anchor": "y",
         "domain": [
          0,
          1
         ],
         "title": {}
        },
        "yaxis": {
         "anchor": "x",
         "domain": [
          0,
          1
         ],
         "title": {}
        }
       }
      }
     },
     "metadata": {},
     "output_type": "display_data"
    }
   ],
   "source": [
    "fig1 = px.bar(gdf['total_licenses'].sort_values(ascending=False), title='Total Amateur Radio Licenses per Province', template='simple_white')\n",
    "fig1.update_layout(height=700, font_family='Ubuntu', title_font_size=20, xaxis_title=None, yaxis_title=None, showlegend=False)\n",
    "fig1.update_traces(marker_color='chocolate', marker_line_color='DarkSlateGrey', marker_line_width=1, hovertemplate='Licenses: %{y}<extra></extra>')\n",
    "fig1.update_layout(hovermode='x unified')\n",
    "fig1.show()"
   ]
  },
  {
   "cell_type": "code",
   "execution_count": 793,
   "metadata": {},
   "outputs": [
    {
     "data": {
      "application/vnd.plotly.v1+json": {
       "config": {
        "plotlyServerURL": "https://plot.ly"
       },
       "data": [
        {
         "hovertemplate": "With it %{y:.2%} of Total Licenses<extra></extra>",
         "legendgroup": "total_licenses",
         "line": {
          "color": "goldenrod",
          "dash": "solid",
          "width": 2.5
         },
         "marker": {
          "color": "chocolate",
          "line": {
           "color": "DarkSlateGrey",
           "width": 2
          },
          "size": 10,
          "symbol": "circle"
         },
         "mode": "lines+markers",
         "name": "total_licenses",
         "orientation": "v",
         "showlegend": true,
         "type": "scatter",
         "x": [
          "Buenos Aires",
          "Ciudad Autónoma de Buenos Aires",
          "Córdoba",
          "Santa Fe",
          "Mendoza",
          "Entre Ríos",
          "Chubut",
          "Río Negro",
          "Neuquén",
          "Santa Cruz",
          "Corrientes",
          "San Juan",
          "Tierra del Fuego, Antártida e Islas del Atlántico Sur",
          "San Luis",
          "Misiones",
          "Chaco",
          "Salta",
          "Tucumán",
          "La Pampa",
          "Santiago del Estero",
          "Catamarca",
          "La Rioja",
          "Jujuy",
          "Formosa"
         ],
         "xaxis": "x",
         "y": [
          0.43594531510503504,
          0.5452484161387129,
          0.637079026342114,
          0.705568522840947,
          0.7574524841613871,
          0.7958652884294765,
          0.829676558852951,
          0.8570190063354451,
          0.8740246748916305,
          0.890430143381127,
          0.9066355451817273,
          0.9185728576192064,
          0.9296432144048016,
          0.9405135045015005,
          0.9497165721907302,
          0.9585195065021674,
          0.9663887962654218,
          0.9741247082360787,
          0.9815938646215405,
          0.9878626208736245,
          0.9926642214071357,
          0.9963987995998667,
          0.9981993997999333,
          1
         ],
         "yaxis": "y"
        }
       ],
       "layout": {
        "annotations": [
         {
          "showarrow": false,
          "text": "50% of all licenses",
          "x": 1,
          "xref": "paper",
          "y": 0.5,
          "yref": "paper"
         },
         {
          "showarrow": false,
          "text": "75% of all licenses",
          "x": 1,
          "xref": "paper",
          "y": 0.76,
          "yref": "paper"
         }
        ],
        "font": {
         "family": "Ubuntu"
        },
        "height": 700,
        "hovermode": "x unified",
        "legend": {
         "title": {
          "text": "variable"
         },
         "tracegroupgap": 0
        },
        "shapes": [
         {
          "line": {
           "color": "navy",
           "dash": "dash",
           "width": 2
          },
          "opacity": 1,
          "type": "line",
          "x0": 0,
          "x1": 1,
          "xref": "x domain",
          "y0": 0.5,
          "y1": 0.5,
          "yref": "y"
         },
         {
          "line": {
           "color": "navy",
           "dash": "dash",
           "width": 2
          },
          "opacity": 1,
          "type": "line",
          "x0": 0,
          "x1": 1,
          "xref": "x domain",
          "y0": 0.75,
          "y1": 0.75,
          "yref": "y"
         }
        ],
        "showlegend": false,
        "template": {
         "data": {
          "bar": [
           {
            "error_x": {
             "color": "rgb(36,36,36)"
            },
            "error_y": {
             "color": "rgb(36,36,36)"
            },
            "marker": {
             "line": {
              "color": "white",
              "width": 0.5
             },
             "pattern": {
              "fillmode": "overlay",
              "size": 10,
              "solidity": 0.2
             }
            },
            "type": "bar"
           }
          ],
          "barpolar": [
           {
            "marker": {
             "line": {
              "color": "white",
              "width": 0.5
             },
             "pattern": {
              "fillmode": "overlay",
              "size": 10,
              "solidity": 0.2
             }
            },
            "type": "barpolar"
           }
          ],
          "carpet": [
           {
            "aaxis": {
             "endlinecolor": "rgb(36,36,36)",
             "gridcolor": "white",
             "linecolor": "white",
             "minorgridcolor": "white",
             "startlinecolor": "rgb(36,36,36)"
            },
            "baxis": {
             "endlinecolor": "rgb(36,36,36)",
             "gridcolor": "white",
             "linecolor": "white",
             "minorgridcolor": "white",
             "startlinecolor": "rgb(36,36,36)"
            },
            "type": "carpet"
           }
          ],
          "choropleth": [
           {
            "colorbar": {
             "outlinewidth": 1,
             "tickcolor": "rgb(36,36,36)",
             "ticks": "outside"
            },
            "type": "choropleth"
           }
          ],
          "contour": [
           {
            "colorbar": {
             "outlinewidth": 1,
             "tickcolor": "rgb(36,36,36)",
             "ticks": "outside"
            },
            "colorscale": [
             [
              0,
              "#440154"
             ],
             [
              0.1111111111111111,
              "#482878"
             ],
             [
              0.2222222222222222,
              "#3e4989"
             ],
             [
              0.3333333333333333,
              "#31688e"
             ],
             [
              0.4444444444444444,
              "#26828e"
             ],
             [
              0.5555555555555556,
              "#1f9e89"
             ],
             [
              0.6666666666666666,
              "#35b779"
             ],
             [
              0.7777777777777778,
              "#6ece58"
             ],
             [
              0.8888888888888888,
              "#b5de2b"
             ],
             [
              1,
              "#fde725"
             ]
            ],
            "type": "contour"
           }
          ],
          "contourcarpet": [
           {
            "colorbar": {
             "outlinewidth": 1,
             "tickcolor": "rgb(36,36,36)",
             "ticks": "outside"
            },
            "type": "contourcarpet"
           }
          ],
          "heatmap": [
           {
            "colorbar": {
             "outlinewidth": 1,
             "tickcolor": "rgb(36,36,36)",
             "ticks": "outside"
            },
            "colorscale": [
             [
              0,
              "#440154"
             ],
             [
              0.1111111111111111,
              "#482878"
             ],
             [
              0.2222222222222222,
              "#3e4989"
             ],
             [
              0.3333333333333333,
              "#31688e"
             ],
             [
              0.4444444444444444,
              "#26828e"
             ],
             [
              0.5555555555555556,
              "#1f9e89"
             ],
             [
              0.6666666666666666,
              "#35b779"
             ],
             [
              0.7777777777777778,
              "#6ece58"
             ],
             [
              0.8888888888888888,
              "#b5de2b"
             ],
             [
              1,
              "#fde725"
             ]
            ],
            "type": "heatmap"
           }
          ],
          "heatmapgl": [
           {
            "colorbar": {
             "outlinewidth": 1,
             "tickcolor": "rgb(36,36,36)",
             "ticks": "outside"
            },
            "colorscale": [
             [
              0,
              "#440154"
             ],
             [
              0.1111111111111111,
              "#482878"
             ],
             [
              0.2222222222222222,
              "#3e4989"
             ],
             [
              0.3333333333333333,
              "#31688e"
             ],
             [
              0.4444444444444444,
              "#26828e"
             ],
             [
              0.5555555555555556,
              "#1f9e89"
             ],
             [
              0.6666666666666666,
              "#35b779"
             ],
             [
              0.7777777777777778,
              "#6ece58"
             ],
             [
              0.8888888888888888,
              "#b5de2b"
             ],
             [
              1,
              "#fde725"
             ]
            ],
            "type": "heatmapgl"
           }
          ],
          "histogram": [
           {
            "marker": {
             "line": {
              "color": "white",
              "width": 0.6
             }
            },
            "type": "histogram"
           }
          ],
          "histogram2d": [
           {
            "colorbar": {
             "outlinewidth": 1,
             "tickcolor": "rgb(36,36,36)",
             "ticks": "outside"
            },
            "colorscale": [
             [
              0,
              "#440154"
             ],
             [
              0.1111111111111111,
              "#482878"
             ],
             [
              0.2222222222222222,
              "#3e4989"
             ],
             [
              0.3333333333333333,
              "#31688e"
             ],
             [
              0.4444444444444444,
              "#26828e"
             ],
             [
              0.5555555555555556,
              "#1f9e89"
             ],
             [
              0.6666666666666666,
              "#35b779"
             ],
             [
              0.7777777777777778,
              "#6ece58"
             ],
             [
              0.8888888888888888,
              "#b5de2b"
             ],
             [
              1,
              "#fde725"
             ]
            ],
            "type": "histogram2d"
           }
          ],
          "histogram2dcontour": [
           {
            "colorbar": {
             "outlinewidth": 1,
             "tickcolor": "rgb(36,36,36)",
             "ticks": "outside"
            },
            "colorscale": [
             [
              0,
              "#440154"
             ],
             [
              0.1111111111111111,
              "#482878"
             ],
             [
              0.2222222222222222,
              "#3e4989"
             ],
             [
              0.3333333333333333,
              "#31688e"
             ],
             [
              0.4444444444444444,
              "#26828e"
             ],
             [
              0.5555555555555556,
              "#1f9e89"
             ],
             [
              0.6666666666666666,
              "#35b779"
             ],
             [
              0.7777777777777778,
              "#6ece58"
             ],
             [
              0.8888888888888888,
              "#b5de2b"
             ],
             [
              1,
              "#fde725"
             ]
            ],
            "type": "histogram2dcontour"
           }
          ],
          "mesh3d": [
           {
            "colorbar": {
             "outlinewidth": 1,
             "tickcolor": "rgb(36,36,36)",
             "ticks": "outside"
            },
            "type": "mesh3d"
           }
          ],
          "parcoords": [
           {
            "line": {
             "colorbar": {
              "outlinewidth": 1,
              "tickcolor": "rgb(36,36,36)",
              "ticks": "outside"
             }
            },
            "type": "parcoords"
           }
          ],
          "pie": [
           {
            "automargin": true,
            "type": "pie"
           }
          ],
          "scatter": [
           {
            "fillpattern": {
             "fillmode": "overlay",
             "size": 10,
             "solidity": 0.2
            },
            "type": "scatter"
           }
          ],
          "scatter3d": [
           {
            "line": {
             "colorbar": {
              "outlinewidth": 1,
              "tickcolor": "rgb(36,36,36)",
              "ticks": "outside"
             }
            },
            "marker": {
             "colorbar": {
              "outlinewidth": 1,
              "tickcolor": "rgb(36,36,36)",
              "ticks": "outside"
             }
            },
            "type": "scatter3d"
           }
          ],
          "scattercarpet": [
           {
            "marker": {
             "colorbar": {
              "outlinewidth": 1,
              "tickcolor": "rgb(36,36,36)",
              "ticks": "outside"
             }
            },
            "type": "scattercarpet"
           }
          ],
          "scattergeo": [
           {
            "marker": {
             "colorbar": {
              "outlinewidth": 1,
              "tickcolor": "rgb(36,36,36)",
              "ticks": "outside"
             }
            },
            "type": "scattergeo"
           }
          ],
          "scattergl": [
           {
            "marker": {
             "colorbar": {
              "outlinewidth": 1,
              "tickcolor": "rgb(36,36,36)",
              "ticks": "outside"
             }
            },
            "type": "scattergl"
           }
          ],
          "scattermapbox": [
           {
            "marker": {
             "colorbar": {
              "outlinewidth": 1,
              "tickcolor": "rgb(36,36,36)",
              "ticks": "outside"
             }
            },
            "type": "scattermapbox"
           }
          ],
          "scatterpolar": [
           {
            "marker": {
             "colorbar": {
              "outlinewidth": 1,
              "tickcolor": "rgb(36,36,36)",
              "ticks": "outside"
             }
            },
            "type": "scatterpolar"
           }
          ],
          "scatterpolargl": [
           {
            "marker": {
             "colorbar": {
              "outlinewidth": 1,
              "tickcolor": "rgb(36,36,36)",
              "ticks": "outside"
             }
            },
            "type": "scatterpolargl"
           }
          ],
          "scatterternary": [
           {
            "marker": {
             "colorbar": {
              "outlinewidth": 1,
              "tickcolor": "rgb(36,36,36)",
              "ticks": "outside"
             }
            },
            "type": "scatterternary"
           }
          ],
          "surface": [
           {
            "colorbar": {
             "outlinewidth": 1,
             "tickcolor": "rgb(36,36,36)",
             "ticks": "outside"
            },
            "colorscale": [
             [
              0,
              "#440154"
             ],
             [
              0.1111111111111111,
              "#482878"
             ],
             [
              0.2222222222222222,
              "#3e4989"
             ],
             [
              0.3333333333333333,
              "#31688e"
             ],
             [
              0.4444444444444444,
              "#26828e"
             ],
             [
              0.5555555555555556,
              "#1f9e89"
             ],
             [
              0.6666666666666666,
              "#35b779"
             ],
             [
              0.7777777777777778,
              "#6ece58"
             ],
             [
              0.8888888888888888,
              "#b5de2b"
             ],
             [
              1,
              "#fde725"
             ]
            ],
            "type": "surface"
           }
          ],
          "table": [
           {
            "cells": {
             "fill": {
              "color": "rgb(237,237,237)"
             },
             "line": {
              "color": "white"
             }
            },
            "header": {
             "fill": {
              "color": "rgb(217,217,217)"
             },
             "line": {
              "color": "white"
             }
            },
            "type": "table"
           }
          ]
         },
         "layout": {
          "annotationdefaults": {
           "arrowhead": 0,
           "arrowwidth": 1
          },
          "autotypenumbers": "strict",
          "coloraxis": {
           "colorbar": {
            "outlinewidth": 1,
            "tickcolor": "rgb(36,36,36)",
            "ticks": "outside"
           }
          },
          "colorscale": {
           "diverging": [
            [
             0,
             "rgb(103,0,31)"
            ],
            [
             0.1,
             "rgb(178,24,43)"
            ],
            [
             0.2,
             "rgb(214,96,77)"
            ],
            [
             0.3,
             "rgb(244,165,130)"
            ],
            [
             0.4,
             "rgb(253,219,199)"
            ],
            [
             0.5,
             "rgb(247,247,247)"
            ],
            [
             0.6,
             "rgb(209,229,240)"
            ],
            [
             0.7,
             "rgb(146,197,222)"
            ],
            [
             0.8,
             "rgb(67,147,195)"
            ],
            [
             0.9,
             "rgb(33,102,172)"
            ],
            [
             1,
             "rgb(5,48,97)"
            ]
           ],
           "sequential": [
            [
             0,
             "#440154"
            ],
            [
             0.1111111111111111,
             "#482878"
            ],
            [
             0.2222222222222222,
             "#3e4989"
            ],
            [
             0.3333333333333333,
             "#31688e"
            ],
            [
             0.4444444444444444,
             "#26828e"
            ],
            [
             0.5555555555555556,
             "#1f9e89"
            ],
            [
             0.6666666666666666,
             "#35b779"
            ],
            [
             0.7777777777777778,
             "#6ece58"
            ],
            [
             0.8888888888888888,
             "#b5de2b"
            ],
            [
             1,
             "#fde725"
            ]
           ],
           "sequentialminus": [
            [
             0,
             "#440154"
            ],
            [
             0.1111111111111111,
             "#482878"
            ],
            [
             0.2222222222222222,
             "#3e4989"
            ],
            [
             0.3333333333333333,
             "#31688e"
            ],
            [
             0.4444444444444444,
             "#26828e"
            ],
            [
             0.5555555555555556,
             "#1f9e89"
            ],
            [
             0.6666666666666666,
             "#35b779"
            ],
            [
             0.7777777777777778,
             "#6ece58"
            ],
            [
             0.8888888888888888,
             "#b5de2b"
            ],
            [
             1,
             "#fde725"
            ]
           ]
          },
          "colorway": [
           "#1F77B4",
           "#FF7F0E",
           "#2CA02C",
           "#D62728",
           "#9467BD",
           "#8C564B",
           "#E377C2",
           "#7F7F7F",
           "#BCBD22",
           "#17BECF"
          ],
          "font": {
           "color": "rgb(36,36,36)"
          },
          "geo": {
           "bgcolor": "white",
           "lakecolor": "white",
           "landcolor": "white",
           "showlakes": true,
           "showland": true,
           "subunitcolor": "white"
          },
          "hoverlabel": {
           "align": "left"
          },
          "hovermode": "closest",
          "mapbox": {
           "style": "light"
          },
          "paper_bgcolor": "white",
          "plot_bgcolor": "white",
          "polar": {
           "angularaxis": {
            "gridcolor": "rgb(232,232,232)",
            "linecolor": "rgb(36,36,36)",
            "showgrid": false,
            "showline": true,
            "ticks": "outside"
           },
           "bgcolor": "white",
           "radialaxis": {
            "gridcolor": "rgb(232,232,232)",
            "linecolor": "rgb(36,36,36)",
            "showgrid": false,
            "showline": true,
            "ticks": "outside"
           }
          },
          "scene": {
           "xaxis": {
            "backgroundcolor": "white",
            "gridcolor": "rgb(232,232,232)",
            "gridwidth": 2,
            "linecolor": "rgb(36,36,36)",
            "showbackground": true,
            "showgrid": false,
            "showline": true,
            "ticks": "outside",
            "zeroline": false,
            "zerolinecolor": "rgb(36,36,36)"
           },
           "yaxis": {
            "backgroundcolor": "white",
            "gridcolor": "rgb(232,232,232)",
            "gridwidth": 2,
            "linecolor": "rgb(36,36,36)",
            "showbackground": true,
            "showgrid": false,
            "showline": true,
            "ticks": "outside",
            "zeroline": false,
            "zerolinecolor": "rgb(36,36,36)"
           },
           "zaxis": {
            "backgroundcolor": "white",
            "gridcolor": "rgb(232,232,232)",
            "gridwidth": 2,
            "linecolor": "rgb(36,36,36)",
            "showbackground": true,
            "showgrid": false,
            "showline": true,
            "ticks": "outside",
            "zeroline": false,
            "zerolinecolor": "rgb(36,36,36)"
           }
          },
          "shapedefaults": {
           "fillcolor": "black",
           "line": {
            "width": 0
           },
           "opacity": 0.3
          },
          "ternary": {
           "aaxis": {
            "gridcolor": "rgb(232,232,232)",
            "linecolor": "rgb(36,36,36)",
            "showgrid": false,
            "showline": true,
            "ticks": "outside"
           },
           "baxis": {
            "gridcolor": "rgb(232,232,232)",
            "linecolor": "rgb(36,36,36)",
            "showgrid": false,
            "showline": true,
            "ticks": "outside"
           },
           "bgcolor": "white",
           "caxis": {
            "gridcolor": "rgb(232,232,232)",
            "linecolor": "rgb(36,36,36)",
            "showgrid": false,
            "showline": true,
            "ticks": "outside"
           }
          },
          "title": {
           "x": 0.05
          },
          "xaxis": {
           "automargin": true,
           "gridcolor": "rgb(232,232,232)",
           "linecolor": "rgb(36,36,36)",
           "showgrid": false,
           "showline": true,
           "ticks": "outside",
           "title": {
            "standoff": 15
           },
           "zeroline": false,
           "zerolinecolor": "rgb(36,36,36)"
          },
          "yaxis": {
           "automargin": true,
           "gridcolor": "rgb(232,232,232)",
           "linecolor": "rgb(36,36,36)",
           "showgrid": false,
           "showline": true,
           "ticks": "outside",
           "title": {
            "standoff": 15
           },
           "zeroline": false,
           "zerolinecolor": "rgb(36,36,36)"
          }
         }
        },
        "title": {
         "font": {
          "size": 20
         },
         "text": "Cumulative Amateru Radio Licenses"
        },
        "xaxis": {
         "anchor": "y",
         "domain": [
          0,
          1
         ],
         "title": {}
        },
        "yaxis": {
         "anchor": "x",
         "domain": [
          0,
          1
         ],
         "range": [
          0,
          1.05
         ],
         "tickformat": ",.0%",
         "title": {}
        }
       }
      }
     },
     "metadata": {},
     "output_type": "display_data"
    }
   ],
   "source": [
    "aux = gdf['total_licenses'].sort_values(ascending=False).cumsum() / df.shape[0]\n",
    "fig0 = px.line(aux, title='Cumulative Amateru Radio Licenses', template='simple_white', markers=True)\n",
    "fig0.update_layout(height=700, font_family='Ubuntu', title_font_size=20, xaxis_title=None, yaxis_title=None, showlegend=False)\n",
    "fig0.update_traces(line_color='goldenrod', line_width=2.5, marker_size=10, marker_color='chocolate', marker_line_color='DarkSlateGrey', marker_line_width=2, hovertemplate='With it %{y:.2%} of Total Licenses<extra></extra>')\n",
    "fig0.update_layout(hovermode='x unified')\n",
    "fig0.update_layout(yaxis={'tickformat': ',.0%',\n",
    "                    'range': [0,1.05]})\n",
    "fig0.add_hline(y=0.5, opacity=1, line_width=2, line_dash='dash', line_color='navy')\n",
    "fig0.add_hline(y=0.75, opacity=1, line_width=2, line_dash='dash', line_color='navy')\n",
    "fig0.add_annotation(text='50% of all licenses',\n",
    "                  xref='paper', yref='paper',\n",
    "                  x=1, y=0.50, showarrow=False)\n",
    "fig0.add_annotation(text='75% of all licenses',\n",
    "                  xref='paper', yref='paper',\n",
    "                  x=1, y=0.76, showarrow=False)\n",
    "\n",
    "fig0.show()"
   ]
  },
  {
   "cell_type": "code",
   "execution_count": 784,
   "metadata": {},
   "outputs": [
    {
     "data": {
      "application/vnd.plotly.v1+json": {
       "config": {
        "plotlyServerURL": "https://plot.ly"
       },
       "data": [
        {
         "coloraxis": "coloraxis",
         "geojson": {
          "bbox": [
           -73.564453125,
           -55.040614327716725,
           -53.646240234375,
           -21.769702899409655
          ],
          "features": [
           {
            "bbox": [
             -66.20361328125,
             -27.994401411046148,
             -64.4677734375,
             -26.07652055985696
            ],
            "geometry": {
             "coordinates": [
              [
               [
                -66.20361328125,
                -26.62781822639305
               ],
               [
                -66.11572265625,
                -26.2145910237943
               ],
               [
                -65.85205078125,
                -26.31311263768267
               ],
               [
                -65.36865234375,
                -26.07652055985696
               ],
               [
                -64.4677734375,
                -26.29341500426577
               ],
               [
                -65.0390625,
                -27.89734922968425
               ],
               [
                -65.4345703125,
                -27.89734922968425
               ],
               [
                -65.6103515625,
                -27.994401411046148
               ],
               [
                -66.181640625,
                -27.274161117374668
               ],
               [
                -65.89599609375,
                -26.92206991673281
               ],
               [
                -65.830078125,
                -26.725986812271756
               ],
               [
                -66.0498046875,
                -26.64745870265937
               ],
               [
                -66.20361328125,
                -26.62781822639305
               ]
              ]
             ],
             "type": "Polygon"
            },
            "id": "Tucumán",
            "properties": {},
            "type": "Feature"
           },
           {
            "bbox": [
             -65.18463134765625,
             -30.439202087235568,
             -61.58660888671873,
             -25.651430347039724
            ],
            "geometry": {
             "coordinates": [
              [
               [
                -64.42108154296874,
                -26.28356493253137
               ],
               [
                -64.22332763671874,
                -25.651430347039724
               ],
               [
                -61.58660888671873,
                -25.671235828577018
               ],
               [
                -62.091979980468736,
                -30.439202087235568
               ],
               [
                -62.79510498046873,
                -29.869228848968298
               ],
               [
                -64.81658935546872,
                -29.506549442788607
               ],
               [
                -64.88250732421875,
                -28.7965462417692
               ],
               [
                -65.08026123046874,
                -28.738763971370293
               ],
               [
                -65.18463134765625,
                -27.931327412293648
               ],
               [
                -65.0390625,
                -27.885211577912145
               ],
               [
                -64.42108154296874,
                -26.28356493253137
               ]
              ]
             ],
             "type": "Polygon"
            },
            "id": "Santiago del Estero",
            "properties": {},
            "type": "Feature"
           },
           {
            "bbox": [
             -68.57666015625,
             -26.401710528707692,
             -62.33642578125001,
             -22.004174972901993
            ],
            "geometry": {
             "coordinates": [
              [
               [
                -66.11572265625,
                -26.2145910237943
               ],
               [
                -66.214599609375,
                -26.13571361317392
               ],
               [
                -66.390380859375,
                -26.401710528707692
               ],
               [
                -66.851806640625,
                -26.017297563851745
               ],
               [
                -66.884765625,
                -25.74052909277321
               ],
               [
                -66.68701171875,
                -25.710836919640595
               ],
               [
                -66.533203125,
                -25.393660521998022
               ],
               [
                -66.610107421875,
                -25.29437116258816
               ],
               [
                -68.499755859375,
                -25.17511653162175
               ],
               [
                -68.37890625,
                -25.085598897064763
               ],
               [
                -68.57666015625,
                -24.78673454198888
               ],
               [
                -68.40087890624999,
                -24.487148563173424
               ],
               [
                -67.313232421875,
                -24.066528197726857
               ],
               [
                -67.225341796875,
                -23.694834722205936
               ],
               [
                -66.46728515624999,
                -24.20688962239801
               ],
               [
                -66.2255859375,
                -23.433009077420344
               ],
               [
                -65.950927734375,
                -23.51362636346272
               ],
               [
                -65.994873046875,
                -23.96617587126503
               ],
               [
                -65.7421875,
                -24.096618611278767
               ],
               [
                -65.654296875,
                -24.397133017391038
               ],
               [
                -64.951171875,
                -24.597080137096412
               ],
               [
                -64.83032226562499,
                -24.44714958973082
               ],
               [
                -64.64355468749999,
                -24.597080137096412
               ],
               [
                -64.18212890625,
                -24.226928664976363
               ],
               [
                -64.171142578125,
                -23.50355189742412
               ],
               [
                -64.35791015625,
                -23.49347666096087
               ],
               [
                -64.434814453125,
                -23.624394569716923
               ],
               [
                -65.28076171875,
                -22.92804166565175
               ],
               [
                -65.23681640625,
                -22.09581971780769
               ],
               [
                -64.5556640625,
                -22.268764039073968
               ],
               [
                -64.31396484375,
                -22.847070687839064
               ],
               [
                -63.951416015625,
                -22.034729817044195
               ],
               [
                -62.81982421875001,
                -22.004174972901993
               ],
               [
                -62.80883789062499,
                -22.15688318686069
               ],
               [
                -62.347412109375,
                -22.49225722008518
               ],
               [
                -62.33642578125001,
                -24.397133017391038
               ],
               [
                -63.45703124999999,
                -25.661333498952683
               ],
               [
                -64.215087890625,
                -25.641526373065755
               ],
               [
                -64.4677734375,
                -26.29341500426577
               ],
               [
                -65.379638671875,
                -26.056782885778798
               ],
               [
                -65.85205078125,
                -26.322960198925365
               ],
               [
                -66.11572265625,
                -26.2145910237943
               ]
              ]
             ],
             "type": "Polygon"
            },
            "id": "Salta",
            "properties": {},
            "type": "Feature"
           },
           {
            "bbox": [
             -67.225341796875,
             -24.597080137096412,
             -64.193115234375,
             -21.769702899409655
            ],
            "geometry": {
             "coordinates": [
              [
               [
                -67.225341796875,
                -23.694834722205936
               ],
               [
                -67.027587890625,
                -22.98873816096073
               ],
               [
                -67.19238281249999,
                -22.806567100271508
               ],
               [
                -67.1484375,
                -22.695120184965685
               ],
               [
                -67.027587890625,
                -22.664709810176813
               ],
               [
                -67.00561523437499,
                -22.52270570348246
               ],
               [
                -66.785888671875,
                -22.421184710331858
               ],
               [
                -66.73095703125,
                -22.207749178410847
               ],
               [
                -66.302490234375,
                -22.09581971780769
               ],
               [
                -66.236572265625,
                -21.769702899409655
               ],
               [
                -65.753173828125,
                -22.09581971780769
               ],
               [
                -65.247802734375,
                -22.09581971780769
               ],
               [
                -65.291748046875,
                -22.92804166565175
               ],
               [
                -64.434814453125,
                -23.61432859499168
               ],
               [
                -64.35791015625,
                -23.49347666096087
               ],
               [
                -64.193115234375,
                -23.49347666096087
               ],
               [
                -64.2041015625,
                -24.196868919249642
               ],
               [
                -64.66552734375,
                -24.597080137096412
               ],
               [
                -64.852294921875,
                -24.45715052418584
               ],
               [
                -64.97314453125,
                -24.58709033920962
               ],
               [
                -65.654296875,
                -24.387127324604496
               ],
               [
                -65.7421875,
                -24.086589258228027
               ],
               [
                -66.005859375,
                -23.956136333969273
               ],
               [
                -65.950927734375,
                -23.51362636346272
               ],
               [
                -66.214599609375,
                -23.433009077420344
               ],
               [
                -66.478271484375,
                -24.20688962239801
               ],
               [
                -67.225341796875,
                -23.694834722205936
               ]
              ]
             ],
             "type": "Polygon"
            },
            "id": "Jujuy",
            "properties": {},
            "type": "Feature"
           },
           {
            "bbox": [
             -62.40234375,
             -26.804460766546146,
             -57.59033203125,
             -22.43134015636061
            ],
            "geometry": {
             "coordinates": [
              [
               [
                -62.35839843749999,
                -24.086589258228027
               ],
               [
                -62.40234375,
                -22.43134015636061
               ],
               [
                -61.36962890625001,
                -23.483400654325628
               ],
               [
                -61.06201171875,
                -23.84564988765934
               ],
               [
                -60.22705078125,
                -24.046463999666567
               ],
               [
                -60.09521484375,
                -24.006326198751115
               ],
               [
                -58.33740234375,
                -25.025884063244828
               ],
               [
                -58.13964843749999,
                -24.96614015991296
               ],
               [
                -57.59033203125,
                -25.443274612305732
               ],
               [
                -58.4033203125,
                -26.804460766546146
               ],
               [
                -62.35839843749999,
                -24.086589258228027
               ]
              ]
             ],
             "type": "Polygon"
            },
            "id": "Formosa",
            "properties": {},
            "type": "Feature"
           },
           {
            "bbox": [
             -63.468017578125,
             -28.052590823339845,
             -58.41430664062501,
             -24.10664717920179
            ],
            "geometry": {
             "coordinates": [
              [
               [
                -61.74316406249999,
                -27.137368359795584
               ],
               [
                -61.58935546875,
                -25.681137335685307
               ],
               [
                -63.468017578125,
                -25.661333498952683
               ],
               [
                -62.32543945312499,
                -24.37712083961039
               ],
               [
                -62.369384765625,
                -24.10664717920179
               ],
               [
                -58.41430664062501,
                -26.78484736105119
               ],
               [
                -58.91967773437499,
                -28.03319784767635
               ],
               [
                -61.65527343749999,
                -28.052590823339845
               ],
               [
                -61.74316406249999,
                -27.137368359795584
               ]
              ]
             ],
             "type": "Polygon"
            },
            "id": "Chaco",
            "properties": {},
            "type": "Feature"
           },
           {
            "bbox": [
             -56.041259765625,
             -28.16887518006333,
             -53.646240234375,
             -25.50278454875533
            ],
            "geometry": {
             "coordinates": [
              [
               [
                -56.041259765625,
                -27.371767300523032
               ],
               [
                -55.777587890625,
                -27.43028973886258
               ],
               [
                -55.579833984375,
                -27.293689224852393
               ],
               [
                -55.623779296875,
                -27.215556209029675
               ],
               [
                -55.382080078125,
                -26.980828590472107
               ],
               [
                -55.21728515625,
                -26.961245770526954
               ],
               [
                -54.810791015625,
                -26.657277674217575
               ],
               [
                -54.64599609375,
                -25.582085278700696
               ],
               [
                -54.4482421875,
                -25.681137335685307
               ],
               [
                -54.11865234375,
                -25.50278454875533
               ],
               [
                -53.876953125,
                -25.651430347039724
               ],
               [
                -53.8330078125,
                -25.97779895546436
               ],
               [
                -53.646240234375,
                -26.23430203240673
               ],
               [
                -53.67919921875,
                -26.892679095908154
               ],
               [
                -53.81103515625,
                -27.166695222253104
               ],
               [
                -54.722900390625,
                -27.61540601339959
               ],
               [
                -54.7998046875,
                -27.547241546253268
               ],
               [
                -54.86572265625,
                -27.605670826465445
               ],
               [
                -55.5908203125,
                -28.16887518006333
               ],
               [
                -56.041259765625,
                -27.371767300523032
               ]
              ]
             ],
             "type": "Polygon"
            },
            "id": "Misiones",
            "properties": {},
            "type": "Feature"
           },
           {
            "bbox": [
             -59.6337890625,
             -30.751277776257812,
             -55.634765625,
             -27.254629577800063
            ],
            "geometry": {
             "coordinates": [
              [
               [
                -56.03027343749999,
                -27.371767300523032
               ],
               [
                -55.634765625,
                -28.110748760633534
               ],
               [
                -55.7666015625,
                -28.246327971048842
               ],
               [
                -55.70068359375,
                -28.459033019728043
               ],
               [
                -55.92041015625,
                -28.38173504322308
               ],
               [
                -57.12890625,
                -29.745301662213585
               ],
               [
                -57.65624999999999,
                -30.334953881988564
               ],
               [
                -57.94189453125,
                -30.524413269923986
               ],
               [
                -57.83203125,
                -30.751277776257812
               ],
               [
                -58.3154296875,
                -30.240086360983412
               ],
               [
                -58.62304687499999,
                -30.12612436422458
               ],
               [
                -59.6337890625,
                -30.410781790845878
               ],
               [
                -59.56787109374999,
                -29.267232865200878
               ],
               [
                -59.26025390625,
                -29.11377539511439
               ],
               [
                -59.08447265624999,
                -28.130127737874005
               ],
               [
                -58.9306640625,
                -28.14950321154457
               ],
               [
                -58.71093750000001,
                -27.254629577800063
               ],
               [
                -56.6015625,
                -27.43028973886258
               ],
               [
                -56.3818359375,
                -27.664068965384516
               ],
               [
                -56.31591796875,
                -27.41078570257701
               ],
               [
                -56.03027343749999,
                -27.371767300523032
               ]
              ]
             ],
             "type": "Polygon"
            },
            "id": "Corrientes",
            "properties": {},
            "type": "Feature"
           },
           {
            "bbox": [
             -69.10400390625,
             -30.12612436422458,
             -64.8193359375,
             -25.16517336866393
            ],
            "geometry": {
             "coordinates": [
              [
               [
                -68.5107421875,
                -25.16517336866393
               ],
               [
                -66.62109375,
                -25.28443774698303
               ],
               [
                -66.533203125,
                -25.41350860804229
               ],
               [
                -66.719970703125,
                -25.70093788144426
               ],
               [
                -66.884765625,
                -25.74052909277321
               ],
               [
                -66.884765625,
                -25.997549919572098
               ],
               [
                -66.42333984375,
                -26.401710528707692
               ],
               [
                -66.236572265625,
                -26.145576207592264
               ],
               [
                -66.126708984375,
                -26.23430203240673
               ],
               [
                -66.2255859375,
                -26.62781822639305
               ],
               [
                -65.819091796875,
                -26.725986812271756
               ],
               [
                -65.906982421875,
                -26.912273826625587
               ],
               [
                -66.2255859375,
                -27.254629577800063
               ],
               [
                -65.599365234375,
                -27.994401411046148
               ],
               [
                -65.445556640625,
                -27.90705837112198
               ],
               [
                -65.181884765625,
                -27.90705837112198
               ],
               [
                -65.126953125,
                -28.73876397137028
               ],
               [
                -64.896240234375,
                -28.815799886487284
               ],
               [
                -64.8193359375,
                -29.563901551414432
               ],
               [
                -64.962158203125,
                -29.592565403314072
               ],
               [
                -64.940185546875,
                -29.831113764737136
               ],
               [
                -65.137939453125,
                -30.05007652169871
               ],
               [
                -65.445556640625,
                -30.12612436422458
               ],
               [
                -65.72021484375,
                -29.286398892934763
               ],
               [
                -65.830078125,
                -29.286398892934763
               ],
               [
                -65.80810546875,
                -29.180941290001776
               ],
               [
                -66.42333984375,
                -28.815799886487284
               ],
               [
                -66.368408203125,
                -28.729130483430154
               ],
               [
                -66.4892578125,
                -28.661671216419496
               ],
               [
                -66.566162109375,
                -28.30438068296277
               ],
               [
                -67.060546875,
                -28.256005619824972
               ],
               [
                -67.1484375,
                -28.391400375817753
               ],
               [
                -67.7197265625,
                -28.30438068296277
               ],
               [
                -67.840576171875,
                -28.391400375817753
               ],
               [
                -67.928466796875,
                -28.110748760633534
               ],
               [
                -68.09326171875,
                -28.19792655722614
               ],
               [
                -68.48876953125,
                -27.994401411046148
               ],
               [
                -68.466796875,
                -27.877928333679495
               ],
               [
                -68.5986328125,
                -27.732160709580892
               ],
               [
                -68.609619140625,
                -27.819644755099446
               ],
               [
                -68.785400390625,
                -27.761329874505233
               ],
               [
                -69.10400390625,
                -27.80020993741824
               ],
               [
                -68.818359375,
                -27.08847315655588
               ],
               [
                -68.719482421875,
                -27.098253906137884
               ],
               [
                -68.587646484375,
                -27.196014383173296
               ],
               [
                -68.323974609375,
                -27.019984007982554
               ],
               [
                -68.26904296875,
                -26.931865156388916
               ],
               [
                -68.5986328125,
                -26.539394329017032
               ],
               [
                -68.5546875,
                -26.28356493253137
               ],
               [
                -68.40087890624999,
                -26.194876675795218
               ],
               [
                -68.543701171875,
                -25.631621577258482
               ],
               [
                -68.5107421875,
                -25.16517336866393
               ]
              ]
             ],
             "type": "Polygon"
            },
            "id": "Catamarca",
            "properties": {},
            "type": "Feature"
           },
           {
            "bbox": [
             -65.7861328125,
             -35.0120020431607,
             -61.80908203125,
             -29.516110386062277
            ],
            "geometry": {
             "coordinates": [
              [
               [
                -65.56640625,
                -30.183121842195504
               ],
               [
                -65.10498046875,
                -30.05007652169871
               ],
               [
                -64.92919921875,
                -29.82158272057499
               ],
               [
                -64.9951171875,
                -29.554345125748267
               ],
               [
                -64.8193359375,
                -29.592565403314072
               ],
               [
                -64.8193359375,
                -29.516110386062277
               ],
               [
                -62.77587890625,
                -29.91685223307016
               ],
               [
                -61.87499999999999,
                -30.713503990354965
               ],
               [
                -62.2705078125,
                -31.69078180613681
               ],
               [
                -61.80908203125,
                -33.04550781490999
               ],
               [
                -62.90771484375,
                -34.39784494644985
               ],
               [
                -62.8857421875,
                -34.37971258046219
               ],
               [
                -63.39111328125,
                -34.39784494644985
               ],
               [
                -63.39111328125,
                -34.95799531086791
               ],
               [
                -65.14892578125,
                -35.0120020431607
               ],
               [
                -65.1434326171875,
                -33.22030778968541
               ],
               [
                -64.9072265625,
                -32.43561304116276
               ],
               [
                -65.302734375,
                -32.32427558887654
               ],
               [
                -65.390625,
                -32.0639555946604
               ],
               [
                -65.7861328125,
                -31.91486750327621
               ],
               [
                -65.56640625,
                -30.183121842195504
               ]
              ]
             ],
             "type": "Polygon"
            },
            "id": "Córdoba",
            "properties": {},
            "type": "Feature"
           },
           {
            "bbox": [
             -62.8857421875,
             -34.37971258046219,
             -58.89770507812501,
             -27.994401411046148
            ],
            "geometry": {
             "coordinates": [
              [
               [
                -61.8310546875,
                -28.09136628140693
               ],
               [
                -58.89770507812501,
                -27.994401411046148
               ],
               [
                -58.9306640625,
                -28.16887518006333
               ],
               [
                -59.08447265624999,
                -28.139815912754436
               ],
               [
                -59.2822265625,
                -29.094577077511815
               ],
               [
                -59.578857421875,
                -29.22889003019423
               ],
               [
                -59.688720703125,
                -30.439202087235582
               ],
               [
                -59.65576171875,
                -30.694611546632277
               ],
               [
                -60.8203125,
                -31.84023266790935
               ],
               [
                -60.68847656249999,
                -32.981020148981465
               ],
               [
                -60.2490234375,
                -33.26624989076273
               ],
               [
                -60.50170898437499,
                -33.687781758439364
               ],
               [
                -60.87524414062499,
                -33.54139466898275
               ],
               [
                -61.8310546875,
                -34.37971258046219
               ],
               [
                -62.8857421875,
                -34.34343606848294
               ],
               [
                -61.84204101562499,
                -33.05471648804274
               ],
               [
                -62.2705078125,
                -31.672083485607377
               ],
               [
                -61.885986328125,
                -30.694611546632277
               ],
               [
                -62.11669921874999,
                -30.496017831341284
               ],
               [
                -61.8310546875,
                -28.09136628140693
               ]
              ]
             ],
             "type": "Polygon"
            },
            "id": "Santa Fe",
            "properties": {},
            "type": "Feature"
           },
           {
            "bbox": [
             -60.8203125,
             -34.02990029603907,
             -57.81005859375,
             -30.10711788709237
            ],
            "geometry": {
             "coordinates": [
              [
               [
                -59.69970703124999,
                -30.713503990354965
               ],
               [
                -59.69970703124999,
                -30.4297295750316
               ],
               [
                -58.71093750000001,
                -30.10711788709237
               ],
               [
                -58.24951171874999,
                -30.29701788337204
               ],
               [
                -57.81005859375,
                -30.789036751261136
               ],
               [
                -58.0517578125,
                -31.409912194070973
               ],
               [
                -57.94189453125,
                -31.55981453201843
               ],
               [
                -58.07373046875,
                -31.821564514920727
               ],
               [
                -58.24951171874999,
                -31.821564514920727
               ],
               [
                -58.16162109375,
                -32.249974455863295
               ],
               [
                -58.00781249999999,
                -32.32427558887654
               ],
               [
                -58.22753906250001,
                -32.509761735919426
               ],
               [
                -58.07373046875,
                -32.953368145799324
               ],
               [
                -58.35937499999999,
                -33.08233672856374
               ],
               [
                -58.4307861328125,
                -33.536816067733
               ],
               [
                -58.4967041015625,
                -33.57343808567734
               ],
               [
                -58.392333984375,
                -33.99802726234876
               ],
               [
                -58.64501953125,
                -34.02990029603907
               ],
               [
                -58.74938964843749,
                -33.95247360616282
               ],
               [
                -58.85925292968751,
                -33.957030069982295
               ],
               [
                -59.249267578125,
                -33.792843773631844
               ],
               [
                -59.2437744140625,
                -33.71977077483139
               ],
               [
                -59.45800781249999,
                -33.72890830547333
               ],
               [
                -59.52392578125,
                -33.62834199137178
               ],
               [
                -59.58984374999999,
                -33.687781758439364
               ],
               [
                -60.29296874999999,
                -33.26624989076273
               ],
               [
                -60.71044921875,
                -32.99023555965107
               ],
               [
                -60.8203125,
                -31.78421688448737
               ],
               [
                -59.69970703124999,
                -30.713503990354965
               ]
              ]
             ],
             "type": "Polygon"
            },
            "id": "Entre Ríos",
            "properties": {},
            "type": "Feature"
           },
           {
            "bbox": [
             -63.4130859375,
             -41.02964338716638,
             -56.689453125,
             -33.28461996888768
            ],
            "geometry": {
             "coordinates": [
              [
               [
                -60.5126953125,
                -33.687781758439364
               ],
               [
                -60.303955078125,
                -33.28461996888768
               ],
               [
                -59.61181640625,
                -33.69692269295766
               ],
               [
                -59.56787109374999,
                -33.61461929233377
               ],
               [
                -59.45800781249999,
                -33.73347670599253
               ],
               [
                -59.249267578125,
                -33.7243396617476
               ],
               [
                -59.26025390625,
                -33.797408767572485
               ],
               [
                -58.853759765625,
                -33.97980872872456
               ],
               [
                -58.78784179687499,
                -33.9433599465788
               ],
               [
                -58.67797851562499,
                -34.04355650412745
               ],
               [
                -58.42529296875,
                -33.96158628979907
               ],
               [
                -58.502197265625,
                -34.50655662164559
               ],
               [
                -57.83203125,
                -34.867904962568716
               ],
               [
                -57.095947265625,
                -35.415914923456214
               ],
               [
                -57.403564453125,
                -35.764343479667176
               ],
               [
                -57.37060546875,
                -36.01356058518153
               ],
               [
                -57.23876953124999,
                -36.199958059328935
               ],
               [
                -57.008056640625,
                -36.28856319836237
               ],
               [
                -56.766357421875,
                -36.29741818650809
               ],
               [
                -56.689453125,
                -36.89719446989034
               ],
               [
                -57.19482421875,
                -37.54457732085582
               ],
               [
                -57.48046875,
                -37.75334401310657
               ],
               [
                -57.568359375,
                -37.98750437106372
               ],
               [
                -57.54638671874999,
                -38.09133660751174
               ],
               [
                -57.81005859375,
                -38.272688535980954
               ],
               [
                -58.018798828125,
                -38.358887858666755
               ],
               [
                -58.3154296875,
                -38.475094320502436
               ],
               [
                -58.56811523437499,
                -38.561052624469774
               ],
               [
                -58.74938964843749,
                -38.5825261593533
               ],
               [
                -59.25476074218749,
                -38.724090458956944
               ],
               [
                -60.062255859375,
                -38.85254239036424
               ],
               [
                -60.7269287109375,
                -38.95513722542956
               ],
               [
                -61.04003906249999,
                -38.98076276501631
               ],
               [
                -61.65527343749999,
                -39.01491572891581
               ],
               [
                -61.74316406249999,
                -38.98076276501631
               ],
               [
                -61.80908203125,
                -38.99784130750071
               ],
               [
                -62.105712890625,
                -38.90813299596704
               ],
               [
                -62.16064453125,
                -38.82687052138062
               ],
               [
                -62.40234375,
                -38.728375918239784
               ],
               [
                -62.52868652343749,
                -38.719804742642374
               ],
               [
                -62.51220703125,
                -38.818311173746615
               ],
               [
                -62.391357421875,
                -38.81403111409755
               ],
               [
                -62.33642578125001,
                -38.95513722542956
               ],
               [
                -62.314453125,
                -39.031986028740064
               ],
               [
                -62.3529052734375,
                -39.10022600175344
               ],
               [
                -62.2979736328125,
                -39.23650795487107
               ],
               [
                -62.00683593749999,
                -39.33854604847978
               ],
               [
                -62.02880859375,
                -39.40648882684978
               ],
               [
                -62.22656249999999,
                -39.32579941789297
               ],
               [
                -62.0562744140625,
                -39.44467758047343
               ],
               [
                -62.13317871093751,
                -39.87601941962115
               ],
               [
                -62.30346679687499,
                -39.871803651624425
               ],
               [
                -62.3529052734375,
                -40.20405042511328
               ],
               [
                -62.479248046875,
                -40.27533480732467
               ],
               [
                -62.39685058593749,
                -40.48873742102282
               ],
               [
                -62.17163085937499,
                -40.59309953216488
               ],
               [
                -62.34191894531249,
                -40.8844479390356
               ],
               [
                -62.70996093749999,
                -41.02964338716638
               ],
               [
                -62.78686523437499,
                -41.02549937831375
               ],
               [
                -62.984619140625,
                -40.768061709366116
               ],
               [
                -62.99560546875,
                -40.813809230569596
               ],
               [
                -63.19335937499999,
                -40.72228267283148
               ],
               [
                -63.39111328125,
                -40.713955826286046
               ],
               [
                -63.4130859375,
                -34.37971258046219
               ],
               [
                -62.90222167968749,
                -34.39784494644985
               ],
               [
                -62.852783203125,
                -34.352506668675936
               ],
               [
                -61.84204101562499,
                -34.384246040152185
               ],
               [
                -60.87524414062499,
                -33.54139466898275
               ],
               [
                -60.5126953125,
                -33.687781758439364
               ]
              ]
             ],
             "type": "Polygon"
            },
            "id": "Buenos Aires",
            "properties": {},
            "type": "Feature"
           },
           {
            "bbox": [
             -68.3349609375,
             -39.35129035526704,
             -63.4130859375,
             -34.93998515156043
            ],
            "geometry": {
             "coordinates": [
              [
               [
                -65.126953125,
                -35.94243575255425
               ],
               [
                -65.126953125,
                -35.0120020431607
               ],
               [
                -63.4130859375,
                -34.93998515156043
               ],
               [
                -63.43505859374999,
                -39.35129035526704
               ],
               [
                -64.0283203125,
                -39.07890809706474
               ],
               [
                -64.53369140625,
                -38.856820134743614
               ],
               [
                -65.19287109375,
                -38.8225909761771
               ],
               [
                -65.36865234375,
                -38.87392853923629
               ],
               [
                -65.56640625,
                -38.75408327579141
               ],
               [
                -65.654296875,
                -38.83970761354513
               ],
               [
                -66.09375,
                -38.75408327579141
               ],
               [
                -66.3134765625,
                -38.78834535508562
               ],
               [
                -66.62109375,
                -38.736946065676
               ],
               [
                -66.62109375,
                -38.5825261593533
               ],
               [
                -67.1484375,
                -38.42777351132903
               ],
               [
                -67.236328125,
                -38.20365531807149
               ],
               [
                -67.65380859375,
                -38.255436376379464
               ],
               [
                -67.96142578125,
                -38.01347623104191
               ],
               [
                -67.7197265625,
                -37.87485339352927
               ],
               [
                -67.87353515625,
                -37.6664292120906
               ],
               [
                -68.291015625,
                -37.596824001083654
               ],
               [
                -68.2470703125,
                -36.226550147470896
               ],
               [
                -68.3349609375,
                -36.03133177633187
               ],
               [
                -65.126953125,
                -35.94243575255425
               ]
              ]
             ],
             "type": "Polygon"
            },
            "id": "La Pampa",
            "properties": {},
            "type": "Feature"
           },
           {
            "bbox": [
             -69.598388671875,
             -31.98944183792288,
             -65.4345703125,
             -27.737022779516813
            ],
            "geometry": {
             "coordinates": [
              [
               [
                -69.10400390625,
                -27.797780340741387
               ],
               [
                -68.78814697265625,
                -27.763760285581967
               ],
               [
                -68.61785888671875,
                -27.819644755099446
               ],
               [
                -68.60412597656249,
                -27.737022779516813
               ],
               [
                -68.47503662109375,
                -27.87307256542277
               ],
               [
                -68.49700927734375,
                -27.98712552356428
               ],
               [
                -68.0987548828125,
                -28.19308520918522
               ],
               [
                -67.92572021484374,
                -28.110748760633534
               ],
               [
                -67.84332275390625,
                -28.386567819657188
               ],
               [
                -67.7252197265625,
                -28.301962451766745
               ],
               [
                -67.14569091796874,
                -28.388984125273186
               ],
               [
                -67.06878662109375,
                -28.263263279931966
               ],
               [
                -66.566162109375,
                -28.30921698045776
               ],
               [
                -66.49200439453125,
                -28.671310915880834
               ],
               [
                -66.37390136718749,
                -28.729130483430154
               ],
               [
                -66.42608642578125,
                -28.806173508854766
               ],
               [
                -65.81634521484375,
                -29.18333925965321
               ],
               [
                -65.8355712890625,
                -29.286398892934763
               ],
               [
                -65.71746826171875,
                -29.288794393648296
               ],
               [
                -65.4345703125,
                -30.145127183376115
               ],
               [
                -65.577392578125,
                -30.183121842195504
               ],
               [
                -65.80810546875,
                -31.905541455900355
               ],
               [
                -65.9619140625,
                -31.886886525780806
               ],
               [
                -66.082763671875,
                -31.980123357368026
               ],
               [
                -66.3134765625,
                -31.905541455900355
               ],
               [
                -66.346435546875,
                -31.98944183792288
               ],
               [
                -66.676025390625,
                -31.905541455900355
               ],
               [
                -66.829833984375,
                -31.78421688448737
               ],
               [
                -66.873779296875,
                -31.63467554954133
               ],
               [
                -67.03857421875,
                -31.63467554954133
               ],
               [
                -67.00561523437499,
                -31.531726144517158
               ],
               [
                -67.1044921875,
                -31.42866311735861
               ],
               [
                -67.071533203125,
                -31.05293398570514
               ],
               [
                -67.159423828125,
                -31.005862904624195
               ],
               [
                -67.093505859375,
                -30.892797477508154
               ],
               [
                -67.291259765625,
                -30.56226095049943
               ],
               [
                -67.4560546875,
                -30.56226095049943
               ],
               [
                -67.598876953125,
                -30.29701788337204
               ],
               [
                -68.0712890625,
                -29.897805610155864
               ],
               [
                -68.170166015625,
                -29.91685223307016
               ],
               [
                -68.26904296875,
                -29.754839972510933
               ],
               [
                -68.90625,
                -29.602118211647333
               ],
               [
                -68.97216796875,
                -29.64986867797228
               ],
               [
                -69.027099609375,
                -29.487424847484775
               ],
               [
                -68.9501953125,
                -29.439597566602902
               ],
               [
                -69.027099609375,
                -29.171348850951507
               ],
               [
                -68.92822265625,
                -29.171348850951507
               ],
               [
                -68.93920898437499,
                -28.835049972635165
               ],
               [
                -69.2138671875,
                -28.729130483430154
               ],
               [
                -69.2138671875,
                -28.5941685062326
               ],
               [
                -69.312744140625,
                -28.401064827220896
               ],
               [
                -69.41162109375,
                -28.44937385955666
               ],
               [
                -69.598388671875,
                -28.391400375817753
               ],
               [
                -69.49951171875,
                -28.178559849396965
               ],
               [
                -69.400634765625,
                -28.217289755957054
               ],
               [
                -69.27978515625,
                -27.97499795326775
               ],
               [
                -69.169921875,
                -27.98470011861267
               ],
               [
                -69.10400390625,
                -27.797780340741387
               ]
              ]
             ],
             "type": "Polygon"
            },
            "id": "La Rioja",
            "properties": {},
            "type": "Feature"
           },
           {
            "bbox": [
             -70.5706787109375,
             -32.625496714513716,
             -66.62109375,
             -28.410728397237914
            ],
            "geometry": {
             "coordinates": [
              [
               [
                -69.840087890625,
                -29.152161283318915
               ],
               [
                -69.774169921875,
                -28.93124697186731
               ],
               [
                -69.708251953125,
                -28.786918085420226
               ],
               [
                -69.78515625,
                -28.700224692776974
               ],
               [
                -69.67529296875,
                -28.43971381702787
               ],
               [
                -69.42260742187499,
                -28.43971381702787
               ],
               [
                -69.356689453125,
                -28.410728397237914
               ],
               [
                -69.224853515625,
                -28.5941685062326
               ],
               [
                -69.224853515625,
                -28.729130483430154
               ],
               [
                -68.93920898437499,
                -28.84467368077178
               ],
               [
                -68.9501953125,
                -29.180941290001776
               ],
               [
                -69.0380859375,
                -29.171348850951507
               ],
               [
                -68.95294189453125,
                -29.432421529604852
               ],
               [
                -69.03533935546875,
                -29.489815619374937
               ],
               [
                -68.97491455078125,
                -29.645094649860745
               ],
               [
                -68.91448974609375,
                -29.606894276531495
               ],
               [
                -68.26904296875,
                -29.754839972510933
               ],
               [
                -68.18115234375,
                -29.91447160438235
               ],
               [
                -68.0712890625,
                -29.900186637177384
               ],
               [
                -67.59613037109375,
                -30.301760686320698
               ],
               [
                -67.45880126953125,
                -30.56462594065098
               ],
               [
                -67.29400634765624,
                -30.56226095049943
               ],
               [
                -67.10174560546875,
                -30.888083515609047
               ],
               [
                -67.159423828125,
                -31.005862904624195
               ],
               [
                -67.0770263671875,
                -31.05763981413011
               ],
               [
                -67.11273193359375,
                -31.4310067191785
               ],
               [
                -67.00836181640625,
                -31.534067166324203
               ],
               [
                -67.03857421875,
                -31.632337053668728
               ],
               [
                -66.873779296875,
                -31.637013986617973
               ],
               [
                -66.83258056640625,
                -31.781882156411022
               ],
               [
                -66.676025390625,
                -31.907873056360206
               ],
               [
                -66.62109375,
                -31.92186141844725
               ],
               [
                -66.78314208984375,
                -31.91953017247695
               ],
               [
                -66.9781494140625,
                -31.87056036152958
               ],
               [
                -67.060546875,
                -31.85889704445453
               ],
               [
                -67.137451171875,
                -31.83089906339438
               ],
               [
                -67.24456787109375,
                -31.87755764334002
               ],
               [
                -67.467041015625,
                -31.86822781618069
               ],
               [
                -67.44232177734374,
                -31.926523733115925
               ],
               [
                -67.4395751953125,
                -32.01506277844934
               ],
               [
                -67.4505615234375,
                -32.04766089060863
               ],
               [
                -67.4835205078125,
                -32.11514862261243
               ],
               [
                -67.4395751953125,
                -32.18955998041357
               ],
               [
                -67.2857666015625,
                -32.28945451339287
               ],
               [
                -67.2637939453125,
                -32.34980253736092
               ],
               [
                -67.33245849609375,
                -32.35444302709291
               ],
               [
                -67.38739013671874,
                -32.33355894864106
               ],
               [
                -67.48626708984375,
                -32.30802741894788
               ],
               [
                -67.510986328125,
                -32.24068253457368
               ],
               [
                -67.52471923828125,
                -32.21744857303103
               ],
               [
                -67.55218505859375,
                -32.24300560401556
               ],
               [
                -67.65380859375,
                -32.24068253457368
               ],
               [
                -67.67578124999999,
                -32.22906629627296
               ],
               [
                -67.71697998046875,
                -32.24068253457368
               ],
               [
                -67.7362060546875,
                -32.21744857303103
               ],
               [
                -67.77191162109375,
                -32.22674287041065
               ],
               [
                -67.8460693359375,
                -32.22674287041065
               ],
               [
                -67.89276123046875,
                -32.18723554514384
               ],
               [
                -67.9229736328125,
                -32.170962836413246
               ],
               [
                -67.93327331542967,
                -32.133175697091374
               ],
               [
                -67.94700622558594,
                -32.12677940089152
               ],
               [
                -67.94151306152344,
                -32.112822289094396
               ],
               [
                -67.94975280761719,
                -32.10991428883184
               ],
               [
                -67.95867919921875,
                -32.118638011730695
               ],
               [
                -67.97378540039062,
                -32.09711798736979
               ],
               [
                -67.99095153808594,
                -32.0947911944772
               ],
               [
                -68.00537109375,
                -32.079665596220444
               ],
               [
                -68.02253723144531,
                -32.08606519332937
               ],
               [
                -68.05686950683594,
                -32.07268370653683
               ],
               [
                -68.07609558105469,
                -32.09828136159138
               ],
               [
                -68.08090209960938,
                -32.08606519332937
               ],
               [
                -68.15162658691405,
                -32.11631176714
               ],
               [
                -68.19145202636719,
                -32.11224069645199
               ],
               [
                -68.20381164550781,
                -32.12619789718211
               ],
               [
                -68.25531005859375,
                -32.09420948699397
               ],
               [
                -68.30749511718749,
                -32.13840869677249
               ],
               [
                -68.46405029296875,
                -32.136082956202074
               ],
               [
                -68.4722900390625,
                -32.23603621746474
               ],
               [
                -68.67828369140625,
                -32.33355894864106
               ],
               [
                -68.91998291015625,
                -32.33355894864106
               ],
               [
                -68.92547607421875,
                -32.133757156326446
               ],
               [
                -69.12597656249999,
                -32.010404958190534
               ],
               [
                -69.224853515625,
                -32.00807595929104
               ],
               [
                -69.27154541015625,
                -32.0616279574764
               ],
               [
                -69.30450439453125,
                -32.082574559545904
               ],
               [
                -69.44183349609375,
                -32.07326555104237
               ],
               [
                -69.532470703125,
                -32.13840869677249
               ],
               [
                -69.60525512695312,
                -32.14073437803538
               ],
               [
                -69.6038818359375,
                -32.208153325473255
               ],
               [
                -69.63272094726561,
                -32.25694277294589
               ],
               [
                -69.68765258789061,
                -32.30686672385539
               ],
               [
                -69.72061157226562,
                -32.31267005062579
               ],
               [
                -69.74395751953125,
                -32.39155837235157
               ],
               [
                -69.69039916992188,
                -32.42981760314475
               ],
               [
                -69.70138549804688,
                -32.441408106676086
               ],
               [
                -69.70962524414062,
                -32.49354692775989
               ],
               [
                -69.77005004882812,
                -32.5178680435577
               ],
               [
                -69.77279663085938,
                -32.53176286998226
               ],
               [
                -69.79202270507812,
                -32.54797078468893
               ],
               [
                -69.82086181640625,
                -32.54681317351514
               ],
               [
                -69.84420776367188,
                -32.5722771706588
               ],
               [
                -70.00900268554688,
                -32.535236240827224
               ],
               [
                -70.06805419921875,
                -32.625496714513716
               ],
               [
                -70.09140014648438,
                -32.622026838432575
               ],
               [
                -70.09140014648438,
                -32.60236166681751
               ],
               [
                -70.1531982421875,
                -32.458791067834575
               ],
               [
                -70.24658203125,
                -32.42634016154639
               ],
               [
                -70.224609375,
                -32.32427558887654
               ],
               [
                -70.3179931640625,
                -32.26855544621476
               ],
               [
                -70.3839111328125,
                -32.02204906495203
               ],
               [
                -70.2850341796875,
                -32.04533283885849
               ],
               [
                -70.213623046875,
                -31.961483557268544
               ],
               [
                -70.2960205078125,
                -31.872892847840692
               ],
               [
                -70.4443359375,
                -31.84489911613476
               ],
               [
                -70.5706787109375,
                -31.57853542647337
               ],
               [
                -70.5377197265625,
                -31.142304905845723
               ],
               [
                -70.4443359375,
                -31.067050772707812
               ],
               [
                -70.400390625,
                -31.16110911780645
               ],
               [
                -70.323486328125,
                -31.043521630684204
               ],
               [
                -70.257568359375,
                -31.029401353028874
               ],
               [
                -70.3179931640625,
                -30.93050081760778
               ],
               [
                -70.18615722656249,
                -30.481817002827256
               ],
               [
                -70.1312255859375,
                -30.4297295750316
               ],
               [
                -70.169677734375,
                -30.34917609414982
               ],
               [
                -70.125732421875,
                -30.32547125932808
               ],
               [
                -70.07080078125,
                -30.38709188778112
               ],
               [
                -69.949951171875,
                -30.38709188778112
               ],
               [
                -69.8785400390625,
                -30.230594564932193
               ],
               [
                -69.8291015625,
                -30.216355152668537
               ],
               [
                -69.818115234375,
                -30.121373087823034
               ],
               [
                -69.9774169921875,
                -30.07860131571654
               ],
               [
                -69.89501953125,
                -29.869228848968298
               ],
               [
                -69.884033203125,
                -29.726222319395493
               ],
               [
                -69.9609375,
                -29.65941605491237
               ],
               [
                -69.949951171875,
                -29.55912345157795
               ],
               [
                -69.9884033203125,
                -29.516110386062277
               ],
               [
                -69.971923828125,
                -29.40610505570927
               ],
               [
                -70.0213623046875,
                -29.396533739128387
               ],
               [
                -70.0048828125,
                -29.29598055871568
               ],
               [
                -69.93896484375,
                -29.257648503615542
               ],
               [
                -69.949951171875,
                -29.200123477644983
               ],
               [
                -69.840087890625,
                -29.152161283318915
               ]
              ]
             ],
             "type": "Polygon"
            },
            "id": "San Juan",
            "properties": {},
            "type": "Feature"
           },
           {
            "bbox": [
             -67.48077392578125,
             -35.98689628443789,
             -64.9072265625,
             -31.835565983656227
            ],
            "geometry": {
             "coordinates": [
              [
               [
                -67.269287109375,
                -32.34516180956194
               ],
               [
                -67.28302001953125,
                -32.28481069238482
               ],
               [
                -67.43682861328125,
                -32.19188435632485
               ],
               [
                -67.48077392578125,
                -32.12212726745139
               ],
               [
                -67.43682861328125,
                -32.00807595929104
               ],
               [
                -67.445068359375,
                -31.924192605327708
               ],
               [
                -67.467041015625,
                -31.87056036152958
               ],
               [
                -67.24456787109375,
                -31.88222220265971
               ],
               [
                -67.14019775390625,
                -31.835565983656227
               ],
               [
                -66.785888671875,
                -31.91953017247695
               ],
               [
                -66.62384033203124,
                -31.92186141844725
               ],
               [
                -66.3409423828125,
                -31.994100723260793
               ],
               [
                -66.3134765625,
                -31.910204597744368
               ],
               [
                -66.082763671875,
                -31.980123357368026
               ],
               [
                -65.9674072265625,
                -31.886886525780806
               ],
               [
                -65.78887939453125,
                -31.912536080050494
               ],
               [
                -65.390625,
                -32.0639555946604
               ],
               [
                -65.31097412109375,
                -32.32427558887654
               ],
               [
                -64.9072265625,
                -32.43793111207064
               ],
               [
                -65.159912109375,
                -33.20192418977892
               ],
               [
                -65.137939453125,
                -35.933540642493114
               ],
               [
                -66.632080078125,
                -35.98689628443789
               ],
               [
                -66.566162109375,
                -35.65729624809628
               ],
               [
                -66.5771484375,
                -35.594785665487244
               ],
               [
                -66.533203125,
                -35.55904339525895
               ],
               [
                -66.4892578125,
                -35.15584570226543
               ],
               [
                -66.5771484375,
                -34.84085858477277
               ],
               [
                -66.7529296875,
                -34.569906380856345
               ],
               [
                -66.7529296875,
                -34.45221847282653
               ],
               [
                -66.81884765625,
                -34.27083595164999
               ],
               [
                -66.7529296875,
                -34.234512362369856
               ],
               [
                -66.676025390625,
                -33.96158628979907
               ],
               [
                -66.873779296875,
                -33.84304531474468
               ],
               [
                -66.895751953125,
                -33.760882000869174
               ],
               [
                -67.17041015625,
                -33.46810795527895
               ],
               [
                -67.25830078125,
                -32.87036022808353
               ],
               [
                -67.159423828125,
                -32.73184089686568
               ],
               [
                -67.24731445312499,
                -32.63937487360668
               ],
               [
                -67.30224609375,
                -32.45415593941475
               ],
               [
                -67.269287109375,
                -32.34516180956194
               ]
              ]
             ],
             "type": "Polygon"
            },
            "id": "San Luis",
            "properties": {},
            "type": "Feature"
           },
           {
            "bbox": [
             -70.587158203125,
             -37.579412513438385,
             -66.500244140625,
             -32.01273389791075
            ],
            "geometry": {
             "coordinates": [
              [
               [
                -70.17242431640625,
                -32.623183478738675
               ],
               [
                -70.12847900390625,
                -32.57459172113417
               ],
               [
                -70.0982666015625,
                -32.590791901737894
               ],
               [
                -70.09552001953125,
                -32.618556827843264
               ],
               [
                -70.06256103515625,
                -32.63243606312154
               ],
               [
                -70.00762939453125,
                -32.53755174676898
               ],
               [
                -69.8455810546875,
                -32.5722771706588
               ],
               [
                -69.82086181640625,
                -32.54681317351514
               ],
               [
                -69.79888916015625,
                -32.54681317351514
               ],
               [
                -69.76318359375,
                -32.5190260278275
               ],
               [
                -69.70550537109375,
                -32.49123028794758
               ],
               [
                -69.686279296875,
                -32.424021792657385
               ],
               [
                -69.7467041015625,
                -32.39155837235157
               ],
               [
                -69.71923828125,
                -32.30570601389429
               ],
               [
                -69.686279296875,
                -32.31731244438278
               ],
               [
                -69.62860107421875,
                -32.2546200600072
               ],
               [
                -69.60113525390625,
                -32.210477226433824
               ],
               [
                -69.60113525390625,
                -32.136082956202074
               ],
               [
                -69.52423095703125,
                -32.13840869677249
               ],
               [
                -69.43634033203125,
                -32.07326555104237
               ],
               [
                -69.29901123046875,
                -32.0849016635483
               ],
               [
                -69.22760009765624,
                -32.01506277844934
               ],
               [
                -69.12872314453125,
                -32.01273389791075
               ],
               [
                -68.93096923828124,
                -32.131431297147934
               ],
               [
                -68.92547607421875,
                -32.33587963983593
               ],
               [
                -68.66729736328125,
                -32.34052084371421
               ],
               [
                -68.466796875,
                -32.2313896627376
               ],
               [
                -68.46405029296875,
                -32.13840869677249
               ],
               [
                -68.30474853515625,
                -32.14305999998843
               ],
               [
                -68.25531005859375,
                -32.09653629470277
               ],
               [
                -68.20587158203124,
                -32.131431297147934
               ],
               [
                -68.19488525390625,
                -32.112822289094396
               ],
               [
                -68.15643310546875,
                -32.11514862261243
               ],
               [
                -68.00811767578125,
                -32.0849016635483
               ],
               [
                -67.93121337890625,
                -32.16863792635911
               ],
               [
                -67.840576171875,
                -32.22906629627296
               ],
               [
                -67.7801513671875,
                -32.22906629627296
               ],
               [
                -67.74169921875,
                -32.21977223646089
               ],
               [
                -67.72247314453124,
                -32.23835940572264
               ],
               [
                -67.66754150390625,
                -32.2313896627376
               ],
               [
                -67.554931640625,
                -32.24765156466267
               ],
               [
                -67.532958984375,
                -32.22209584050232
               ],
               [
                -67.49176025390625,
                -32.30570601389429
               ],
               [
                -67.33245849609375,
                -32.359083278739675
               ],
               [
                -67.27203369140625,
                -32.35212281198642
               ],
               [
                -67.3077392578125,
                -32.45415593941475
               ],
               [
                -67.2528076171875,
                -32.64400044827675
               ],
               [
                -67.16766357421875,
                -32.741082231501245
               ],
               [
                -67.18414306640625,
                -32.819594869239744
               ],
               [
                -67.236328125,
                -32.861132322810946
               ],
               [
                -67.17864990234375,
                -33.45894275368763
               ],
               [
                -66.90399169921874,
                -33.765448698492214
               ],
               [
                -66.88201904296875,
                -33.838482755995145
               ],
               [
                -66.68701171875,
                -33.934245311173115
               ],
               [
                -66.829833984375,
                -34.27083595164999
               ],
               [
                -66.76391601562499,
                -34.488447837809304
               ],
               [
                -66.76391601562499,
                -34.56085936708384
               ],
               [
                -66.59912109375,
                -34.858890491257796
               ],
               [
                -66.500244140625,
                -35.13787911963418
               ],
               [
                -66.544189453125,
                -35.56798045801208
               ],
               [
                -66.57440185546875,
                -35.6037187406973
               ],
               [
                -66.566162109375,
                -35.66845370835341
               ],
               [
                -66.63482666015625,
                -35.98689628443789
               ],
               [
                -68.3349609375,
                -36.01356058518153
               ],
               [
                -68.29376220703125,
                -36.17335693522159
               ],
               [
                -68.31298828125,
                -37.579412513438385
               ],
               [
                -68.433837890625,
                -37.561996953143506
               ],
               [
                -68.543701171875,
                -37.448696585910376
               ],
               [
                -68.70849609375,
                -37.448696585910376
               ],
               [
                -68.79638671875,
                -37.35269280367274
               ],
               [
                -68.873291015625,
                -37.39634613318924
               ],
               [
                -69.01611328125,
                -37.37015718405751
               ],
               [
                -69.08203125,
                -37.239075302021824
               ],
               [
                -69.32373046875,
                -37.13404537126445
               ],
               [
                -69.42260742187499,
                -37.17782559332974
               ],
               [
                -69.752197265625,
                -37.0990029438762
               ],
               [
                -69.8291015625,
                -36.888408043138206
               ],
               [
                -70.24658203125,
                -36.46547188679815
               ],
               [
                -70.24658203125,
                -36.323977120112616
               ],
               [
                -70.37841796875,
                -36.323977120112616
               ],
               [
                -70.433349609375,
                -36.11125252076157
               ],
               [
                -70.455322265625,
                -35.89795019335754
               ],
               [
                -70.33447265624999,
                -35.82672127366603
               ],
               [
                -70.455322265625,
                -35.3621760591468
               ],
               [
                -70.587158203125,
                -35.27253175660237
               ],
               [
                -70.587158203125,
                -35.19176696594738
               ],
               [
                -70.38940429687499,
                -35.15584570226543
               ],
               [
                -70.24658203125,
                -34.79576153473033
               ],
               [
                -70.323486328125,
                -34.7506398050501
               ],
               [
                -70.037841796875,
                -34.40690965652058
               ],
               [
                -70.059814453125,
                -34.30714385628803
               ],
               [
                -70.015869140625,
                -34.225429015241396
               ],
               [
                -69.9609375,
                -34.29806835099083
               ],
               [
                -69.840087890625,
                -34.24359472969739
               ],
               [
                -69.862060546875,
                -34.143634820312634
               ],
               [
                -69.818115234375,
                -34.03445260967644
               ],
               [
                -69.927978515625,
                -33.96158628979907
               ],
               [
                -69.884033203125,
                -33.88865750124074
               ],
               [
                -69.93896484375,
                -33.797408767572485
               ],
               [
                -69.884033203125,
                -33.706062655101206
               ],
               [
                -69.884033203125,
                -33.54139466898275
               ],
               [
                -69.78515625,
                -33.35806161277886
               ],
               [
                -69.840087890625,
                -33.26624989076273
               ],
               [
                -69.949951171875,
                -33.25706340236547
               ],
               [
                -70.015869140625,
                -33.321348526698806
               ],
               [
                -70.103759765625,
                -33.11915022676886
               ],
               [
                -69.993896484375,
                -32.898038181605216
               ],
               [
                -70.14770507812499,
                -32.76880048488168
               ],
               [
                -70.17242431640625,
                -32.623183478738675
               ]
              ]
             ],
             "type": "Polygon"
            },
            "id": "Mendoza",
            "properties": {},
            "type": "Feature"
           },
           {
            "bbox": [
             -71.982421875,
             -41.11246878918086,
             -68.0712890625,
             -36.120127589781454
            ],
            "geometry": {
             "coordinates": [
              [
               [
                -68.0712890625,
                -38.95940879245421
               ],
               [
                -68.291015625,
                -38.95940879245421
               ],
               [
                -68.79638671875,
                -39.30029918615028
               ],
               [
                -69.43359375,
                -39.77476948529546
               ],
               [
                -70.07080078125,
                -39.97712009843963
               ],
               [
                -69.9609375,
                -40.17887331434695
               ],
               [
                -70.13671875,
                -40.49709237269566
               ],
               [
                -70.400390625,
                -40.530501775743204
               ],
               [
                -70.55419921875,
                -40.48038142908171
               ],
               [
                -70.751953125,
                -40.58058466412763
               ],
               [
                -70.90576171875,
                -40.58058466412763
               ],
               [
                -71.08154296875,
                -40.76390128094587
               ],
               [
                -71.03759765625,
                -40.93841495689794
               ],
               [
                -71.3232421875,
                -41.11246878918086
               ],
               [
                -71.861572265625,
                -41.03793062246527
               ],
               [
                -71.905517578125,
                -40.98819156349393
               ],
               [
                -71.883544921875,
                -40.91351257612757
               ],
               [
                -71.982421875,
                -40.73893324113602
               ],
               [
                -71.905517578125,
                -40.58058466412763
               ],
               [
                -71.8505859375,
                -40.39676430557204
               ],
               [
                -71.71875,
                -40.413496049701955
               ],
               [
                -71.74072265625,
                -40.3130432088809
               ],
               [
                -71.8505859375,
                -40.25437660372649
               ],
               [
                -71.806640625,
                -40.078071427450084
               ],
               [
                -71.6748046875,
                -40.103285912934396
               ],
               [
                -71.5869140625,
                -39.89287990029478
               ],
               [
                -71.6748046875,
                -39.84228602074339
               ],
               [
                -71.6748046875,
                -39.56335316582929
               ],
               [
                -71.488037109375,
                -39.65645604812829
               ],
               [
                -71.531982421875,
                -39.53793974517625
               ],
               [
                -71.466064453125,
                -39.39375459224347
               ],
               [
                -71.378173828125,
                -39.33429742980723
               ],
               [
                -71.47705078125,
                -38.9764924855394
               ],
               [
                -70.894775390625,
                -38.719804742642374
               ],
               [
                -70.86181640625,
                -38.54816542304657
               ],
               [
                -70.960693359375,
                -38.462191723068266
               ],
               [
                -71.2353515625,
                -37.64033489805947
               ],
               [
                -71.1474609375,
                -37.60552821745789
               ],
               [
                -71.11450195312499,
                -37.46613860234405
               ],
               [
                -71.224365234375,
                -37.300275281344305
               ],
               [
                -71.103515625,
                -37.17782559332974
               ],
               [
                -71.19140625,
                -36.96744946416932
               ],
               [
                -71.103515625,
                -36.91476428895593
               ],
               [
                -71.11450195312499,
                -36.6507925250347
               ],
               [
                -71.05957031249999,
                -36.72127388004499
               ],
               [
                -71.015625,
                -36.65960622647969
               ],
               [
                -71.05957031249999,
                -36.456636011596196
               ],
               [
                -70.9716796875,
                -36.500805317604794
               ],
               [
                -70.927734375,
                -36.47430675509521
               ],
               [
                -70.927734375,
                -36.37706783983681
               ],
               [
                -70.675048828125,
                -36.40359962073253
               ],
               [
                -70.675048828125,
                -36.26199220445662
               ],
               [
                -70.55419921875,
                -36.120127589781454
               ],
               [
                -70.433349609375,
                -36.15561783381853
               ],
               [
                -70.37841796875,
                -36.30627216957991
               ],
               [
                -70.257568359375,
                -36.3151251474805
               ],
               [
                -70.2685546875,
                -36.46547188679815
               ],
               [
                -69.85107421874999,
                -36.87962060502676
               ],
               [
                -69.76318359375,
                -37.090239803072066
               ],
               [
                -69.444580078125,
                -37.18657859524883
               ],
               [
                -69.3017578125,
                -37.13404537126445
               ],
               [
                -69.08203125,
                -37.212831514455935
               ],
               [
                -69.049072265625,
                -37.35269280367274
               ],
               [
                -68.851318359375,
                -37.40507375017693
               ],
               [
                -68.79638671875,
                -37.32648861334206
               ],
               [
                -68.70849609375,
                -37.448696585910376
               ],
               [
                -68.543701171875,
                -37.448696585910376
               ],
               [
                -68.45581054687499,
                -37.570705242331144
               ],
               [
                -68.258056640625,
                -37.570705242331144
               ],
               [
                -68.22509765625,
                -38.69408504756832
               ],
               [
                -68.0712890625,
                -38.95940879245421
               ]
              ]
             ],
             "type": "Polygon"
            },
            "id": "Neuquén",
            "properties": {},
            "type": "Feature"
           },
           {
            "bbox": [
             -71.905517578125,
             -41.99216023337628,
             -62.78686523437499,
             -37.60552821745789
            ],
            "geometry": {
             "coordinates": [
              [
               [
                -68.07952880859375,
                -38.950865400919994
               ],
               [
                -68.22784423828125,
                -38.69622870885281
               ],
               [
                -68.2635498046875,
                -37.60552821745789
               ],
               [
                -67.87353515625,
                -37.6664292120906
               ],
               [
                -67.72247314453124,
                -37.877021386076336
               ],
               [
                -67.96417236328124,
                -38.01131226070672
               ],
               [
                -67.65655517578125,
                -38.25759312039535
               ],
               [
                -67.2418212890625,
                -38.201496974020806
               ],
               [
                -67.15118408203125,
                -38.42992513040935
               ],
               [
                -66.6265869140625,
                -38.5825261593533
               ],
               [
                -66.6265869140625,
                -38.73266112048232
               ],
               [
                -66.3134765625,
                -38.79048618862272
               ],
               [
                -66.09375,
                -38.756225137839074
               ],
               [
                -65.6597900390625,
                -38.84184690380897
               ],
               [
                -65.58013916015625,
                -38.75408327579141
               ],
               [
                -65.36865234375,
                -38.87606680031535
               ],
               [
                -65.19561767578125,
                -38.8225909761771
               ],
               [
                -64.5281982421875,
                -38.85895891044852
               ],
               [
                -63.4130859375,
                -39.35978526869
               ],
               [
                -63.39385986328124,
                -40.70979201243495
               ],
               [
                -63.19885253906249,
                -40.718119379753446
               ],
               [
                -62.99835205078124,
                -40.80965166748854
               ],
               [
                -62.984619140625,
                -40.77014182590509
               ],
               [
                -62.78686523437499,
                -41.02342727608893
               ],
               [
                -62.98736572265625,
                -41.11039942586732
               ],
               [
                -63.05328369140626,
                -41.15177429844499
               ],
               [
                -63.29223632812499,
                -41.16211393939691
               ],
               [
                -63.32519531249999,
                -41.14763798539186
               ],
               [
                -63.4295654296875,
                -41.16418167186549
               ],
               [
                -63.78662109375001,
                -41.15591035054503
               ],
               [
                -63.84979248046875,
                -41.14143302653628
               ],
               [
                -63.88000488281251,
                -41.13936457644674
               ],
               [
                -63.94317626953125,
                -41.07935114946897
               ],
               [
                -64.08599853515625,
                -41.04000226828483
               ],
               [
                -64.06951904296875,
                -40.994410999439516
               ],
               [
                -64.0887451171875,
                -40.977824533189505
               ],
               [
                -64.14093017578125,
                -41.017210578228436
               ],
               [
                -64.20135498046875,
                -41.01099329360267
               ],
               [
                -64.74517822265625,
                -40.80757278825516
               ],
               [
                -64.8797607421875,
                -40.83459313808023
               ],
               [
                -64.90997314453125,
                -40.80965166748854
               ],
               [
                -64.84954833984375,
                -40.782621157698514
               ],
               [
                -64.775390625,
                -40.801335759791996
               ],
               [
                -64.73968505859375,
                -40.7888599444948
               ],
               [
                -64.7589111328125,
                -40.768061709366116
               ],
               [
                -64.79461669921875,
                -40.786780414016455
               ],
               [
                -64.80560302734375,
                -40.75349907043136
               ],
               [
                -64.77813720703125,
                -40.743095232181844
               ],
               [
                -64.84405517578125,
                -40.713955826286046
               ],
               [
                -64.9896240234375,
                -40.713955826286046
               ],
               [
                -64.88800048828125,
                -40.7472569628042
               ],
               [
                -64.9017333984375,
                -40.761820969066
               ],
               [
                -65.0006103515625,
                -40.75974059207391
               ],
               [
                -65.13519287109375,
                -40.84290487729675
               ],
               [
                -65.12420654296875,
                -40.86991083161534
               ],
               [
                -65.159912109375,
                -40.92804010533238
               ],
               [
                -65.16265869140625,
                -41.03585891144299
               ],
               [
                -65.17364501953124,
                -41.0607151401866
               ],
               [
                -64.9951171875,
                -41.50857729743933
               ],
               [
                -65.093994140625,
                -41.97582726102571
               ],
               [
                -71.795654296875,
                -41.99216023337628
               ],
               [
                -71.78466796874999,
                -41.80407814427234
               ],
               [
                -71.89453125,
                -41.66470503009206
               ],
               [
                -71.806640625,
                -41.590796851056
               ],
               [
                -71.905517578125,
                -41.39329428878487
               ],
               [
                -71.905517578125,
                -41.269549502842565
               ],
               [
                -71.817626953125,
                -41.310823880918186
               ],
               [
                -71.905517578125,
                -41.186922422902946
               ],
               [
                -71.82861328125,
                -41.02135510866601
               ],
               [
                -71.33148193359375,
                -41.10832999732831
               ],
               [
                -71.03485107421875,
                -40.94256444133327
               ],
               [
                -71.07879638671875,
                -40.76390128094587
               ],
               [
                -70.91125488281249,
                -40.58684239087908
               ],
               [
                -70.7574462890625,
                -40.58058466412763
               ],
               [
                -70.55145263671875,
                -40.482470524589495
               ],
               [
                -70.3948974609375,
                -40.53258931069554
               ],
               [
                -70.13671875,
                -40.49291502689579
               ],
               [
                -69.9664306640625,
                -40.18097176388719
               ],
               [
                -70.09277343749999,
                -39.985538414809724
               ],
               [
                -69.41162109375,
                -39.7663252565449
               ],
               [
                -68.345947265625,
                -38.9764924855394
               ],
               [
                -68.291015625,
                -38.96154447940714
               ],
               [
                -68.07952880859375,
                -38.950865400919994
               ]
              ]
             ],
             "type": "Polygon"
            },
            "id": "Río Negro",
            "properties": {},
            "type": "Feature"
           },
           {
            "bbox": [
             -72.2021484375,
             -46.01985337287632,
             -63.58886718749999,
             -41.97378534488486
            ],
            "geometry": {
             "coordinates": [
              [
               [
                -71.795654296875,
                -42.000325148316215
               ],
               [
                -65.0994873046875,
                -41.97378534488486
               ],
               [
                -65.093994140625,
                -41.996242821785806
               ],
               [
                -64.9072265625,
                -42.15933157601719
               ],
               [
                -64.8248291015625,
                -42.20003826604674
               ],
               [
                -64.4842529296875,
                -42.24071874922666
               ],
               [
                -64.3853759765625,
                -42.24071874922666
               ],
               [
                -64.05303955078125,
                -42.16951070521655
               ],
               [
                -63.97338867187501,
                -42.116561350389006
               ],
               [
                -63.797607421875,
                -42.067645723795266
               ],
               [
                -63.75640869140625,
                -42.0737622400872
               ],
               [
                -63.67675781249999,
                -42.21427941637545
               ],
               [
                -63.6328125,
                -42.261049162113835
               ],
               [
                -63.60260009765625,
                -42.32809302822459
               ],
               [
                -63.60260009765625,
                -42.50247797334869
               ],
               [
                -63.58886718749999,
                -42.60970621339408
               ],
               [
                -63.64379882812499,
                -42.7066595635104
               ],
               [
                -63.62731933593749,
                -42.765162283274684
               ],
               [
                -63.73718261718749,
                -42.81555136172695
               ],
               [
                -64.127197265625,
                -42.879989517714804
               ],
               [
                -64.259033203125,
                -42.76314586689493
               ],
               [
                -64.26177978515625,
                -42.68647341541783
               ],
               [
                -64.2041015625,
                -42.62587560259135
               ],
               [
                -64.21783447265625,
                -42.61172761665583
               ],
               [
                -64.281005859375,
                -42.627896481020834
               ],
               [
                -64.25628662109375,
                -42.595554553719204
               ],
               [
                -64.27825927734375,
                -42.56117285531809
               ],
               [
                -64.31121826171875,
                -42.593532625649935
               ],
               [
                -64.34967041015625,
                -42.53082032025189
               ],
               [
                -64.390869140625,
                -42.51462626746591
               ],
               [
                -64.57763671875,
                -42.49032731830466
               ],
               [
                -64.69573974609375,
                -42.52272381854158
               ],
               [
                -64.852294921875,
                -42.61779143282346
               ],
               [
                -64.874267578125,
                -42.61172761665583
               ],
               [
                -64.9896240234375,
                -42.65214190481524
               ],
               [
                -65.00335693359375,
                -42.700604408080835
               ],
               [
                -65.04730224609375,
                -42.73490914651559
               ],
               [
                -65.02532958984374,
                -42.7752433806997
               ],
               [
                -64.9456787109375,
                -42.78935416050277
               ],
               [
                -64.896240234375,
                -42.819580715795915
               ],
               [
                -64.86328125,
                -42.837709559849614
               ],
               [
                -64.8248291015625,
                -42.833681387335886
               ],
               [
                -64.70947265625,
                -42.87596410238254
               ],
               [
                -64.70123291015625,
                -42.90816007196053
               ],
               [
                -64.62158203125,
                -42.9182178655845
               ],
               [
                -64.53369140625,
                -42.93229601903057
               ],
               [
                -64.412841796875,
                -42.96245265666877
               ],
               [
                -64.34692382812499,
                -42.92827401776912
               ],
               [
                -64.281005859375,
                -42.98053954751642
               ],
               [
                -64.984130859375,
                -43.22118973298753
               ],
               [
                -65.181884765625,
                -43.52465500687185
               ],
               [
                -65.401611328125,
                -43.66787161011748
               ],
               [
                -65.21484375,
                -43.96909818325171
               ],
               [
                -65.21484375,
                -44.09547572946636
               ],
               [
                -65.302734375,
                -44.12702800650004
               ],
               [
                -65.302734375,
                -44.22158376545796
               ],
               [
                -65.23681640625,
                -44.363133113807706
               ],
               [
                -65.36865234375,
                -44.5982904898401
               ],
               [
                -65.72021484375,
                -44.65302415981199
               ],
               [
                -65.76416015625,
                -44.8636563054061
               ],
               [
                -65.54443359375,
                -44.941473354802504
               ],
               [
                -65.643310546875,
                -45.05800143539828
               ],
               [
                -65.8740234375,
                -45.02695045318544
               ],
               [
                -65.972900390625,
                -45.08127861241874
               ],
               [
                -66.148681640625,
                -44.941473354802504
               ],
               [
                -66.51123046875,
                -45.08127861241874
               ],
               [
                -66.588134765625,
                -45.213003555993964
               ],
               [
                -66.64306640625,
                -45.213003555993964
               ],
               [
                -66.99462890625,
                -45.25168825611765
               ],
               [
                -67.401123046875,
                -45.70617928533083
               ],
               [
                -67.401123046875,
                -45.83645405018771
               ],
               [
                -67.56591796875,
                -46.01985337287632
               ],
               [
                -71.619873046875,
                -45.98932892799953
               ],
               [
                -71.773681640625,
                -45.85176048817253
               ],
               [
                -71.7626953125,
                -45.575600209478
               ],
               [
                -71.641845703125,
                -45.52174389699363
               ],
               [
                -71.4990234375,
                -45.47554027158591
               ],
               [
                -71.553955078125,
                -45.38301927899064
               ],
               [
                -71.334228515625,
                -45.29034662473614
               ],
               [
                -71.553955078125,
                -44.98811302615805
               ],
               [
                -72.08129882812499,
                -44.91035917458493
               ],
               [
                -72.08129882812499,
                -44.74673324024679
               ],
               [
                -71.663818359375,
                -44.79353090474406
               ],
               [
                -71.52099609375,
                -44.73112559264325
               ],
               [
                -71.25732421875,
                -44.81691551782855
               ],
               [
                -71.21337890625,
                -44.61393394730626
               ],
               [
                -71.11450195312499,
                -44.6061127451739
               ],
               [
                -71.158447265625,
                -44.44946753600693
               ],
               [
                -71.817626953125,
                -44.4102404129601
               ],
               [
                -71.883544921875,
                -44.087585028245165
               ],
               [
                -71.7626953125,
                -44.150681159780916
               ],
               [
                -71.65283203125,
                -43.94537239244209
               ],
               [
                -71.78466796874999,
                -43.81074731344698
               ],
               [
                -71.60888671875,
                -43.63607515596578
               ],
               [
                -71.905517578125,
                -43.5326204268101
               ],
               [
                -71.9384765625,
                -43.36512572875842
               ],
               [
                -71.773681640625,
                -43.31718491566705
               ],
               [
                -71.773681640625,
                -43.16512263158296
               ],
               [
                -72.147216796875,
                -42.94033923363181
               ],
               [
                -72.158203125,
                -42.72280375732726
               ],
               [
                -72.02636718749999,
                -42.40723466155186
               ],
               [
                -72.169189453125,
                -42.350425122434565
               ],
               [
                -72.2021484375,
                -42.15525946577861
               ],
               [
                -72.08129882812499,
                -42.0737622400872
               ],
               [
                -71.89453125,
                -42.204107493733176
               ],
               [
                -71.751708984375,
                -42.12267315117256
               ],
               [
                -71.795654296875,
                -42.000325148316215
               ]
              ]
             ],
             "type": "Polygon"
            },
            "id": "Chubut",
            "properties": {},
            "type": "Feature"
           },
           {
            "bbox": [
             -73.564453125,
             -52.35547370875268,
             -65.709228515625,
             -45.98169518512228
            ],
            "geometry": {
             "coordinates": [
              [
               [
                -67.598876953125,
                -46.01985337287632
               ],
               [
                -67.6318359375,
                -46.21785176740299
               ],
               [
                -67.576904296875,
                -46.36967413462374
               ],
               [
                -67.39013671875,
                -46.59661864884464
               ],
               [
                -66.632080078125,
                -47.04766864046081
               ],
               [
                -66.192626953125,
                -47.070121823833084
               ],
               [
                -65.928955078125,
                -47.055154085503474
               ],
               [
                -65.753173828125,
                -47.18224592701489
               ],
               [
                -65.709228515625,
                -47.36115300722623
               ],
               [
                -65.906982421875,
                -47.75409797968002
               ],
               [
                -65.775146484375,
                -47.91634204016117
               ],
               [
                -65.841064453125,
                -47.975214123416166
               ],
               [
                -65.9619140625,
                -47.93106634750977
               ],
               [
                -66.02783203125,
                -48.01197512670994
               ],
               [
                -65.93994140625,
                -48.08541857551197
               ],
               [
                -66.192626953125,
                -48.12943437745314
               ],
               [
                -66.37939453125,
                -48.363548888986884
               ],
               [
                -66.478271484375,
                -48.327039130634766
               ],
               [
                -66.46728515624999,
                -48.400032496106846
               ],
               [
                -66.873779296875,
                -48.60385760823253
               ],
               [
                -67.159423828125,
                -48.64016871811908
               ],
               [
                -67.203369140625,
                -48.821332549646634
               ],
               [
                -67.598876953125,
                -49.0738659012854
               ],
               [
                -67.6318359375,
                -49.26780455063752
               ],
               [
                -67.752685546875,
                -49.85215166776998
               ],
               [
                -68.291015625,
                -50.12057809796008
               ],
               [
                -68.64257812499999,
                -49.83798245308484
               ],
               [
                -68.367919921875,
                -50.13466432216695
               ],
               [
                -68.93920898437499,
                -50.324422739309384
               ],
               [
                -69.136962890625,
                -50.847572953653874
               ],
               [
                -69.3896484375,
                -51.082821861609766
               ],
               [
                -69.18090820312499,
                -50.965346321637696
               ],
               [
                -68.9501953125,
                -51.52241608253253
               ],
               [
                -68.9501953125,
                -51.68617954855623
               ],
               [
                -68.35693359375,
                -52.32862548843016
               ],
               [
                -68.4228515625,
                -52.35547370875268
               ],
               [
                -68.895263671875,
                -52.274880130680536
               ],
               [
                -69.169921875,
                -52.146973340644706
               ],
               [
                -69.521484375,
                -52.15371445951162
               ],
               [
                -69.9609375,
                -51.99841038239032
               ],
               [
                -72.02636718749999,
                -51.971345808851716
               ],
               [
                -71.927490234375,
                -51.923943445544694
               ],
               [
                -72.2900390625,
                -51.692990211491846
               ],
               [
                -72.2900390625,
                -51.618016548773696
               ],
               [
                -72.421875,
                -51.570241445811234
               ],
               [
                -72.301025390625,
                -51.39920565355377
               ],
               [
                -72.3779296875,
                -51.35806157319091
               ],
               [
                -72.26806640624999,
                -51.26878915771343
               ],
               [
                -72.388916015625,
                -51.13800148806255
               ],
               [
                -72.388916015625,
                -51.020666012558095
               ],
               [
                -72.2900390625,
                -51.03448563297413
               ],
               [
                -72.3779296875,
                -50.736455137010644
               ],
               [
                -72.279052734375,
                -50.67383524992133
               ],
               [
                -72.4658203125,
                -50.59718623058701
               ],
               [
                -72.59765625,
                -50.68775800806201
               ],
               [
                -72.79541015625,
                -50.639010281258706
               ],
               [
                -73.1689453125,
                -50.79899141148548
               ],
               [
                -73.17993164062499,
                -50.625073063414355
               ],
               [
                -73.36669921875,
                -50.57626025689926
               ],
               [
                -73.42163085937499,
                -50.34546040860478
               ],
               [
                -73.41064453125,
                -50.24017888479702
               ],
               [
                -73.531494140625,
                -50.14170587960566
               ],
               [
                -73.45458984375,
                -49.96535590991309
               ],
               [
                -73.564453125,
                -49.95121990866204
               ],
               [
                -73.45458984375,
                -49.80963156356309
               ],
               [
                -73.54248046875,
                -49.55372551347578
               ],
               [
                -73.41064453125,
                -49.35375571830991
               ],
               [
                -73.5205078125,
                -49.26780455063752
               ],
               [
                -73.47656249999999,
                -49.210420445650286
               ],
               [
                -73.0810546875,
                -49.274972875996376
               ],
               [
                -73.135986328125,
                -49.2032427441791
               ],
               [
                -72.894287109375,
                -48.944151234187935
               ],
               [
                -72.83935546875,
                -48.98021698537499
               ],
               [
                -72.5537109375,
                -48.78515199804314
               ],
               [
                -72.57568359375,
                -48.451065619532145
               ],
               [
                -72.432861328125,
                -48.52388120259334
               ],
               [
                -72.257080078125,
                -48.34164617237459
               ],
               [
                -72.44384765625,
                -47.98992166741417
               ],
               [
                -72.564697265625,
                -47.95314495015593
               ],
               [
                -72.520751953125,
                -47.76886840424206
               ],
               [
                -72.322998046875,
                -47.613569753973955
               ],
               [
                -72.35595703125,
                -47.46523622438362
               ],
               [
                -72.1142578125,
                -47.31648293428332
               ],
               [
                -72.037353515625,
                -47.353710619513606
               ],
               [
                -72.037353515625,
                -47.19717795172787
               ],
               [
                -71.8505859375,
                -47.21210577562242
               ],
               [
                -71.97143554687499,
                -46.8000594467873
               ],
               [
                -71.883544921875,
                -46.8000594467873
               ],
               [
                -71.641845703125,
                -46.68713141244413
               ],
               [
                -71.78466796874999,
                -46.21785176740299
               ],
               [
                -71.9384765625,
                -46.13417004624325
               ],
               [
                -71.7626953125,
                -46.10370875598025
               ],
               [
                -71.60888671875,
                -45.98169518512228
               ],
               [
                -67.598876953125,
                -46.01985337287632
               ]
              ]
             ],
             "type": "Polygon"
            },
            "id": "Santa Cruz",
            "properties": {},
            "type": "Feature"
           },
           {
            "bbox": [
             -68.62060546875,
             -55.040614327716725,
             -65.19287109375,
             -52.36218321674425
            ],
            "geometry": {
             "coordinates": [
              [
               [
                -68.40087890624999,
                -52.36218321674425
               ],
               [
                -68.5546875,
                -52.72298552457067
               ],
               [
                -68.3349609375,
                -53.01478324585921
               ],
               [
                -68.62060546875,
                -53.25206880589412
               ],
               [
                -68.09326171875,
                -53.34399288223421
               ],
               [
                -68.04931640625,
                -53.59250480903936
               ],
               [
                -67.6318359375,
                -53.77468884583576
               ],
               [
                -67.47802734375,
                -53.95608553098789
               ],
               [
                -66.70898437499999,
                -54.316523240258256
               ],
               [
                -66.5771484375,
                -54.48280455958254
               ],
               [
                -65.63232421875,
                -54.67383096593114
               ],
               [
                -65.19287109375,
                -54.686534234529695
               ],
               [
                -65.3466796875,
                -54.914514007665254
               ],
               [
                -66.37939453125,
                -55.040614327716725
               ],
               [
                -67.25830078125,
                -54.914514007665254
               ],
               [
                -68.62060546875,
                -54.927141864546435
               ],
               [
                -68.62060546875,
                -52.643063436658906
               ],
               [
                -68.40087890624999,
                -52.36218321674425
               ]
              ]
             ],
             "type": "Polygon"
            },
            "id": "Tierra del Fuego, Antártida e Islas del Atlántico Sur",
            "properties": {},
            "type": "Feature"
           },
           {
            "bbox": [
             -58.532752990722656,
             -34.705281728442685,
             -58.33602905273437,
             -34.53371242139564
            ],
            "geometry": {
             "coordinates": [
              [
               [
                -58.41293334960937,
                -34.56566571569509
               ],
               [
                -58.36967468261719,
                -34.578387062362864
               ],
               [
                -58.36486816406249,
                -34.598737167902335
               ],
               [
                -58.35868835449218,
                -34.595345829770636
               ],
               [
                -58.34770202636719,
                -34.598737167902335
               ],
               [
                -58.33602905273437,
                -34.62699293367837
               ],
               [
                -58.34564208984375,
                -34.626427912618915
               ],
               [
                -58.347015380859375,
                -34.63320791137958
               ],
               [
                -58.356971740722656,
                -34.64436545285109
               ],
               [
                -58.36186408996582,
                -34.64831966420204
               ],
               [
                -58.36418151855469,
                -34.64863740514246
               ],
               [
                -58.368988037109375,
                -34.65146171553466
               ],
               [
                -58.36963176727295,
                -34.6538270014492
               ],
               [
                -58.37362289428711,
                -34.65718064936219
               ],
               [
                -58.37692737579346,
                -34.6571453485119
               ],
               [
                -58.38409423828125,
                -34.6586279712784
               ],
               [
                -58.39336395263672,
                -34.66286389017133
               ],
               [
                -58.40572357177734,
                -34.65975757082139
               ],
               [
                -58.41293334960937,
                -34.65778076151677
               ],
               [
                -58.424949645996094,
                -34.662299113496196
               ],
               [
                -58.46099853515624,
                -34.705281728442685
               ],
               [
                -58.52931976318359,
                -34.6555214931444
               ],
               [
                -58.532752990722656,
                -34.61682196594163
               ],
               [
                -58.50116729736328,
                -34.54954921593402
               ],
               [
                -58.46580505371094,
                -34.53371242139564
               ],
               [
                -58.41293334960937,
                -34.56566571569509
               ]
              ]
             ],
             "type": "Polygon"
            },
            "id": "Ciudad Autónoma de Buenos Aires",
            "properties": {},
            "type": "Feature"
           }
          ],
          "type": "FeatureCollection"
         },
         "hovertemplate": "<b>%{hovertext}</b><br>Total Licenses: %{z}<extra></extra>",
         "hovertext": [
          "Tucumán",
          "Santiago del Estero",
          "Salta",
          "Jujuy",
          "Formosa",
          "Chaco",
          "Misiones",
          "Corrientes",
          "Catamarca",
          "Córdoba",
          "Santa Fe",
          "Entre Ríos",
          "Buenos Aires",
          "La Pampa",
          "La Rioja",
          "San Juan",
          "San Luis",
          "Mendoza",
          "Neuquén",
          "Río Negro",
          "Chubut",
          "Santa Cruz",
          "Tierra del Fuego, Antártida e Islas del Atlántico Sur",
          "Ciudad Autónoma de Buenos Aires"
         ],
         "locations": [
          "Tucumán",
          "Santiago del Estero",
          "Salta",
          "Jujuy",
          "Formosa",
          "Chaco",
          "Misiones",
          "Corrientes",
          "Catamarca",
          "Córdoba",
          "Santa Fe",
          "Entre Ríos",
          "Buenos Aires",
          "La Pampa",
          "La Rioja",
          "San Juan",
          "San Luis",
          "Mendoza",
          "Neuquén",
          "Río Negro",
          "Chubut",
          "Santa Cruz",
          "Tierra del Fuego, Antártida e Islas del Atlántico Sur",
          "Ciudad Autónoma de Buenos Aires"
         ],
         "marker": {
          "opacity": 0.6
         },
         "name": "",
         "subplot": "mapbox",
         "type": "choroplethmapbox",
         "z": [
          116,
          94,
          118,
          27,
          27,
          132,
          138,
          243,
          72,
          1377,
          1027,
          576,
          6537,
          112,
          56,
          179,
          163,
          778,
          255,
          410,
          507,
          246,
          166,
          1639
         ]
        }
       ],
       "layout": {
        "coloraxis": {
         "colorbar": {
          "orientation": "h",
          "title": {
           "text": "Total Licenses"
          }
         },
         "colorscale": [
          [
           0,
           "rgb(255,245,235)"
          ],
          [
           0.125,
           "rgb(254,230,206)"
          ],
          [
           0.25,
           "rgb(253,208,162)"
          ],
          [
           0.375,
           "rgb(253,174,107)"
          ],
          [
           0.5,
           "rgb(253,141,60)"
          ],
          [
           0.625,
           "rgb(241,105,19)"
          ],
          [
           0.75,
           "rgb(217,72,1)"
          ],
          [
           0.875,
           "rgb(166,54,3)"
          ],
          [
           1,
           "rgb(127,39,4)"
          ]
         ]
        },
        "font": {
         "family": "Ubuntu"
        },
        "height": 700,
        "legend": {
         "tracegroupgap": 0
        },
        "mapbox": {
         "center": {
          "lat": -40.7,
          "lon": -65.12695
         },
         "domain": {
          "x": [
           0,
           1
          ],
          "y": [
           0,
           1
          ]
         },
         "style": "carto-positron",
         "zoom": 3
        },
        "margin": {
         "b": 0
        },
        "template": {
         "data": {
          "bar": [
           {
            "error_x": {
             "color": "#2a3f5f"
            },
            "error_y": {
             "color": "#2a3f5f"
            },
            "marker": {
             "line": {
              "color": "#E5ECF6",
              "width": 0.5
             },
             "pattern": {
              "fillmode": "overlay",
              "size": 10,
              "solidity": 0.2
             }
            },
            "type": "bar"
           }
          ],
          "barpolar": [
           {
            "marker": {
             "line": {
              "color": "#E5ECF6",
              "width": 0.5
             },
             "pattern": {
              "fillmode": "overlay",
              "size": 10,
              "solidity": 0.2
             }
            },
            "type": "barpolar"
           }
          ],
          "carpet": [
           {
            "aaxis": {
             "endlinecolor": "#2a3f5f",
             "gridcolor": "white",
             "linecolor": "white",
             "minorgridcolor": "white",
             "startlinecolor": "#2a3f5f"
            },
            "baxis": {
             "endlinecolor": "#2a3f5f",
             "gridcolor": "white",
             "linecolor": "white",
             "minorgridcolor": "white",
             "startlinecolor": "#2a3f5f"
            },
            "type": "carpet"
           }
          ],
          "choropleth": [
           {
            "colorbar": {
             "outlinewidth": 0,
             "ticks": ""
            },
            "type": "choropleth"
           }
          ],
          "contour": [
           {
            "colorbar": {
             "outlinewidth": 0,
             "ticks": ""
            },
            "colorscale": [
             [
              0,
              "#0d0887"
             ],
             [
              0.1111111111111111,
              "#46039f"
             ],
             [
              0.2222222222222222,
              "#7201a8"
             ],
             [
              0.3333333333333333,
              "#9c179e"
             ],
             [
              0.4444444444444444,
              "#bd3786"
             ],
             [
              0.5555555555555556,
              "#d8576b"
             ],
             [
              0.6666666666666666,
              "#ed7953"
             ],
             [
              0.7777777777777778,
              "#fb9f3a"
             ],
             [
              0.8888888888888888,
              "#fdca26"
             ],
             [
              1,
              "#f0f921"
             ]
            ],
            "type": "contour"
           }
          ],
          "contourcarpet": [
           {
            "colorbar": {
             "outlinewidth": 0,
             "ticks": ""
            },
            "type": "contourcarpet"
           }
          ],
          "heatmap": [
           {
            "colorbar": {
             "outlinewidth": 0,
             "ticks": ""
            },
            "colorscale": [
             [
              0,
              "#0d0887"
             ],
             [
              0.1111111111111111,
              "#46039f"
             ],
             [
              0.2222222222222222,
              "#7201a8"
             ],
             [
              0.3333333333333333,
              "#9c179e"
             ],
             [
              0.4444444444444444,
              "#bd3786"
             ],
             [
              0.5555555555555556,
              "#d8576b"
             ],
             [
              0.6666666666666666,
              "#ed7953"
             ],
             [
              0.7777777777777778,
              "#fb9f3a"
             ],
             [
              0.8888888888888888,
              "#fdca26"
             ],
             [
              1,
              "#f0f921"
             ]
            ],
            "type": "heatmap"
           }
          ],
          "heatmapgl": [
           {
            "colorbar": {
             "outlinewidth": 0,
             "ticks": ""
            },
            "colorscale": [
             [
              0,
              "#0d0887"
             ],
             [
              0.1111111111111111,
              "#46039f"
             ],
             [
              0.2222222222222222,
              "#7201a8"
             ],
             [
              0.3333333333333333,
              "#9c179e"
             ],
             [
              0.4444444444444444,
              "#bd3786"
             ],
             [
              0.5555555555555556,
              "#d8576b"
             ],
             [
              0.6666666666666666,
              "#ed7953"
             ],
             [
              0.7777777777777778,
              "#fb9f3a"
             ],
             [
              0.8888888888888888,
              "#fdca26"
             ],
             [
              1,
              "#f0f921"
             ]
            ],
            "type": "heatmapgl"
           }
          ],
          "histogram": [
           {
            "marker": {
             "pattern": {
              "fillmode": "overlay",
              "size": 10,
              "solidity": 0.2
             }
            },
            "type": "histogram"
           }
          ],
          "histogram2d": [
           {
            "colorbar": {
             "outlinewidth": 0,
             "ticks": ""
            },
            "colorscale": [
             [
              0,
              "#0d0887"
             ],
             [
              0.1111111111111111,
              "#46039f"
             ],
             [
              0.2222222222222222,
              "#7201a8"
             ],
             [
              0.3333333333333333,
              "#9c179e"
             ],
             [
              0.4444444444444444,
              "#bd3786"
             ],
             [
              0.5555555555555556,
              "#d8576b"
             ],
             [
              0.6666666666666666,
              "#ed7953"
             ],
             [
              0.7777777777777778,
              "#fb9f3a"
             ],
             [
              0.8888888888888888,
              "#fdca26"
             ],
             [
              1,
              "#f0f921"
             ]
            ],
            "type": "histogram2d"
           }
          ],
          "histogram2dcontour": [
           {
            "colorbar": {
             "outlinewidth": 0,
             "ticks": ""
            },
            "colorscale": [
             [
              0,
              "#0d0887"
             ],
             [
              0.1111111111111111,
              "#46039f"
             ],
             [
              0.2222222222222222,
              "#7201a8"
             ],
             [
              0.3333333333333333,
              "#9c179e"
             ],
             [
              0.4444444444444444,
              "#bd3786"
             ],
             [
              0.5555555555555556,
              "#d8576b"
             ],
             [
              0.6666666666666666,
              "#ed7953"
             ],
             [
              0.7777777777777778,
              "#fb9f3a"
             ],
             [
              0.8888888888888888,
              "#fdca26"
             ],
             [
              1,
              "#f0f921"
             ]
            ],
            "type": "histogram2dcontour"
           }
          ],
          "mesh3d": [
           {
            "colorbar": {
             "outlinewidth": 0,
             "ticks": ""
            },
            "type": "mesh3d"
           }
          ],
          "parcoords": [
           {
            "line": {
             "colorbar": {
              "outlinewidth": 0,
              "ticks": ""
             }
            },
            "type": "parcoords"
           }
          ],
          "pie": [
           {
            "automargin": true,
            "type": "pie"
           }
          ],
          "scatter": [
           {
            "fillpattern": {
             "fillmode": "overlay",
             "size": 10,
             "solidity": 0.2
            },
            "type": "scatter"
           }
          ],
          "scatter3d": [
           {
            "line": {
             "colorbar": {
              "outlinewidth": 0,
              "ticks": ""
             }
            },
            "marker": {
             "colorbar": {
              "outlinewidth": 0,
              "ticks": ""
             }
            },
            "type": "scatter3d"
           }
          ],
          "scattercarpet": [
           {
            "marker": {
             "colorbar": {
              "outlinewidth": 0,
              "ticks": ""
             }
            },
            "type": "scattercarpet"
           }
          ],
          "scattergeo": [
           {
            "marker": {
             "colorbar": {
              "outlinewidth": 0,
              "ticks": ""
             }
            },
            "type": "scattergeo"
           }
          ],
          "scattergl": [
           {
            "marker": {
             "colorbar": {
              "outlinewidth": 0,
              "ticks": ""
             }
            },
            "type": "scattergl"
           }
          ],
          "scattermapbox": [
           {
            "marker": {
             "colorbar": {
              "outlinewidth": 0,
              "ticks": ""
             }
            },
            "type": "scattermapbox"
           }
          ],
          "scatterpolar": [
           {
            "marker": {
             "colorbar": {
              "outlinewidth": 0,
              "ticks": ""
             }
            },
            "type": "scatterpolar"
           }
          ],
          "scatterpolargl": [
           {
            "marker": {
             "colorbar": {
              "outlinewidth": 0,
              "ticks": ""
             }
            },
            "type": "scatterpolargl"
           }
          ],
          "scatterternary": [
           {
            "marker": {
             "colorbar": {
              "outlinewidth": 0,
              "ticks": ""
             }
            },
            "type": "scatterternary"
           }
          ],
          "surface": [
           {
            "colorbar": {
             "outlinewidth": 0,
             "ticks": ""
            },
            "colorscale": [
             [
              0,
              "#0d0887"
             ],
             [
              0.1111111111111111,
              "#46039f"
             ],
             [
              0.2222222222222222,
              "#7201a8"
             ],
             [
              0.3333333333333333,
              "#9c179e"
             ],
             [
              0.4444444444444444,
              "#bd3786"
             ],
             [
              0.5555555555555556,
              "#d8576b"
             ],
             [
              0.6666666666666666,
              "#ed7953"
             ],
             [
              0.7777777777777778,
              "#fb9f3a"
             ],
             [
              0.8888888888888888,
              "#fdca26"
             ],
             [
              1,
              "#f0f921"
             ]
            ],
            "type": "surface"
           }
          ],
          "table": [
           {
            "cells": {
             "fill": {
              "color": "#EBF0F8"
             },
             "line": {
              "color": "white"
             }
            },
            "header": {
             "fill": {
              "color": "#C8D4E3"
             },
             "line": {
              "color": "white"
             }
            },
            "type": "table"
           }
          ]
         },
         "layout": {
          "annotationdefaults": {
           "arrowcolor": "#2a3f5f",
           "arrowhead": 0,
           "arrowwidth": 1
          },
          "autotypenumbers": "strict",
          "coloraxis": {
           "colorbar": {
            "outlinewidth": 0,
            "ticks": ""
           }
          },
          "colorscale": {
           "diverging": [
            [
             0,
             "#8e0152"
            ],
            [
             0.1,
             "#c51b7d"
            ],
            [
             0.2,
             "#de77ae"
            ],
            [
             0.3,
             "#f1b6da"
            ],
            [
             0.4,
             "#fde0ef"
            ],
            [
             0.5,
             "#f7f7f7"
            ],
            [
             0.6,
             "#e6f5d0"
            ],
            [
             0.7,
             "#b8e186"
            ],
            [
             0.8,
             "#7fbc41"
            ],
            [
             0.9,
             "#4d9221"
            ],
            [
             1,
             "#276419"
            ]
           ],
           "sequential": [
            [
             0,
             "#0d0887"
            ],
            [
             0.1111111111111111,
             "#46039f"
            ],
            [
             0.2222222222222222,
             "#7201a8"
            ],
            [
             0.3333333333333333,
             "#9c179e"
            ],
            [
             0.4444444444444444,
             "#bd3786"
            ],
            [
             0.5555555555555556,
             "#d8576b"
            ],
            [
             0.6666666666666666,
             "#ed7953"
            ],
            [
             0.7777777777777778,
             "#fb9f3a"
            ],
            [
             0.8888888888888888,
             "#fdca26"
            ],
            [
             1,
             "#f0f921"
            ]
           ],
           "sequentialminus": [
            [
             0,
             "#0d0887"
            ],
            [
             0.1111111111111111,
             "#46039f"
            ],
            [
             0.2222222222222222,
             "#7201a8"
            ],
            [
             0.3333333333333333,
             "#9c179e"
            ],
            [
             0.4444444444444444,
             "#bd3786"
            ],
            [
             0.5555555555555556,
             "#d8576b"
            ],
            [
             0.6666666666666666,
             "#ed7953"
            ],
            [
             0.7777777777777778,
             "#fb9f3a"
            ],
            [
             0.8888888888888888,
             "#fdca26"
            ],
            [
             1,
             "#f0f921"
            ]
           ]
          },
          "colorway": [
           "#636efa",
           "#EF553B",
           "#00cc96",
           "#ab63fa",
           "#FFA15A",
           "#19d3f3",
           "#FF6692",
           "#B6E880",
           "#FF97FF",
           "#FECB52"
          ],
          "font": {
           "color": "#2a3f5f"
          },
          "geo": {
           "bgcolor": "white",
           "lakecolor": "white",
           "landcolor": "#E5ECF6",
           "showlakes": true,
           "showland": true,
           "subunitcolor": "white"
          },
          "hoverlabel": {
           "align": "left"
          },
          "hovermode": "closest",
          "mapbox": {
           "style": "light"
          },
          "paper_bgcolor": "white",
          "plot_bgcolor": "#E5ECF6",
          "polar": {
           "angularaxis": {
            "gridcolor": "white",
            "linecolor": "white",
            "ticks": ""
           },
           "bgcolor": "#E5ECF6",
           "radialaxis": {
            "gridcolor": "white",
            "linecolor": "white",
            "ticks": ""
           }
          },
          "scene": {
           "xaxis": {
            "backgroundcolor": "#E5ECF6",
            "gridcolor": "white",
            "gridwidth": 2,
            "linecolor": "white",
            "showbackground": true,
            "ticks": "",
            "zerolinecolor": "white"
           },
           "yaxis": {
            "backgroundcolor": "#E5ECF6",
            "gridcolor": "white",
            "gridwidth": 2,
            "linecolor": "white",
            "showbackground": true,
            "ticks": "",
            "zerolinecolor": "white"
           },
           "zaxis": {
            "backgroundcolor": "#E5ECF6",
            "gridcolor": "white",
            "gridwidth": 2,
            "linecolor": "white",
            "showbackground": true,
            "ticks": "",
            "zerolinecolor": "white"
           }
          },
          "shapedefaults": {
           "line": {
            "color": "#2a3f5f"
           }
          },
          "ternary": {
           "aaxis": {
            "gridcolor": "white",
            "linecolor": "white",
            "ticks": ""
           },
           "baxis": {
            "gridcolor": "white",
            "linecolor": "white",
            "ticks": ""
           },
           "bgcolor": "#E5ECF6",
           "caxis": {
            "gridcolor": "white",
            "linecolor": "white",
            "ticks": ""
           }
          },
          "title": {
           "x": 0.05
          },
          "xaxis": {
           "automargin": true,
           "gridcolor": "white",
           "linecolor": "white",
           "ticks": "",
           "title": {
            "standoff": 15
           },
           "zerolinecolor": "white",
           "zerolinewidth": 2
          },
          "yaxis": {
           "automargin": true,
           "gridcolor": "white",
           "linecolor": "white",
           "ticks": "",
           "title": {
            "standoff": 15
           },
           "zerolinecolor": "white",
           "zerolinewidth": 2
          }
         }
        },
        "title": {
         "font": {
          "size": 20
         },
         "text": "Total Amateur Radio Licenses"
        },
        "width": 900
       }
      }
     },
     "metadata": {},
     "output_type": "display_data"
    }
   ],
   "source": [
    "fig2 = px.choropleth_mapbox(gdf, \n",
    "                           geojson=gdf.geometry, \n",
    "                           locations=gdf.index,\n",
    "                           color='total_licenses',\n",
    "                           color_continuous_scale = px.colors.sequential.Oranges,\n",
    "                           mapbox_style='carto-positron', \n",
    "                           center={'lat': -40.7, 'lon': -65.12695},\n",
    "                           zoom=3,\n",
    "                           opacity=0.6,\n",
    "                           labels={'total_licenses': 'Total Licenses'},\n",
    "                           hover_name=gdf.index,\n",
    "                           title='Total Amateur Radio Licenses')\n",
    "fig2.update_layout(height=700, width=900, margin={'b':0}, font_family='Ubuntu', title_font_size=20)\n",
    "fig2.update_traces(hovertemplate='<b>%{hovertext}</b><br>Total Licenses: %{z}<extra></extra>')\n",
    "fig2.update_layout(coloraxis=dict(colorbar=dict(orientation='h')))\n",
    "fig2.show()"
   ]
  },
  {
   "cell_type": "code",
   "execution_count": 797,
   "metadata": {},
   "outputs": [
    {
     "data": {
      "application/vnd.plotly.v1+json": {
       "config": {
        "plotlyServerURL": "https://plot.ly"
       },
       "data": [
        {
         "alignmentgroup": "True",
         "hovertemplate": "Licenses: %{y:0.4%}<extra></extra>",
         "legendgroup": "licenses_perc_pop",
         "marker": {
          "color": "chocolate",
          "line": {
           "color": "DarkSlateGrey",
           "width": 1
          },
          "pattern": {
           "shape": ""
          }
         },
         "name": "licenses_perc_pop",
         "offsetgroup": "licenses_perc_pop",
         "orientation": "v",
         "showlegend": true,
         "textposition": "auto",
         "type": "bar",
         "x": [
          "Tierra del Fuego, Antártida e Islas del Atlántico Sur",
          "Chubut",
          "Santa Cruz",
          "Río Negro",
          "Ciudad Autónoma de Buenos Aires",
          "Entre Ríos",
          "Mendoza",
          "Buenos Aires",
          "Neuquén",
          "Córdoba",
          "La Pampa",
          "San Luis",
          "Santa Fe",
          "San Juan",
          "Corrientes",
          "Catamarca",
          "La Rioja",
          "Chaco",
          "Misiones",
          "Santiago del Estero",
          "Salta",
          "Tucumán",
          "Formosa",
          "Jujuy"
         ],
         "xaxis": "x",
         "y": [
          0.000870746586516017,
          0.0008406287306008754,
          0.0007376909075097534,
          0.0005380104374024857,
          0.0005252174893899017,
          0.0004038064365063452,
          0.000386193723309571,
          0.00037207469292738774,
          0.00035091920188588105,
          0.0003460682425463385,
          0.00030599253596778333,
          0.0003013468169086993,
          0.00028876282421851275,
          0.00021876382550712877,
          0.00020291377500620015,
          0.00016761493262810903,
          0.00014560317414919646,
          0.00011548930280332784,
          0.00010773170122408194,
          0.00008918169156796594,
          0.00008190622154105862,
          0.00006810765236445109,
          0.00004468142146495487,
          0.00003383649453916574
         ],
         "yaxis": "y"
        }
       ],
       "layout": {
        "barmode": "relative",
        "font": {
         "family": "Ubuntu"
        },
        "height": 700,
        "hovermode": "x unified",
        "legend": {
         "title": {
          "text": "variable"
         },
         "tracegroupgap": 0
        },
        "showlegend": false,
        "template": {
         "data": {
          "bar": [
           {
            "error_x": {
             "color": "#2a3f5f"
            },
            "error_y": {
             "color": "#2a3f5f"
            },
            "marker": {
             "line": {
              "color": "#E5ECF6",
              "width": 0.5
             },
             "pattern": {
              "fillmode": "overlay",
              "size": 10,
              "solidity": 0.2
             }
            },
            "type": "bar"
           }
          ],
          "barpolar": [
           {
            "marker": {
             "line": {
              "color": "#E5ECF6",
              "width": 0.5
             },
             "pattern": {
              "fillmode": "overlay",
              "size": 10,
              "solidity": 0.2
             }
            },
            "type": "barpolar"
           }
          ],
          "carpet": [
           {
            "aaxis": {
             "endlinecolor": "#2a3f5f",
             "gridcolor": "white",
             "linecolor": "white",
             "minorgridcolor": "white",
             "startlinecolor": "#2a3f5f"
            },
            "baxis": {
             "endlinecolor": "#2a3f5f",
             "gridcolor": "white",
             "linecolor": "white",
             "minorgridcolor": "white",
             "startlinecolor": "#2a3f5f"
            },
            "type": "carpet"
           }
          ],
          "choropleth": [
           {
            "colorbar": {
             "outlinewidth": 0,
             "ticks": ""
            },
            "type": "choropleth"
           }
          ],
          "contour": [
           {
            "colorbar": {
             "outlinewidth": 0,
             "ticks": ""
            },
            "colorscale": [
             [
              0,
              "#0d0887"
             ],
             [
              0.1111111111111111,
              "#46039f"
             ],
             [
              0.2222222222222222,
              "#7201a8"
             ],
             [
              0.3333333333333333,
              "#9c179e"
             ],
             [
              0.4444444444444444,
              "#bd3786"
             ],
             [
              0.5555555555555556,
              "#d8576b"
             ],
             [
              0.6666666666666666,
              "#ed7953"
             ],
             [
              0.7777777777777778,
              "#fb9f3a"
             ],
             [
              0.8888888888888888,
              "#fdca26"
             ],
             [
              1,
              "#f0f921"
             ]
            ],
            "type": "contour"
           }
          ],
          "contourcarpet": [
           {
            "colorbar": {
             "outlinewidth": 0,
             "ticks": ""
            },
            "type": "contourcarpet"
           }
          ],
          "heatmap": [
           {
            "colorbar": {
             "outlinewidth": 0,
             "ticks": ""
            },
            "colorscale": [
             [
              0,
              "#0d0887"
             ],
             [
              0.1111111111111111,
              "#46039f"
             ],
             [
              0.2222222222222222,
              "#7201a8"
             ],
             [
              0.3333333333333333,
              "#9c179e"
             ],
             [
              0.4444444444444444,
              "#bd3786"
             ],
             [
              0.5555555555555556,
              "#d8576b"
             ],
             [
              0.6666666666666666,
              "#ed7953"
             ],
             [
              0.7777777777777778,
              "#fb9f3a"
             ],
             [
              0.8888888888888888,
              "#fdca26"
             ],
             [
              1,
              "#f0f921"
             ]
            ],
            "type": "heatmap"
           }
          ],
          "heatmapgl": [
           {
            "colorbar": {
             "outlinewidth": 0,
             "ticks": ""
            },
            "colorscale": [
             [
              0,
              "#0d0887"
             ],
             [
              0.1111111111111111,
              "#46039f"
             ],
             [
              0.2222222222222222,
              "#7201a8"
             ],
             [
              0.3333333333333333,
              "#9c179e"
             ],
             [
              0.4444444444444444,
              "#bd3786"
             ],
             [
              0.5555555555555556,
              "#d8576b"
             ],
             [
              0.6666666666666666,
              "#ed7953"
             ],
             [
              0.7777777777777778,
              "#fb9f3a"
             ],
             [
              0.8888888888888888,
              "#fdca26"
             ],
             [
              1,
              "#f0f921"
             ]
            ],
            "type": "heatmapgl"
           }
          ],
          "histogram": [
           {
            "marker": {
             "pattern": {
              "fillmode": "overlay",
              "size": 10,
              "solidity": 0.2
             }
            },
            "type": "histogram"
           }
          ],
          "histogram2d": [
           {
            "colorbar": {
             "outlinewidth": 0,
             "ticks": ""
            },
            "colorscale": [
             [
              0,
              "#0d0887"
             ],
             [
              0.1111111111111111,
              "#46039f"
             ],
             [
              0.2222222222222222,
              "#7201a8"
             ],
             [
              0.3333333333333333,
              "#9c179e"
             ],
             [
              0.4444444444444444,
              "#bd3786"
             ],
             [
              0.5555555555555556,
              "#d8576b"
             ],
             [
              0.6666666666666666,
              "#ed7953"
             ],
             [
              0.7777777777777778,
              "#fb9f3a"
             ],
             [
              0.8888888888888888,
              "#fdca26"
             ],
             [
              1,
              "#f0f921"
             ]
            ],
            "type": "histogram2d"
           }
          ],
          "histogram2dcontour": [
           {
            "colorbar": {
             "outlinewidth": 0,
             "ticks": ""
            },
            "colorscale": [
             [
              0,
              "#0d0887"
             ],
             [
              0.1111111111111111,
              "#46039f"
             ],
             [
              0.2222222222222222,
              "#7201a8"
             ],
             [
              0.3333333333333333,
              "#9c179e"
             ],
             [
              0.4444444444444444,
              "#bd3786"
             ],
             [
              0.5555555555555556,
              "#d8576b"
             ],
             [
              0.6666666666666666,
              "#ed7953"
             ],
             [
              0.7777777777777778,
              "#fb9f3a"
             ],
             [
              0.8888888888888888,
              "#fdca26"
             ],
             [
              1,
              "#f0f921"
             ]
            ],
            "type": "histogram2dcontour"
           }
          ],
          "mesh3d": [
           {
            "colorbar": {
             "outlinewidth": 0,
             "ticks": ""
            },
            "type": "mesh3d"
           }
          ],
          "parcoords": [
           {
            "line": {
             "colorbar": {
              "outlinewidth": 0,
              "ticks": ""
             }
            },
            "type": "parcoords"
           }
          ],
          "pie": [
           {
            "automargin": true,
            "type": "pie"
           }
          ],
          "scatter": [
           {
            "fillpattern": {
             "fillmode": "overlay",
             "size": 10,
             "solidity": 0.2
            },
            "type": "scatter"
           }
          ],
          "scatter3d": [
           {
            "line": {
             "colorbar": {
              "outlinewidth": 0,
              "ticks": ""
             }
            },
            "marker": {
             "colorbar": {
              "outlinewidth": 0,
              "ticks": ""
             }
            },
            "type": "scatter3d"
           }
          ],
          "scattercarpet": [
           {
            "marker": {
             "colorbar": {
              "outlinewidth": 0,
              "ticks": ""
             }
            },
            "type": "scattercarpet"
           }
          ],
          "scattergeo": [
           {
            "marker": {
             "colorbar": {
              "outlinewidth": 0,
              "ticks": ""
             }
            },
            "type": "scattergeo"
           }
          ],
          "scattergl": [
           {
            "marker": {
             "colorbar": {
              "outlinewidth": 0,
              "ticks": ""
             }
            },
            "type": "scattergl"
           }
          ],
          "scattermapbox": [
           {
            "marker": {
             "colorbar": {
              "outlinewidth": 0,
              "ticks": ""
             }
            },
            "type": "scattermapbox"
           }
          ],
          "scatterpolar": [
           {
            "marker": {
             "colorbar": {
              "outlinewidth": 0,
              "ticks": ""
             }
            },
            "type": "scatterpolar"
           }
          ],
          "scatterpolargl": [
           {
            "marker": {
             "colorbar": {
              "outlinewidth": 0,
              "ticks": ""
             }
            },
            "type": "scatterpolargl"
           }
          ],
          "scatterternary": [
           {
            "marker": {
             "colorbar": {
              "outlinewidth": 0,
              "ticks": ""
             }
            },
            "type": "scatterternary"
           }
          ],
          "surface": [
           {
            "colorbar": {
             "outlinewidth": 0,
             "ticks": ""
            },
            "colorscale": [
             [
              0,
              "#0d0887"
             ],
             [
              0.1111111111111111,
              "#46039f"
             ],
             [
              0.2222222222222222,
              "#7201a8"
             ],
             [
              0.3333333333333333,
              "#9c179e"
             ],
             [
              0.4444444444444444,
              "#bd3786"
             ],
             [
              0.5555555555555556,
              "#d8576b"
             ],
             [
              0.6666666666666666,
              "#ed7953"
             ],
             [
              0.7777777777777778,
              "#fb9f3a"
             ],
             [
              0.8888888888888888,
              "#fdca26"
             ],
             [
              1,
              "#f0f921"
             ]
            ],
            "type": "surface"
           }
          ],
          "table": [
           {
            "cells": {
             "fill": {
              "color": "#EBF0F8"
             },
             "line": {
              "color": "white"
             }
            },
            "header": {
             "fill": {
              "color": "#C8D4E3"
             },
             "line": {
              "color": "white"
             }
            },
            "type": "table"
           }
          ]
         },
         "layout": {
          "annotationdefaults": {
           "arrowcolor": "#2a3f5f",
           "arrowhead": 0,
           "arrowwidth": 1
          },
          "autotypenumbers": "strict",
          "coloraxis": {
           "colorbar": {
            "outlinewidth": 0,
            "ticks": ""
           }
          },
          "colorscale": {
           "diverging": [
            [
             0,
             "#8e0152"
            ],
            [
             0.1,
             "#c51b7d"
            ],
            [
             0.2,
             "#de77ae"
            ],
            [
             0.3,
             "#f1b6da"
            ],
            [
             0.4,
             "#fde0ef"
            ],
            [
             0.5,
             "#f7f7f7"
            ],
            [
             0.6,
             "#e6f5d0"
            ],
            [
             0.7,
             "#b8e186"
            ],
            [
             0.8,
             "#7fbc41"
            ],
            [
             0.9,
             "#4d9221"
            ],
            [
             1,
             "#276419"
            ]
           ],
           "sequential": [
            [
             0,
             "#0d0887"
            ],
            [
             0.1111111111111111,
             "#46039f"
            ],
            [
             0.2222222222222222,
             "#7201a8"
            ],
            [
             0.3333333333333333,
             "#9c179e"
            ],
            [
             0.4444444444444444,
             "#bd3786"
            ],
            [
             0.5555555555555556,
             "#d8576b"
            ],
            [
             0.6666666666666666,
             "#ed7953"
            ],
            [
             0.7777777777777778,
             "#fb9f3a"
            ],
            [
             0.8888888888888888,
             "#fdca26"
            ],
            [
             1,
             "#f0f921"
            ]
           ],
           "sequentialminus": [
            [
             0,
             "#0d0887"
            ],
            [
             0.1111111111111111,
             "#46039f"
            ],
            [
             0.2222222222222222,
             "#7201a8"
            ],
            [
             0.3333333333333333,
             "#9c179e"
            ],
            [
             0.4444444444444444,
             "#bd3786"
            ],
            [
             0.5555555555555556,
             "#d8576b"
            ],
            [
             0.6666666666666666,
             "#ed7953"
            ],
            [
             0.7777777777777778,
             "#fb9f3a"
            ],
            [
             0.8888888888888888,
             "#fdca26"
            ],
            [
             1,
             "#f0f921"
            ]
           ]
          },
          "colorway": [
           "#636efa",
           "#EF553B",
           "#00cc96",
           "#ab63fa",
           "#FFA15A",
           "#19d3f3",
           "#FF6692",
           "#B6E880",
           "#FF97FF",
           "#FECB52"
          ],
          "font": {
           "color": "#2a3f5f"
          },
          "geo": {
           "bgcolor": "white",
           "lakecolor": "white",
           "landcolor": "#E5ECF6",
           "showlakes": true,
           "showland": true,
           "subunitcolor": "white"
          },
          "hoverlabel": {
           "align": "left"
          },
          "hovermode": "closest",
          "mapbox": {
           "style": "light"
          },
          "paper_bgcolor": "white",
          "plot_bgcolor": "#E5ECF6",
          "polar": {
           "angularaxis": {
            "gridcolor": "white",
            "linecolor": "white",
            "ticks": ""
           },
           "bgcolor": "#E5ECF6",
           "radialaxis": {
            "gridcolor": "white",
            "linecolor": "white",
            "ticks": ""
           }
          },
          "scene": {
           "xaxis": {
            "backgroundcolor": "#E5ECF6",
            "gridcolor": "white",
            "gridwidth": 2,
            "linecolor": "white",
            "showbackground": true,
            "ticks": "",
            "zerolinecolor": "white"
           },
           "yaxis": {
            "backgroundcolor": "#E5ECF6",
            "gridcolor": "white",
            "gridwidth": 2,
            "linecolor": "white",
            "showbackground": true,
            "ticks": "",
            "zerolinecolor": "white"
           },
           "zaxis": {
            "backgroundcolor": "#E5ECF6",
            "gridcolor": "white",
            "gridwidth": 2,
            "linecolor": "white",
            "showbackground": true,
            "ticks": "",
            "zerolinecolor": "white"
           }
          },
          "shapedefaults": {
           "line": {
            "color": "#2a3f5f"
           }
          },
          "ternary": {
           "aaxis": {
            "gridcolor": "white",
            "linecolor": "white",
            "ticks": ""
           },
           "baxis": {
            "gridcolor": "white",
            "linecolor": "white",
            "ticks": ""
           },
           "bgcolor": "#E5ECF6",
           "caxis": {
            "gridcolor": "white",
            "linecolor": "white",
            "ticks": ""
           }
          },
          "title": {
           "x": 0.05
          },
          "xaxis": {
           "automargin": true,
           "gridcolor": "white",
           "linecolor": "white",
           "ticks": "",
           "title": {
            "standoff": 15
           },
           "zerolinecolor": "white",
           "zerolinewidth": 2
          },
          "yaxis": {
           "automargin": true,
           "gridcolor": "white",
           "linecolor": "white",
           "ticks": "",
           "title": {
            "standoff": 15
           },
           "zerolinecolor": "white",
           "zerolinewidth": 2
          }
         }
        },
        "title": {
         "font": {
          "size": 20
         },
         "text": "Amateur Radio Licenses Relative to Population per Province"
        },
        "xaxis": {
         "anchor": "y",
         "domain": [
          0,
          1
         ],
         "title": {}
        },
        "yaxis": {
         "anchor": "x",
         "domain": [
          0,
          1
         ],
         "tickformat": ",.2%",
         "title": {}
        }
       }
      }
     },
     "metadata": {},
     "output_type": "display_data"
    }
   ],
   "source": [
    "fig3 = px.bar((gdf['licenses_perc_pop']).sort_values(ascending=False), title='Amateur Radio Licenses Relative to Population per Province')\n",
    "fig3.update_layout(height=700, font_family='Ubuntu', title_font_size=20, xaxis_title=None, yaxis_title=None, showlegend=False)\n",
    "fig3.update_traces(marker_color='chocolate', marker_line_color='DarkSlateGrey', marker_line_width=1, hovertemplate='Licenses: %{y:0.4%}<extra></extra>')\n",
    "fig3.update_layout(hovermode='x unified')\n",
    "fig3.update_layout(yaxis={'tickformat': ',.2%'})\n",
    "                    #'range': [0,1.05]})\n",
    "fig3.show()"
   ]
  },
  {
   "cell_type": "code",
   "execution_count": 798,
   "metadata": {},
   "outputs": [
    {
     "data": {
      "application/vnd.plotly.v1+json": {
       "config": {
        "plotlyServerURL": "https://plot.ly"
       },
       "data": [
        {
         "coloraxis": "coloraxis",
         "geojson": {
          "bbox": [
           -73.564453125,
           -55.040614327716725,
           -53.646240234375,
           -21.769702899409655
          ],
          "features": [
           {
            "bbox": [
             -66.20361328125,
             -27.994401411046148,
             -64.4677734375,
             -26.07652055985696
            ],
            "geometry": {
             "coordinates": [
              [
               [
                -66.20361328125,
                -26.62781822639305
               ],
               [
                -66.11572265625,
                -26.2145910237943
               ],
               [
                -65.85205078125,
                -26.31311263768267
               ],
               [
                -65.36865234375,
                -26.07652055985696
               ],
               [
                -64.4677734375,
                -26.29341500426577
               ],
               [
                -65.0390625,
                -27.89734922968425
               ],
               [
                -65.4345703125,
                -27.89734922968425
               ],
               [
                -65.6103515625,
                -27.994401411046148
               ],
               [
                -66.181640625,
                -27.274161117374668
               ],
               [
                -65.89599609375,
                -26.92206991673281
               ],
               [
                -65.830078125,
                -26.725986812271756
               ],
               [
                -66.0498046875,
                -26.64745870265937
               ],
               [
                -66.20361328125,
                -26.62781822639305
               ]
              ]
             ],
             "type": "Polygon"
            },
            "id": "Tucumán",
            "properties": {},
            "type": "Feature"
           },
           {
            "bbox": [
             -65.18463134765625,
             -30.439202087235568,
             -61.58660888671873,
             -25.651430347039724
            ],
            "geometry": {
             "coordinates": [
              [
               [
                -64.42108154296874,
                -26.28356493253137
               ],
               [
                -64.22332763671874,
                -25.651430347039724
               ],
               [
                -61.58660888671873,
                -25.671235828577018
               ],
               [
                -62.091979980468736,
                -30.439202087235568
               ],
               [
                -62.79510498046873,
                -29.869228848968298
               ],
               [
                -64.81658935546872,
                -29.506549442788607
               ],
               [
                -64.88250732421875,
                -28.7965462417692
               ],
               [
                -65.08026123046874,
                -28.738763971370293
               ],
               [
                -65.18463134765625,
                -27.931327412293648
               ],
               [
                -65.0390625,
                -27.885211577912145
               ],
               [
                -64.42108154296874,
                -26.28356493253137
               ]
              ]
             ],
             "type": "Polygon"
            },
            "id": "Santiago del Estero",
            "properties": {},
            "type": "Feature"
           },
           {
            "bbox": [
             -68.57666015625,
             -26.401710528707692,
             -62.33642578125001,
             -22.004174972901993
            ],
            "geometry": {
             "coordinates": [
              [
               [
                -66.11572265625,
                -26.2145910237943
               ],
               [
                -66.214599609375,
                -26.13571361317392
               ],
               [
                -66.390380859375,
                -26.401710528707692
               ],
               [
                -66.851806640625,
                -26.017297563851745
               ],
               [
                -66.884765625,
                -25.74052909277321
               ],
               [
                -66.68701171875,
                -25.710836919640595
               ],
               [
                -66.533203125,
                -25.393660521998022
               ],
               [
                -66.610107421875,
                -25.29437116258816
               ],
               [
                -68.499755859375,
                -25.17511653162175
               ],
               [
                -68.37890625,
                -25.085598897064763
               ],
               [
                -68.57666015625,
                -24.78673454198888
               ],
               [
                -68.40087890624999,
                -24.487148563173424
               ],
               [
                -67.313232421875,
                -24.066528197726857
               ],
               [
                -67.225341796875,
                -23.694834722205936
               ],
               [
                -66.46728515624999,
                -24.20688962239801
               ],
               [
                -66.2255859375,
                -23.433009077420344
               ],
               [
                -65.950927734375,
                -23.51362636346272
               ],
               [
                -65.994873046875,
                -23.96617587126503
               ],
               [
                -65.7421875,
                -24.096618611278767
               ],
               [
                -65.654296875,
                -24.397133017391038
               ],
               [
                -64.951171875,
                -24.597080137096412
               ],
               [
                -64.83032226562499,
                -24.44714958973082
               ],
               [
                -64.64355468749999,
                -24.597080137096412
               ],
               [
                -64.18212890625,
                -24.226928664976363
               ],
               [
                -64.171142578125,
                -23.50355189742412
               ],
               [
                -64.35791015625,
                -23.49347666096087
               ],
               [
                -64.434814453125,
                -23.624394569716923
               ],
               [
                -65.28076171875,
                -22.92804166565175
               ],
               [
                -65.23681640625,
                -22.09581971780769
               ],
               [
                -64.5556640625,
                -22.268764039073968
               ],
               [
                -64.31396484375,
                -22.847070687839064
               ],
               [
                -63.951416015625,
                -22.034729817044195
               ],
               [
                -62.81982421875001,
                -22.004174972901993
               ],
               [
                -62.80883789062499,
                -22.15688318686069
               ],
               [
                -62.347412109375,
                -22.49225722008518
               ],
               [
                -62.33642578125001,
                -24.397133017391038
               ],
               [
                -63.45703124999999,
                -25.661333498952683
               ],
               [
                -64.215087890625,
                -25.641526373065755
               ],
               [
                -64.4677734375,
                -26.29341500426577
               ],
               [
                -65.379638671875,
                -26.056782885778798
               ],
               [
                -65.85205078125,
                -26.322960198925365
               ],
               [
                -66.11572265625,
                -26.2145910237943
               ]
              ]
             ],
             "type": "Polygon"
            },
            "id": "Salta",
            "properties": {},
            "type": "Feature"
           },
           {
            "bbox": [
             -67.225341796875,
             -24.597080137096412,
             -64.193115234375,
             -21.769702899409655
            ],
            "geometry": {
             "coordinates": [
              [
               [
                -67.225341796875,
                -23.694834722205936
               ],
               [
                -67.027587890625,
                -22.98873816096073
               ],
               [
                -67.19238281249999,
                -22.806567100271508
               ],
               [
                -67.1484375,
                -22.695120184965685
               ],
               [
                -67.027587890625,
                -22.664709810176813
               ],
               [
                -67.00561523437499,
                -22.52270570348246
               ],
               [
                -66.785888671875,
                -22.421184710331858
               ],
               [
                -66.73095703125,
                -22.207749178410847
               ],
               [
                -66.302490234375,
                -22.09581971780769
               ],
               [
                -66.236572265625,
                -21.769702899409655
               ],
               [
                -65.753173828125,
                -22.09581971780769
               ],
               [
                -65.247802734375,
                -22.09581971780769
               ],
               [
                -65.291748046875,
                -22.92804166565175
               ],
               [
                -64.434814453125,
                -23.61432859499168
               ],
               [
                -64.35791015625,
                -23.49347666096087
               ],
               [
                -64.193115234375,
                -23.49347666096087
               ],
               [
                -64.2041015625,
                -24.196868919249642
               ],
               [
                -64.66552734375,
                -24.597080137096412
               ],
               [
                -64.852294921875,
                -24.45715052418584
               ],
               [
                -64.97314453125,
                -24.58709033920962
               ],
               [
                -65.654296875,
                -24.387127324604496
               ],
               [
                -65.7421875,
                -24.086589258228027
               ],
               [
                -66.005859375,
                -23.956136333969273
               ],
               [
                -65.950927734375,
                -23.51362636346272
               ],
               [
                -66.214599609375,
                -23.433009077420344
               ],
               [
                -66.478271484375,
                -24.20688962239801
               ],
               [
                -67.225341796875,
                -23.694834722205936
               ]
              ]
             ],
             "type": "Polygon"
            },
            "id": "Jujuy",
            "properties": {},
            "type": "Feature"
           },
           {
            "bbox": [
             -62.40234375,
             -26.804460766546146,
             -57.59033203125,
             -22.43134015636061
            ],
            "geometry": {
             "coordinates": [
              [
               [
                -62.35839843749999,
                -24.086589258228027
               ],
               [
                -62.40234375,
                -22.43134015636061
               ],
               [
                -61.36962890625001,
                -23.483400654325628
               ],
               [
                -61.06201171875,
                -23.84564988765934
               ],
               [
                -60.22705078125,
                -24.046463999666567
               ],
               [
                -60.09521484375,
                -24.006326198751115
               ],
               [
                -58.33740234375,
                -25.025884063244828
               ],
               [
                -58.13964843749999,
                -24.96614015991296
               ],
               [
                -57.59033203125,
                -25.443274612305732
               ],
               [
                -58.4033203125,
                -26.804460766546146
               ],
               [
                -62.35839843749999,
                -24.086589258228027
               ]
              ]
             ],
             "type": "Polygon"
            },
            "id": "Formosa",
            "properties": {},
            "type": "Feature"
           },
           {
            "bbox": [
             -63.468017578125,
             -28.052590823339845,
             -58.41430664062501,
             -24.10664717920179
            ],
            "geometry": {
             "coordinates": [
              [
               [
                -61.74316406249999,
                -27.137368359795584
               ],
               [
                -61.58935546875,
                -25.681137335685307
               ],
               [
                -63.468017578125,
                -25.661333498952683
               ],
               [
                -62.32543945312499,
                -24.37712083961039
               ],
               [
                -62.369384765625,
                -24.10664717920179
               ],
               [
                -58.41430664062501,
                -26.78484736105119
               ],
               [
                -58.91967773437499,
                -28.03319784767635
               ],
               [
                -61.65527343749999,
                -28.052590823339845
               ],
               [
                -61.74316406249999,
                -27.137368359795584
               ]
              ]
             ],
             "type": "Polygon"
            },
            "id": "Chaco",
            "properties": {},
            "type": "Feature"
           },
           {
            "bbox": [
             -56.041259765625,
             -28.16887518006333,
             -53.646240234375,
             -25.50278454875533
            ],
            "geometry": {
             "coordinates": [
              [
               [
                -56.041259765625,
                -27.371767300523032
               ],
               [
                -55.777587890625,
                -27.43028973886258
               ],
               [
                -55.579833984375,
                -27.293689224852393
               ],
               [
                -55.623779296875,
                -27.215556209029675
               ],
               [
                -55.382080078125,
                -26.980828590472107
               ],
               [
                -55.21728515625,
                -26.961245770526954
               ],
               [
                -54.810791015625,
                -26.657277674217575
               ],
               [
                -54.64599609375,
                -25.582085278700696
               ],
               [
                -54.4482421875,
                -25.681137335685307
               ],
               [
                -54.11865234375,
                -25.50278454875533
               ],
               [
                -53.876953125,
                -25.651430347039724
               ],
               [
                -53.8330078125,
                -25.97779895546436
               ],
               [
                -53.646240234375,
                -26.23430203240673
               ],
               [
                -53.67919921875,
                -26.892679095908154
               ],
               [
                -53.81103515625,
                -27.166695222253104
               ],
               [
                -54.722900390625,
                -27.61540601339959
               ],
               [
                -54.7998046875,
                -27.547241546253268
               ],
               [
                -54.86572265625,
                -27.605670826465445
               ],
               [
                -55.5908203125,
                -28.16887518006333
               ],
               [
                -56.041259765625,
                -27.371767300523032
               ]
              ]
             ],
             "type": "Polygon"
            },
            "id": "Misiones",
            "properties": {},
            "type": "Feature"
           },
           {
            "bbox": [
             -59.6337890625,
             -30.751277776257812,
             -55.634765625,
             -27.254629577800063
            ],
            "geometry": {
             "coordinates": [
              [
               [
                -56.03027343749999,
                -27.371767300523032
               ],
               [
                -55.634765625,
                -28.110748760633534
               ],
               [
                -55.7666015625,
                -28.246327971048842
               ],
               [
                -55.70068359375,
                -28.459033019728043
               ],
               [
                -55.92041015625,
                -28.38173504322308
               ],
               [
                -57.12890625,
                -29.745301662213585
               ],
               [
                -57.65624999999999,
                -30.334953881988564
               ],
               [
                -57.94189453125,
                -30.524413269923986
               ],
               [
                -57.83203125,
                -30.751277776257812
               ],
               [
                -58.3154296875,
                -30.240086360983412
               ],
               [
                -58.62304687499999,
                -30.12612436422458
               ],
               [
                -59.6337890625,
                -30.410781790845878
               ],
               [
                -59.56787109374999,
                -29.267232865200878
               ],
               [
                -59.26025390625,
                -29.11377539511439
               ],
               [
                -59.08447265624999,
                -28.130127737874005
               ],
               [
                -58.9306640625,
                -28.14950321154457
               ],
               [
                -58.71093750000001,
                -27.254629577800063
               ],
               [
                -56.6015625,
                -27.43028973886258
               ],
               [
                -56.3818359375,
                -27.664068965384516
               ],
               [
                -56.31591796875,
                -27.41078570257701
               ],
               [
                -56.03027343749999,
                -27.371767300523032
               ]
              ]
             ],
             "type": "Polygon"
            },
            "id": "Corrientes",
            "properties": {},
            "type": "Feature"
           },
           {
            "bbox": [
             -69.10400390625,
             -30.12612436422458,
             -64.8193359375,
             -25.16517336866393
            ],
            "geometry": {
             "coordinates": [
              [
               [
                -68.5107421875,
                -25.16517336866393
               ],
               [
                -66.62109375,
                -25.28443774698303
               ],
               [
                -66.533203125,
                -25.41350860804229
               ],
               [
                -66.719970703125,
                -25.70093788144426
               ],
               [
                -66.884765625,
                -25.74052909277321
               ],
               [
                -66.884765625,
                -25.997549919572098
               ],
               [
                -66.42333984375,
                -26.401710528707692
               ],
               [
                -66.236572265625,
                -26.145576207592264
               ],
               [
                -66.126708984375,
                -26.23430203240673
               ],
               [
                -66.2255859375,
                -26.62781822639305
               ],
               [
                -65.819091796875,
                -26.725986812271756
               ],
               [
                -65.906982421875,
                -26.912273826625587
               ],
               [
                -66.2255859375,
                -27.254629577800063
               ],
               [
                -65.599365234375,
                -27.994401411046148
               ],
               [
                -65.445556640625,
                -27.90705837112198
               ],
               [
                -65.181884765625,
                -27.90705837112198
               ],
               [
                -65.126953125,
                -28.73876397137028
               ],
               [
                -64.896240234375,
                -28.815799886487284
               ],
               [
                -64.8193359375,
                -29.563901551414432
               ],
               [
                -64.962158203125,
                -29.592565403314072
               ],
               [
                -64.940185546875,
                -29.831113764737136
               ],
               [
                -65.137939453125,
                -30.05007652169871
               ],
               [
                -65.445556640625,
                -30.12612436422458
               ],
               [
                -65.72021484375,
                -29.286398892934763
               ],
               [
                -65.830078125,
                -29.286398892934763
               ],
               [
                -65.80810546875,
                -29.180941290001776
               ],
               [
                -66.42333984375,
                -28.815799886487284
               ],
               [
                -66.368408203125,
                -28.729130483430154
               ],
               [
                -66.4892578125,
                -28.661671216419496
               ],
               [
                -66.566162109375,
                -28.30438068296277
               ],
               [
                -67.060546875,
                -28.256005619824972
               ],
               [
                -67.1484375,
                -28.391400375817753
               ],
               [
                -67.7197265625,
                -28.30438068296277
               ],
               [
                -67.840576171875,
                -28.391400375817753
               ],
               [
                -67.928466796875,
                -28.110748760633534
               ],
               [
                -68.09326171875,
                -28.19792655722614
               ],
               [
                -68.48876953125,
                -27.994401411046148
               ],
               [
                -68.466796875,
                -27.877928333679495
               ],
               [
                -68.5986328125,
                -27.732160709580892
               ],
               [
                -68.609619140625,
                -27.819644755099446
               ],
               [
                -68.785400390625,
                -27.761329874505233
               ],
               [
                -69.10400390625,
                -27.80020993741824
               ],
               [
                -68.818359375,
                -27.08847315655588
               ],
               [
                -68.719482421875,
                -27.098253906137884
               ],
               [
                -68.587646484375,
                -27.196014383173296
               ],
               [
                -68.323974609375,
                -27.019984007982554
               ],
               [
                -68.26904296875,
                -26.931865156388916
               ],
               [
                -68.5986328125,
                -26.539394329017032
               ],
               [
                -68.5546875,
                -26.28356493253137
               ],
               [
                -68.40087890624999,
                -26.194876675795218
               ],
               [
                -68.543701171875,
                -25.631621577258482
               ],
               [
                -68.5107421875,
                -25.16517336866393
               ]
              ]
             ],
             "type": "Polygon"
            },
            "id": "Catamarca",
            "properties": {},
            "type": "Feature"
           },
           {
            "bbox": [
             -65.7861328125,
             -35.0120020431607,
             -61.80908203125,
             -29.516110386062277
            ],
            "geometry": {
             "coordinates": [
              [
               [
                -65.56640625,
                -30.183121842195504
               ],
               [
                -65.10498046875,
                -30.05007652169871
               ],
               [
                -64.92919921875,
                -29.82158272057499
               ],
               [
                -64.9951171875,
                -29.554345125748267
               ],
               [
                -64.8193359375,
                -29.592565403314072
               ],
               [
                -64.8193359375,
                -29.516110386062277
               ],
               [
                -62.77587890625,
                -29.91685223307016
               ],
               [
                -61.87499999999999,
                -30.713503990354965
               ],
               [
                -62.2705078125,
                -31.69078180613681
               ],
               [
                -61.80908203125,
                -33.04550781490999
               ],
               [
                -62.90771484375,
                -34.39784494644985
               ],
               [
                -62.8857421875,
                -34.37971258046219
               ],
               [
                -63.39111328125,
                -34.39784494644985
               ],
               [
                -63.39111328125,
                -34.95799531086791
               ],
               [
                -65.14892578125,
                -35.0120020431607
               ],
               [
                -65.1434326171875,
                -33.22030778968541
               ],
               [
                -64.9072265625,
                -32.43561304116276
               ],
               [
                -65.302734375,
                -32.32427558887654
               ],
               [
                -65.390625,
                -32.0639555946604
               ],
               [
                -65.7861328125,
                -31.91486750327621
               ],
               [
                -65.56640625,
                -30.183121842195504
               ]
              ]
             ],
             "type": "Polygon"
            },
            "id": "Córdoba",
            "properties": {},
            "type": "Feature"
           },
           {
            "bbox": [
             -62.8857421875,
             -34.37971258046219,
             -58.89770507812501,
             -27.994401411046148
            ],
            "geometry": {
             "coordinates": [
              [
               [
                -61.8310546875,
                -28.09136628140693
               ],
               [
                -58.89770507812501,
                -27.994401411046148
               ],
               [
                -58.9306640625,
                -28.16887518006333
               ],
               [
                -59.08447265624999,
                -28.139815912754436
               ],
               [
                -59.2822265625,
                -29.094577077511815
               ],
               [
                -59.578857421875,
                -29.22889003019423
               ],
               [
                -59.688720703125,
                -30.439202087235582
               ],
               [
                -59.65576171875,
                -30.694611546632277
               ],
               [
                -60.8203125,
                -31.84023266790935
               ],
               [
                -60.68847656249999,
                -32.981020148981465
               ],
               [
                -60.2490234375,
                -33.26624989076273
               ],
               [
                -60.50170898437499,
                -33.687781758439364
               ],
               [
                -60.87524414062499,
                -33.54139466898275
               ],
               [
                -61.8310546875,
                -34.37971258046219
               ],
               [
                -62.8857421875,
                -34.34343606848294
               ],
               [
                -61.84204101562499,
                -33.05471648804274
               ],
               [
                -62.2705078125,
                -31.672083485607377
               ],
               [
                -61.885986328125,
                -30.694611546632277
               ],
               [
                -62.11669921874999,
                -30.496017831341284
               ],
               [
                -61.8310546875,
                -28.09136628140693
               ]
              ]
             ],
             "type": "Polygon"
            },
            "id": "Santa Fe",
            "properties": {},
            "type": "Feature"
           },
           {
            "bbox": [
             -60.8203125,
             -34.02990029603907,
             -57.81005859375,
             -30.10711788709237
            ],
            "geometry": {
             "coordinates": [
              [
               [
                -59.69970703124999,
                -30.713503990354965
               ],
               [
                -59.69970703124999,
                -30.4297295750316
               ],
               [
                -58.71093750000001,
                -30.10711788709237
               ],
               [
                -58.24951171874999,
                -30.29701788337204
               ],
               [
                -57.81005859375,
                -30.789036751261136
               ],
               [
                -58.0517578125,
                -31.409912194070973
               ],
               [
                -57.94189453125,
                -31.55981453201843
               ],
               [
                -58.07373046875,
                -31.821564514920727
               ],
               [
                -58.24951171874999,
                -31.821564514920727
               ],
               [
                -58.16162109375,
                -32.249974455863295
               ],
               [
                -58.00781249999999,
                -32.32427558887654
               ],
               [
                -58.22753906250001,
                -32.509761735919426
               ],
               [
                -58.07373046875,
                -32.953368145799324
               ],
               [
                -58.35937499999999,
                -33.08233672856374
               ],
               [
                -58.4307861328125,
                -33.536816067733
               ],
               [
                -58.4967041015625,
                -33.57343808567734
               ],
               [
                -58.392333984375,
                -33.99802726234876
               ],
               [
                -58.64501953125,
                -34.02990029603907
               ],
               [
                -58.74938964843749,
                -33.95247360616282
               ],
               [
                -58.85925292968751,
                -33.957030069982295
               ],
               [
                -59.249267578125,
                -33.792843773631844
               ],
               [
                -59.2437744140625,
                -33.71977077483139
               ],
               [
                -59.45800781249999,
                -33.72890830547333
               ],
               [
                -59.52392578125,
                -33.62834199137178
               ],
               [
                -59.58984374999999,
                -33.687781758439364
               ],
               [
                -60.29296874999999,
                -33.26624989076273
               ],
               [
                -60.71044921875,
                -32.99023555965107
               ],
               [
                -60.8203125,
                -31.78421688448737
               ],
               [
                -59.69970703124999,
                -30.713503990354965
               ]
              ]
             ],
             "type": "Polygon"
            },
            "id": "Entre Ríos",
            "properties": {},
            "type": "Feature"
           },
           {
            "bbox": [
             -63.4130859375,
             -41.02964338716638,
             -56.689453125,
             -33.28461996888768
            ],
            "geometry": {
             "coordinates": [
              [
               [
                -60.5126953125,
                -33.687781758439364
               ],
               [
                -60.303955078125,
                -33.28461996888768
               ],
               [
                -59.61181640625,
                -33.69692269295766
               ],
               [
                -59.56787109374999,
                -33.61461929233377
               ],
               [
                -59.45800781249999,
                -33.73347670599253
               ],
               [
                -59.249267578125,
                -33.7243396617476
               ],
               [
                -59.26025390625,
                -33.797408767572485
               ],
               [
                -58.853759765625,
                -33.97980872872456
               ],
               [
                -58.78784179687499,
                -33.9433599465788
               ],
               [
                -58.67797851562499,
                -34.04355650412745
               ],
               [
                -58.42529296875,
                -33.96158628979907
               ],
               [
                -58.502197265625,
                -34.50655662164559
               ],
               [
                -57.83203125,
                -34.867904962568716
               ],
               [
                -57.095947265625,
                -35.415914923456214
               ],
               [
                -57.403564453125,
                -35.764343479667176
               ],
               [
                -57.37060546875,
                -36.01356058518153
               ],
               [
                -57.23876953124999,
                -36.199958059328935
               ],
               [
                -57.008056640625,
                -36.28856319836237
               ],
               [
                -56.766357421875,
                -36.29741818650809
               ],
               [
                -56.689453125,
                -36.89719446989034
               ],
               [
                -57.19482421875,
                -37.54457732085582
               ],
               [
                -57.48046875,
                -37.75334401310657
               ],
               [
                -57.568359375,
                -37.98750437106372
               ],
               [
                -57.54638671874999,
                -38.09133660751174
               ],
               [
                -57.81005859375,
                -38.272688535980954
               ],
               [
                -58.018798828125,
                -38.358887858666755
               ],
               [
                -58.3154296875,
                -38.475094320502436
               ],
               [
                -58.56811523437499,
                -38.561052624469774
               ],
               [
                -58.74938964843749,
                -38.5825261593533
               ],
               [
                -59.25476074218749,
                -38.724090458956944
               ],
               [
                -60.062255859375,
                -38.85254239036424
               ],
               [
                -60.7269287109375,
                -38.95513722542956
               ],
               [
                -61.04003906249999,
                -38.98076276501631
               ],
               [
                -61.65527343749999,
                -39.01491572891581
               ],
               [
                -61.74316406249999,
                -38.98076276501631
               ],
               [
                -61.80908203125,
                -38.99784130750071
               ],
               [
                -62.105712890625,
                -38.90813299596704
               ],
               [
                -62.16064453125,
                -38.82687052138062
               ],
               [
                -62.40234375,
                -38.728375918239784
               ],
               [
                -62.52868652343749,
                -38.719804742642374
               ],
               [
                -62.51220703125,
                -38.818311173746615
               ],
               [
                -62.391357421875,
                -38.81403111409755
               ],
               [
                -62.33642578125001,
                -38.95513722542956
               ],
               [
                -62.314453125,
                -39.031986028740064
               ],
               [
                -62.3529052734375,
                -39.10022600175344
               ],
               [
                -62.2979736328125,
                -39.23650795487107
               ],
               [
                -62.00683593749999,
                -39.33854604847978
               ],
               [
                -62.02880859375,
                -39.40648882684978
               ],
               [
                -62.22656249999999,
                -39.32579941789297
               ],
               [
                -62.0562744140625,
                -39.44467758047343
               ],
               [
                -62.13317871093751,
                -39.87601941962115
               ],
               [
                -62.30346679687499,
                -39.871803651624425
               ],
               [
                -62.3529052734375,
                -40.20405042511328
               ],
               [
                -62.479248046875,
                -40.27533480732467
               ],
               [
                -62.39685058593749,
                -40.48873742102282
               ],
               [
                -62.17163085937499,
                -40.59309953216488
               ],
               [
                -62.34191894531249,
                -40.8844479390356
               ],
               [
                -62.70996093749999,
                -41.02964338716638
               ],
               [
                -62.78686523437499,
                -41.02549937831375
               ],
               [
                -62.984619140625,
                -40.768061709366116
               ],
               [
                -62.99560546875,
                -40.813809230569596
               ],
               [
                -63.19335937499999,
                -40.72228267283148
               ],
               [
                -63.39111328125,
                -40.713955826286046
               ],
               [
                -63.4130859375,
                -34.37971258046219
               ],
               [
                -62.90222167968749,
                -34.39784494644985
               ],
               [
                -62.852783203125,
                -34.352506668675936
               ],
               [
                -61.84204101562499,
                -34.384246040152185
               ],
               [
                -60.87524414062499,
                -33.54139466898275
               ],
               [
                -60.5126953125,
                -33.687781758439364
               ]
              ]
             ],
             "type": "Polygon"
            },
            "id": "Buenos Aires",
            "properties": {},
            "type": "Feature"
           },
           {
            "bbox": [
             -68.3349609375,
             -39.35129035526704,
             -63.4130859375,
             -34.93998515156043
            ],
            "geometry": {
             "coordinates": [
              [
               [
                -65.126953125,
                -35.94243575255425
               ],
               [
                -65.126953125,
                -35.0120020431607
               ],
               [
                -63.4130859375,
                -34.93998515156043
               ],
               [
                -63.43505859374999,
                -39.35129035526704
               ],
               [
                -64.0283203125,
                -39.07890809706474
               ],
               [
                -64.53369140625,
                -38.856820134743614
               ],
               [
                -65.19287109375,
                -38.8225909761771
               ],
               [
                -65.36865234375,
                -38.87392853923629
               ],
               [
                -65.56640625,
                -38.75408327579141
               ],
               [
                -65.654296875,
                -38.83970761354513
               ],
               [
                -66.09375,
                -38.75408327579141
               ],
               [
                -66.3134765625,
                -38.78834535508562
               ],
               [
                -66.62109375,
                -38.736946065676
               ],
               [
                -66.62109375,
                -38.5825261593533
               ],
               [
                -67.1484375,
                -38.42777351132903
               ],
               [
                -67.236328125,
                -38.20365531807149
               ],
               [
                -67.65380859375,
                -38.255436376379464
               ],
               [
                -67.96142578125,
                -38.01347623104191
               ],
               [
                -67.7197265625,
                -37.87485339352927
               ],
               [
                -67.87353515625,
                -37.6664292120906
               ],
               [
                -68.291015625,
                -37.596824001083654
               ],
               [
                -68.2470703125,
                -36.226550147470896
               ],
               [
                -68.3349609375,
                -36.03133177633187
               ],
               [
                -65.126953125,
                -35.94243575255425
               ]
              ]
             ],
             "type": "Polygon"
            },
            "id": "La Pampa",
            "properties": {},
            "type": "Feature"
           },
           {
            "bbox": [
             -69.598388671875,
             -31.98944183792288,
             -65.4345703125,
             -27.737022779516813
            ],
            "geometry": {
             "coordinates": [
              [
               [
                -69.10400390625,
                -27.797780340741387
               ],
               [
                -68.78814697265625,
                -27.763760285581967
               ],
               [
                -68.61785888671875,
                -27.819644755099446
               ],
               [
                -68.60412597656249,
                -27.737022779516813
               ],
               [
                -68.47503662109375,
                -27.87307256542277
               ],
               [
                -68.49700927734375,
                -27.98712552356428
               ],
               [
                -68.0987548828125,
                -28.19308520918522
               ],
               [
                -67.92572021484374,
                -28.110748760633534
               ],
               [
                -67.84332275390625,
                -28.386567819657188
               ],
               [
                -67.7252197265625,
                -28.301962451766745
               ],
               [
                -67.14569091796874,
                -28.388984125273186
               ],
               [
                -67.06878662109375,
                -28.263263279931966
               ],
               [
                -66.566162109375,
                -28.30921698045776
               ],
               [
                -66.49200439453125,
                -28.671310915880834
               ],
               [
                -66.37390136718749,
                -28.729130483430154
               ],
               [
                -66.42608642578125,
                -28.806173508854766
               ],
               [
                -65.81634521484375,
                -29.18333925965321
               ],
               [
                -65.8355712890625,
                -29.286398892934763
               ],
               [
                -65.71746826171875,
                -29.288794393648296
               ],
               [
                -65.4345703125,
                -30.145127183376115
               ],
               [
                -65.577392578125,
                -30.183121842195504
               ],
               [
                -65.80810546875,
                -31.905541455900355
               ],
               [
                -65.9619140625,
                -31.886886525780806
               ],
               [
                -66.082763671875,
                -31.980123357368026
               ],
               [
                -66.3134765625,
                -31.905541455900355
               ],
               [
                -66.346435546875,
                -31.98944183792288
               ],
               [
                -66.676025390625,
                -31.905541455900355
               ],
               [
                -66.829833984375,
                -31.78421688448737
               ],
               [
                -66.873779296875,
                -31.63467554954133
               ],
               [
                -67.03857421875,
                -31.63467554954133
               ],
               [
                -67.00561523437499,
                -31.531726144517158
               ],
               [
                -67.1044921875,
                -31.42866311735861
               ],
               [
                -67.071533203125,
                -31.05293398570514
               ],
               [
                -67.159423828125,
                -31.005862904624195
               ],
               [
                -67.093505859375,
                -30.892797477508154
               ],
               [
                -67.291259765625,
                -30.56226095049943
               ],
               [
                -67.4560546875,
                -30.56226095049943
               ],
               [
                -67.598876953125,
                -30.29701788337204
               ],
               [
                -68.0712890625,
                -29.897805610155864
               ],
               [
                -68.170166015625,
                -29.91685223307016
               ],
               [
                -68.26904296875,
                -29.754839972510933
               ],
               [
                -68.90625,
                -29.602118211647333
               ],
               [
                -68.97216796875,
                -29.64986867797228
               ],
               [
                -69.027099609375,
                -29.487424847484775
               ],
               [
                -68.9501953125,
                -29.439597566602902
               ],
               [
                -69.027099609375,
                -29.171348850951507
               ],
               [
                -68.92822265625,
                -29.171348850951507
               ],
               [
                -68.93920898437499,
                -28.835049972635165
               ],
               [
                -69.2138671875,
                -28.729130483430154
               ],
               [
                -69.2138671875,
                -28.5941685062326
               ],
               [
                -69.312744140625,
                -28.401064827220896
               ],
               [
                -69.41162109375,
                -28.44937385955666
               ],
               [
                -69.598388671875,
                -28.391400375817753
               ],
               [
                -69.49951171875,
                -28.178559849396965
               ],
               [
                -69.400634765625,
                -28.217289755957054
               ],
               [
                -69.27978515625,
                -27.97499795326775
               ],
               [
                -69.169921875,
                -27.98470011861267
               ],
               [
                -69.10400390625,
                -27.797780340741387
               ]
              ]
             ],
             "type": "Polygon"
            },
            "id": "La Rioja",
            "properties": {},
            "type": "Feature"
           },
           {
            "bbox": [
             -70.5706787109375,
             -32.625496714513716,
             -66.62109375,
             -28.410728397237914
            ],
            "geometry": {
             "coordinates": [
              [
               [
                -69.840087890625,
                -29.152161283318915
               ],
               [
                -69.774169921875,
                -28.93124697186731
               ],
               [
                -69.708251953125,
                -28.786918085420226
               ],
               [
                -69.78515625,
                -28.700224692776974
               ],
               [
                -69.67529296875,
                -28.43971381702787
               ],
               [
                -69.42260742187499,
                -28.43971381702787
               ],
               [
                -69.356689453125,
                -28.410728397237914
               ],
               [
                -69.224853515625,
                -28.5941685062326
               ],
               [
                -69.224853515625,
                -28.729130483430154
               ],
               [
                -68.93920898437499,
                -28.84467368077178
               ],
               [
                -68.9501953125,
                -29.180941290001776
               ],
               [
                -69.0380859375,
                -29.171348850951507
               ],
               [
                -68.95294189453125,
                -29.432421529604852
               ],
               [
                -69.03533935546875,
                -29.489815619374937
               ],
               [
                -68.97491455078125,
                -29.645094649860745
               ],
               [
                -68.91448974609375,
                -29.606894276531495
               ],
               [
                -68.26904296875,
                -29.754839972510933
               ],
               [
                -68.18115234375,
                -29.91447160438235
               ],
               [
                -68.0712890625,
                -29.900186637177384
               ],
               [
                -67.59613037109375,
                -30.301760686320698
               ],
               [
                -67.45880126953125,
                -30.56462594065098
               ],
               [
                -67.29400634765624,
                -30.56226095049943
               ],
               [
                -67.10174560546875,
                -30.888083515609047
               ],
               [
                -67.159423828125,
                -31.005862904624195
               ],
               [
                -67.0770263671875,
                -31.05763981413011
               ],
               [
                -67.11273193359375,
                -31.4310067191785
               ],
               [
                -67.00836181640625,
                -31.534067166324203
               ],
               [
                -67.03857421875,
                -31.632337053668728
               ],
               [
                -66.873779296875,
                -31.637013986617973
               ],
               [
                -66.83258056640625,
                -31.781882156411022
               ],
               [
                -66.676025390625,
                -31.907873056360206
               ],
               [
                -66.62109375,
                -31.92186141844725
               ],
               [
                -66.78314208984375,
                -31.91953017247695
               ],
               [
                -66.9781494140625,
                -31.87056036152958
               ],
               [
                -67.060546875,
                -31.85889704445453
               ],
               [
                -67.137451171875,
                -31.83089906339438
               ],
               [
                -67.24456787109375,
                -31.87755764334002
               ],
               [
                -67.467041015625,
                -31.86822781618069
               ],
               [
                -67.44232177734374,
                -31.926523733115925
               ],
               [
                -67.4395751953125,
                -32.01506277844934
               ],
               [
                -67.4505615234375,
                -32.04766089060863
               ],
               [
                -67.4835205078125,
                -32.11514862261243
               ],
               [
                -67.4395751953125,
                -32.18955998041357
               ],
               [
                -67.2857666015625,
                -32.28945451339287
               ],
               [
                -67.2637939453125,
                -32.34980253736092
               ],
               [
                -67.33245849609375,
                -32.35444302709291
               ],
               [
                -67.38739013671874,
                -32.33355894864106
               ],
               [
                -67.48626708984375,
                -32.30802741894788
               ],
               [
                -67.510986328125,
                -32.24068253457368
               ],
               [
                -67.52471923828125,
                -32.21744857303103
               ],
               [
                -67.55218505859375,
                -32.24300560401556
               ],
               [
                -67.65380859375,
                -32.24068253457368
               ],
               [
                -67.67578124999999,
                -32.22906629627296
               ],
               [
                -67.71697998046875,
                -32.24068253457368
               ],
               [
                -67.7362060546875,
                -32.21744857303103
               ],
               [
                -67.77191162109375,
                -32.22674287041065
               ],
               [
                -67.8460693359375,
                -32.22674287041065
               ],
               [
                -67.89276123046875,
                -32.18723554514384
               ],
               [
                -67.9229736328125,
                -32.170962836413246
               ],
               [
                -67.93327331542967,
                -32.133175697091374
               ],
               [
                -67.94700622558594,
                -32.12677940089152
               ],
               [
                -67.94151306152344,
                -32.112822289094396
               ],
               [
                -67.94975280761719,
                -32.10991428883184
               ],
               [
                -67.95867919921875,
                -32.118638011730695
               ],
               [
                -67.97378540039062,
                -32.09711798736979
               ],
               [
                -67.99095153808594,
                -32.0947911944772
               ],
               [
                -68.00537109375,
                -32.079665596220444
               ],
               [
                -68.02253723144531,
                -32.08606519332937
               ],
               [
                -68.05686950683594,
                -32.07268370653683
               ],
               [
                -68.07609558105469,
                -32.09828136159138
               ],
               [
                -68.08090209960938,
                -32.08606519332937
               ],
               [
                -68.15162658691405,
                -32.11631176714
               ],
               [
                -68.19145202636719,
                -32.11224069645199
               ],
               [
                -68.20381164550781,
                -32.12619789718211
               ],
               [
                -68.25531005859375,
                -32.09420948699397
               ],
               [
                -68.30749511718749,
                -32.13840869677249
               ],
               [
                -68.46405029296875,
                -32.136082956202074
               ],
               [
                -68.4722900390625,
                -32.23603621746474
               ],
               [
                -68.67828369140625,
                -32.33355894864106
               ],
               [
                -68.91998291015625,
                -32.33355894864106
               ],
               [
                -68.92547607421875,
                -32.133757156326446
               ],
               [
                -69.12597656249999,
                -32.010404958190534
               ],
               [
                -69.224853515625,
                -32.00807595929104
               ],
               [
                -69.27154541015625,
                -32.0616279574764
               ],
               [
                -69.30450439453125,
                -32.082574559545904
               ],
               [
                -69.44183349609375,
                -32.07326555104237
               ],
               [
                -69.532470703125,
                -32.13840869677249
               ],
               [
                -69.60525512695312,
                -32.14073437803538
               ],
               [
                -69.6038818359375,
                -32.208153325473255
               ],
               [
                -69.63272094726561,
                -32.25694277294589
               ],
               [
                -69.68765258789061,
                -32.30686672385539
               ],
               [
                -69.72061157226562,
                -32.31267005062579
               ],
               [
                -69.74395751953125,
                -32.39155837235157
               ],
               [
                -69.69039916992188,
                -32.42981760314475
               ],
               [
                -69.70138549804688,
                -32.441408106676086
               ],
               [
                -69.70962524414062,
                -32.49354692775989
               ],
               [
                -69.77005004882812,
                -32.5178680435577
               ],
               [
                -69.77279663085938,
                -32.53176286998226
               ],
               [
                -69.79202270507812,
                -32.54797078468893
               ],
               [
                -69.82086181640625,
                -32.54681317351514
               ],
               [
                -69.84420776367188,
                -32.5722771706588
               ],
               [
                -70.00900268554688,
                -32.535236240827224
               ],
               [
                -70.06805419921875,
                -32.625496714513716
               ],
               [
                -70.09140014648438,
                -32.622026838432575
               ],
               [
                -70.09140014648438,
                -32.60236166681751
               ],
               [
                -70.1531982421875,
                -32.458791067834575
               ],
               [
                -70.24658203125,
                -32.42634016154639
               ],
               [
                -70.224609375,
                -32.32427558887654
               ],
               [
                -70.3179931640625,
                -32.26855544621476
               ],
               [
                -70.3839111328125,
                -32.02204906495203
               ],
               [
                -70.2850341796875,
                -32.04533283885849
               ],
               [
                -70.213623046875,
                -31.961483557268544
               ],
               [
                -70.2960205078125,
                -31.872892847840692
               ],
               [
                -70.4443359375,
                -31.84489911613476
               ],
               [
                -70.5706787109375,
                -31.57853542647337
               ],
               [
                -70.5377197265625,
                -31.142304905845723
               ],
               [
                -70.4443359375,
                -31.067050772707812
               ],
               [
                -70.400390625,
                -31.16110911780645
               ],
               [
                -70.323486328125,
                -31.043521630684204
               ],
               [
                -70.257568359375,
                -31.029401353028874
               ],
               [
                -70.3179931640625,
                -30.93050081760778
               ],
               [
                -70.18615722656249,
                -30.481817002827256
               ],
               [
                -70.1312255859375,
                -30.4297295750316
               ],
               [
                -70.169677734375,
                -30.34917609414982
               ],
               [
                -70.125732421875,
                -30.32547125932808
               ],
               [
                -70.07080078125,
                -30.38709188778112
               ],
               [
                -69.949951171875,
                -30.38709188778112
               ],
               [
                -69.8785400390625,
                -30.230594564932193
               ],
               [
                -69.8291015625,
                -30.216355152668537
               ],
               [
                -69.818115234375,
                -30.121373087823034
               ],
               [
                -69.9774169921875,
                -30.07860131571654
               ],
               [
                -69.89501953125,
                -29.869228848968298
               ],
               [
                -69.884033203125,
                -29.726222319395493
               ],
               [
                -69.9609375,
                -29.65941605491237
               ],
               [
                -69.949951171875,
                -29.55912345157795
               ],
               [
                -69.9884033203125,
                -29.516110386062277
               ],
               [
                -69.971923828125,
                -29.40610505570927
               ],
               [
                -70.0213623046875,
                -29.396533739128387
               ],
               [
                -70.0048828125,
                -29.29598055871568
               ],
               [
                -69.93896484375,
                -29.257648503615542
               ],
               [
                -69.949951171875,
                -29.200123477644983
               ],
               [
                -69.840087890625,
                -29.152161283318915
               ]
              ]
             ],
             "type": "Polygon"
            },
            "id": "San Juan",
            "properties": {},
            "type": "Feature"
           },
           {
            "bbox": [
             -67.48077392578125,
             -35.98689628443789,
             -64.9072265625,
             -31.835565983656227
            ],
            "geometry": {
             "coordinates": [
              [
               [
                -67.269287109375,
                -32.34516180956194
               ],
               [
                -67.28302001953125,
                -32.28481069238482
               ],
               [
                -67.43682861328125,
                -32.19188435632485
               ],
               [
                -67.48077392578125,
                -32.12212726745139
               ],
               [
                -67.43682861328125,
                -32.00807595929104
               ],
               [
                -67.445068359375,
                -31.924192605327708
               ],
               [
                -67.467041015625,
                -31.87056036152958
               ],
               [
                -67.24456787109375,
                -31.88222220265971
               ],
               [
                -67.14019775390625,
                -31.835565983656227
               ],
               [
                -66.785888671875,
                -31.91953017247695
               ],
               [
                -66.62384033203124,
                -31.92186141844725
               ],
               [
                -66.3409423828125,
                -31.994100723260793
               ],
               [
                -66.3134765625,
                -31.910204597744368
               ],
               [
                -66.082763671875,
                -31.980123357368026
               ],
               [
                -65.9674072265625,
                -31.886886525780806
               ],
               [
                -65.78887939453125,
                -31.912536080050494
               ],
               [
                -65.390625,
                -32.0639555946604
               ],
               [
                -65.31097412109375,
                -32.32427558887654
               ],
               [
                -64.9072265625,
                -32.43793111207064
               ],
               [
                -65.159912109375,
                -33.20192418977892
               ],
               [
                -65.137939453125,
                -35.933540642493114
               ],
               [
                -66.632080078125,
                -35.98689628443789
               ],
               [
                -66.566162109375,
                -35.65729624809628
               ],
               [
                -66.5771484375,
                -35.594785665487244
               ],
               [
                -66.533203125,
                -35.55904339525895
               ],
               [
                -66.4892578125,
                -35.15584570226543
               ],
               [
                -66.5771484375,
                -34.84085858477277
               ],
               [
                -66.7529296875,
                -34.569906380856345
               ],
               [
                -66.7529296875,
                -34.45221847282653
               ],
               [
                -66.81884765625,
                -34.27083595164999
               ],
               [
                -66.7529296875,
                -34.234512362369856
               ],
               [
                -66.676025390625,
                -33.96158628979907
               ],
               [
                -66.873779296875,
                -33.84304531474468
               ],
               [
                -66.895751953125,
                -33.760882000869174
               ],
               [
                -67.17041015625,
                -33.46810795527895
               ],
               [
                -67.25830078125,
                -32.87036022808353
               ],
               [
                -67.159423828125,
                -32.73184089686568
               ],
               [
                -67.24731445312499,
                -32.63937487360668
               ],
               [
                -67.30224609375,
                -32.45415593941475
               ],
               [
                -67.269287109375,
                -32.34516180956194
               ]
              ]
             ],
             "type": "Polygon"
            },
            "id": "San Luis",
            "properties": {},
            "type": "Feature"
           },
           {
            "bbox": [
             -70.587158203125,
             -37.579412513438385,
             -66.500244140625,
             -32.01273389791075
            ],
            "geometry": {
             "coordinates": [
              [
               [
                -70.17242431640625,
                -32.623183478738675
               ],
               [
                -70.12847900390625,
                -32.57459172113417
               ],
               [
                -70.0982666015625,
                -32.590791901737894
               ],
               [
                -70.09552001953125,
                -32.618556827843264
               ],
               [
                -70.06256103515625,
                -32.63243606312154
               ],
               [
                -70.00762939453125,
                -32.53755174676898
               ],
               [
                -69.8455810546875,
                -32.5722771706588
               ],
               [
                -69.82086181640625,
                -32.54681317351514
               ],
               [
                -69.79888916015625,
                -32.54681317351514
               ],
               [
                -69.76318359375,
                -32.5190260278275
               ],
               [
                -69.70550537109375,
                -32.49123028794758
               ],
               [
                -69.686279296875,
                -32.424021792657385
               ],
               [
                -69.7467041015625,
                -32.39155837235157
               ],
               [
                -69.71923828125,
                -32.30570601389429
               ],
               [
                -69.686279296875,
                -32.31731244438278
               ],
               [
                -69.62860107421875,
                -32.2546200600072
               ],
               [
                -69.60113525390625,
                -32.210477226433824
               ],
               [
                -69.60113525390625,
                -32.136082956202074
               ],
               [
                -69.52423095703125,
                -32.13840869677249
               ],
               [
                -69.43634033203125,
                -32.07326555104237
               ],
               [
                -69.29901123046875,
                -32.0849016635483
               ],
               [
                -69.22760009765624,
                -32.01506277844934
               ],
               [
                -69.12872314453125,
                -32.01273389791075
               ],
               [
                -68.93096923828124,
                -32.131431297147934
               ],
               [
                -68.92547607421875,
                -32.33587963983593
               ],
               [
                -68.66729736328125,
                -32.34052084371421
               ],
               [
                -68.466796875,
                -32.2313896627376
               ],
               [
                -68.46405029296875,
                -32.13840869677249
               ],
               [
                -68.30474853515625,
                -32.14305999998843
               ],
               [
                -68.25531005859375,
                -32.09653629470277
               ],
               [
                -68.20587158203124,
                -32.131431297147934
               ],
               [
                -68.19488525390625,
                -32.112822289094396
               ],
               [
                -68.15643310546875,
                -32.11514862261243
               ],
               [
                -68.00811767578125,
                -32.0849016635483
               ],
               [
                -67.93121337890625,
                -32.16863792635911
               ],
               [
                -67.840576171875,
                -32.22906629627296
               ],
               [
                -67.7801513671875,
                -32.22906629627296
               ],
               [
                -67.74169921875,
                -32.21977223646089
               ],
               [
                -67.72247314453124,
                -32.23835940572264
               ],
               [
                -67.66754150390625,
                -32.2313896627376
               ],
               [
                -67.554931640625,
                -32.24765156466267
               ],
               [
                -67.532958984375,
                -32.22209584050232
               ],
               [
                -67.49176025390625,
                -32.30570601389429
               ],
               [
                -67.33245849609375,
                -32.359083278739675
               ],
               [
                -67.27203369140625,
                -32.35212281198642
               ],
               [
                -67.3077392578125,
                -32.45415593941475
               ],
               [
                -67.2528076171875,
                -32.64400044827675
               ],
               [
                -67.16766357421875,
                -32.741082231501245
               ],
               [
                -67.18414306640625,
                -32.819594869239744
               ],
               [
                -67.236328125,
                -32.861132322810946
               ],
               [
                -67.17864990234375,
                -33.45894275368763
               ],
               [
                -66.90399169921874,
                -33.765448698492214
               ],
               [
                -66.88201904296875,
                -33.838482755995145
               ],
               [
                -66.68701171875,
                -33.934245311173115
               ],
               [
                -66.829833984375,
                -34.27083595164999
               ],
               [
                -66.76391601562499,
                -34.488447837809304
               ],
               [
                -66.76391601562499,
                -34.56085936708384
               ],
               [
                -66.59912109375,
                -34.858890491257796
               ],
               [
                -66.500244140625,
                -35.13787911963418
               ],
               [
                -66.544189453125,
                -35.56798045801208
               ],
               [
                -66.57440185546875,
                -35.6037187406973
               ],
               [
                -66.566162109375,
                -35.66845370835341
               ],
               [
                -66.63482666015625,
                -35.98689628443789
               ],
               [
                -68.3349609375,
                -36.01356058518153
               ],
               [
                -68.29376220703125,
                -36.17335693522159
               ],
               [
                -68.31298828125,
                -37.579412513438385
               ],
               [
                -68.433837890625,
                -37.561996953143506
               ],
               [
                -68.543701171875,
                -37.448696585910376
               ],
               [
                -68.70849609375,
                -37.448696585910376
               ],
               [
                -68.79638671875,
                -37.35269280367274
               ],
               [
                -68.873291015625,
                -37.39634613318924
               ],
               [
                -69.01611328125,
                -37.37015718405751
               ],
               [
                -69.08203125,
                -37.239075302021824
               ],
               [
                -69.32373046875,
                -37.13404537126445
               ],
               [
                -69.42260742187499,
                -37.17782559332974
               ],
               [
                -69.752197265625,
                -37.0990029438762
               ],
               [
                -69.8291015625,
                -36.888408043138206
               ],
               [
                -70.24658203125,
                -36.46547188679815
               ],
               [
                -70.24658203125,
                -36.323977120112616
               ],
               [
                -70.37841796875,
                -36.323977120112616
               ],
               [
                -70.433349609375,
                -36.11125252076157
               ],
               [
                -70.455322265625,
                -35.89795019335754
               ],
               [
                -70.33447265624999,
                -35.82672127366603
               ],
               [
                -70.455322265625,
                -35.3621760591468
               ],
               [
                -70.587158203125,
                -35.27253175660237
               ],
               [
                -70.587158203125,
                -35.19176696594738
               ],
               [
                -70.38940429687499,
                -35.15584570226543
               ],
               [
                -70.24658203125,
                -34.79576153473033
               ],
               [
                -70.323486328125,
                -34.7506398050501
               ],
               [
                -70.037841796875,
                -34.40690965652058
               ],
               [
                -70.059814453125,
                -34.30714385628803
               ],
               [
                -70.015869140625,
                -34.225429015241396
               ],
               [
                -69.9609375,
                -34.29806835099083
               ],
               [
                -69.840087890625,
                -34.24359472969739
               ],
               [
                -69.862060546875,
                -34.143634820312634
               ],
               [
                -69.818115234375,
                -34.03445260967644
               ],
               [
                -69.927978515625,
                -33.96158628979907
               ],
               [
                -69.884033203125,
                -33.88865750124074
               ],
               [
                -69.93896484375,
                -33.797408767572485
               ],
               [
                -69.884033203125,
                -33.706062655101206
               ],
               [
                -69.884033203125,
                -33.54139466898275
               ],
               [
                -69.78515625,
                -33.35806161277886
               ],
               [
                -69.840087890625,
                -33.26624989076273
               ],
               [
                -69.949951171875,
                -33.25706340236547
               ],
               [
                -70.015869140625,
                -33.321348526698806
               ],
               [
                -70.103759765625,
                -33.11915022676886
               ],
               [
                -69.993896484375,
                -32.898038181605216
               ],
               [
                -70.14770507812499,
                -32.76880048488168
               ],
               [
                -70.17242431640625,
                -32.623183478738675
               ]
              ]
             ],
             "type": "Polygon"
            },
            "id": "Mendoza",
            "properties": {},
            "type": "Feature"
           },
           {
            "bbox": [
             -71.982421875,
             -41.11246878918086,
             -68.0712890625,
             -36.120127589781454
            ],
            "geometry": {
             "coordinates": [
              [
               [
                -68.0712890625,
                -38.95940879245421
               ],
               [
                -68.291015625,
                -38.95940879245421
               ],
               [
                -68.79638671875,
                -39.30029918615028
               ],
               [
                -69.43359375,
                -39.77476948529546
               ],
               [
                -70.07080078125,
                -39.97712009843963
               ],
               [
                -69.9609375,
                -40.17887331434695
               ],
               [
                -70.13671875,
                -40.49709237269566
               ],
               [
                -70.400390625,
                -40.530501775743204
               ],
               [
                -70.55419921875,
                -40.48038142908171
               ],
               [
                -70.751953125,
                -40.58058466412763
               ],
               [
                -70.90576171875,
                -40.58058466412763
               ],
               [
                -71.08154296875,
                -40.76390128094587
               ],
               [
                -71.03759765625,
                -40.93841495689794
               ],
               [
                -71.3232421875,
                -41.11246878918086
               ],
               [
                -71.861572265625,
                -41.03793062246527
               ],
               [
                -71.905517578125,
                -40.98819156349393
               ],
               [
                -71.883544921875,
                -40.91351257612757
               ],
               [
                -71.982421875,
                -40.73893324113602
               ],
               [
                -71.905517578125,
                -40.58058466412763
               ],
               [
                -71.8505859375,
                -40.39676430557204
               ],
               [
                -71.71875,
                -40.413496049701955
               ],
               [
                -71.74072265625,
                -40.3130432088809
               ],
               [
                -71.8505859375,
                -40.25437660372649
               ],
               [
                -71.806640625,
                -40.078071427450084
               ],
               [
                -71.6748046875,
                -40.103285912934396
               ],
               [
                -71.5869140625,
                -39.89287990029478
               ],
               [
                -71.6748046875,
                -39.84228602074339
               ],
               [
                -71.6748046875,
                -39.56335316582929
               ],
               [
                -71.488037109375,
                -39.65645604812829
               ],
               [
                -71.531982421875,
                -39.53793974517625
               ],
               [
                -71.466064453125,
                -39.39375459224347
               ],
               [
                -71.378173828125,
                -39.33429742980723
               ],
               [
                -71.47705078125,
                -38.9764924855394
               ],
               [
                -70.894775390625,
                -38.719804742642374
               ],
               [
                -70.86181640625,
                -38.54816542304657
               ],
               [
                -70.960693359375,
                -38.462191723068266
               ],
               [
                -71.2353515625,
                -37.64033489805947
               ],
               [
                -71.1474609375,
                -37.60552821745789
               ],
               [
                -71.11450195312499,
                -37.46613860234405
               ],
               [
                -71.224365234375,
                -37.300275281344305
               ],
               [
                -71.103515625,
                -37.17782559332974
               ],
               [
                -71.19140625,
                -36.96744946416932
               ],
               [
                -71.103515625,
                -36.91476428895593
               ],
               [
                -71.11450195312499,
                -36.6507925250347
               ],
               [
                -71.05957031249999,
                -36.72127388004499
               ],
               [
                -71.015625,
                -36.65960622647969
               ],
               [
                -71.05957031249999,
                -36.456636011596196
               ],
               [
                -70.9716796875,
                -36.500805317604794
               ],
               [
                -70.927734375,
                -36.47430675509521
               ],
               [
                -70.927734375,
                -36.37706783983681
               ],
               [
                -70.675048828125,
                -36.40359962073253
               ],
               [
                -70.675048828125,
                -36.26199220445662
               ],
               [
                -70.55419921875,
                -36.120127589781454
               ],
               [
                -70.433349609375,
                -36.15561783381853
               ],
               [
                -70.37841796875,
                -36.30627216957991
               ],
               [
                -70.257568359375,
                -36.3151251474805
               ],
               [
                -70.2685546875,
                -36.46547188679815
               ],
               [
                -69.85107421874999,
                -36.87962060502676
               ],
               [
                -69.76318359375,
                -37.090239803072066
               ],
               [
                -69.444580078125,
                -37.18657859524883
               ],
               [
                -69.3017578125,
                -37.13404537126445
               ],
               [
                -69.08203125,
                -37.212831514455935
               ],
               [
                -69.049072265625,
                -37.35269280367274
               ],
               [
                -68.851318359375,
                -37.40507375017693
               ],
               [
                -68.79638671875,
                -37.32648861334206
               ],
               [
                -68.70849609375,
                -37.448696585910376
               ],
               [
                -68.543701171875,
                -37.448696585910376
               ],
               [
                -68.45581054687499,
                -37.570705242331144
               ],
               [
                -68.258056640625,
                -37.570705242331144
               ],
               [
                -68.22509765625,
                -38.69408504756832
               ],
               [
                -68.0712890625,
                -38.95940879245421
               ]
              ]
             ],
             "type": "Polygon"
            },
            "id": "Neuquén",
            "properties": {},
            "type": "Feature"
           },
           {
            "bbox": [
             -71.905517578125,
             -41.99216023337628,
             -62.78686523437499,
             -37.60552821745789
            ],
            "geometry": {
             "coordinates": [
              [
               [
                -68.07952880859375,
                -38.950865400919994
               ],
               [
                -68.22784423828125,
                -38.69622870885281
               ],
               [
                -68.2635498046875,
                -37.60552821745789
               ],
               [
                -67.87353515625,
                -37.6664292120906
               ],
               [
                -67.72247314453124,
                -37.877021386076336
               ],
               [
                -67.96417236328124,
                -38.01131226070672
               ],
               [
                -67.65655517578125,
                -38.25759312039535
               ],
               [
                -67.2418212890625,
                -38.201496974020806
               ],
               [
                -67.15118408203125,
                -38.42992513040935
               ],
               [
                -66.6265869140625,
                -38.5825261593533
               ],
               [
                -66.6265869140625,
                -38.73266112048232
               ],
               [
                -66.3134765625,
                -38.79048618862272
               ],
               [
                -66.09375,
                -38.756225137839074
               ],
               [
                -65.6597900390625,
                -38.84184690380897
               ],
               [
                -65.58013916015625,
                -38.75408327579141
               ],
               [
                -65.36865234375,
                -38.87606680031535
               ],
               [
                -65.19561767578125,
                -38.8225909761771
               ],
               [
                -64.5281982421875,
                -38.85895891044852
               ],
               [
                -63.4130859375,
                -39.35978526869
               ],
               [
                -63.39385986328124,
                -40.70979201243495
               ],
               [
                -63.19885253906249,
                -40.718119379753446
               ],
               [
                -62.99835205078124,
                -40.80965166748854
               ],
               [
                -62.984619140625,
                -40.77014182590509
               ],
               [
                -62.78686523437499,
                -41.02342727608893
               ],
               [
                -62.98736572265625,
                -41.11039942586732
               ],
               [
                -63.05328369140626,
                -41.15177429844499
               ],
               [
                -63.29223632812499,
                -41.16211393939691
               ],
               [
                -63.32519531249999,
                -41.14763798539186
               ],
               [
                -63.4295654296875,
                -41.16418167186549
               ],
               [
                -63.78662109375001,
                -41.15591035054503
               ],
               [
                -63.84979248046875,
                -41.14143302653628
               ],
               [
                -63.88000488281251,
                -41.13936457644674
               ],
               [
                -63.94317626953125,
                -41.07935114946897
               ],
               [
                -64.08599853515625,
                -41.04000226828483
               ],
               [
                -64.06951904296875,
                -40.994410999439516
               ],
               [
                -64.0887451171875,
                -40.977824533189505
               ],
               [
                -64.14093017578125,
                -41.017210578228436
               ],
               [
                -64.20135498046875,
                -41.01099329360267
               ],
               [
                -64.74517822265625,
                -40.80757278825516
               ],
               [
                -64.8797607421875,
                -40.83459313808023
               ],
               [
                -64.90997314453125,
                -40.80965166748854
               ],
               [
                -64.84954833984375,
                -40.782621157698514
               ],
               [
                -64.775390625,
                -40.801335759791996
               ],
               [
                -64.73968505859375,
                -40.7888599444948
               ],
               [
                -64.7589111328125,
                -40.768061709366116
               ],
               [
                -64.79461669921875,
                -40.786780414016455
               ],
               [
                -64.80560302734375,
                -40.75349907043136
               ],
               [
                -64.77813720703125,
                -40.743095232181844
               ],
               [
                -64.84405517578125,
                -40.713955826286046
               ],
               [
                -64.9896240234375,
                -40.713955826286046
               ],
               [
                -64.88800048828125,
                -40.7472569628042
               ],
               [
                -64.9017333984375,
                -40.761820969066
               ],
               [
                -65.0006103515625,
                -40.75974059207391
               ],
               [
                -65.13519287109375,
                -40.84290487729675
               ],
               [
                -65.12420654296875,
                -40.86991083161534
               ],
               [
                -65.159912109375,
                -40.92804010533238
               ],
               [
                -65.16265869140625,
                -41.03585891144299
               ],
               [
                -65.17364501953124,
                -41.0607151401866
               ],
               [
                -64.9951171875,
                -41.50857729743933
               ],
               [
                -65.093994140625,
                -41.97582726102571
               ],
               [
                -71.795654296875,
                -41.99216023337628
               ],
               [
                -71.78466796874999,
                -41.80407814427234
               ],
               [
                -71.89453125,
                -41.66470503009206
               ],
               [
                -71.806640625,
                -41.590796851056
               ],
               [
                -71.905517578125,
                -41.39329428878487
               ],
               [
                -71.905517578125,
                -41.269549502842565
               ],
               [
                -71.817626953125,
                -41.310823880918186
               ],
               [
                -71.905517578125,
                -41.186922422902946
               ],
               [
                -71.82861328125,
                -41.02135510866601
               ],
               [
                -71.33148193359375,
                -41.10832999732831
               ],
               [
                -71.03485107421875,
                -40.94256444133327
               ],
               [
                -71.07879638671875,
                -40.76390128094587
               ],
               [
                -70.91125488281249,
                -40.58684239087908
               ],
               [
                -70.7574462890625,
                -40.58058466412763
               ],
               [
                -70.55145263671875,
                -40.482470524589495
               ],
               [
                -70.3948974609375,
                -40.53258931069554
               ],
               [
                -70.13671875,
                -40.49291502689579
               ],
               [
                -69.9664306640625,
                -40.18097176388719
               ],
               [
                -70.09277343749999,
                -39.985538414809724
               ],
               [
                -69.41162109375,
                -39.7663252565449
               ],
               [
                -68.345947265625,
                -38.9764924855394
               ],
               [
                -68.291015625,
                -38.96154447940714
               ],
               [
                -68.07952880859375,
                -38.950865400919994
               ]
              ]
             ],
             "type": "Polygon"
            },
            "id": "Río Negro",
            "properties": {},
            "type": "Feature"
           },
           {
            "bbox": [
             -72.2021484375,
             -46.01985337287632,
             -63.58886718749999,
             -41.97378534488486
            ],
            "geometry": {
             "coordinates": [
              [
               [
                -71.795654296875,
                -42.000325148316215
               ],
               [
                -65.0994873046875,
                -41.97378534488486
               ],
               [
                -65.093994140625,
                -41.996242821785806
               ],
               [
                -64.9072265625,
                -42.15933157601719
               ],
               [
                -64.8248291015625,
                -42.20003826604674
               ],
               [
                -64.4842529296875,
                -42.24071874922666
               ],
               [
                -64.3853759765625,
                -42.24071874922666
               ],
               [
                -64.05303955078125,
                -42.16951070521655
               ],
               [
                -63.97338867187501,
                -42.116561350389006
               ],
               [
                -63.797607421875,
                -42.067645723795266
               ],
               [
                -63.75640869140625,
                -42.0737622400872
               ],
               [
                -63.67675781249999,
                -42.21427941637545
               ],
               [
                -63.6328125,
                -42.261049162113835
               ],
               [
                -63.60260009765625,
                -42.32809302822459
               ],
               [
                -63.60260009765625,
                -42.50247797334869
               ],
               [
                -63.58886718749999,
                -42.60970621339408
               ],
               [
                -63.64379882812499,
                -42.7066595635104
               ],
               [
                -63.62731933593749,
                -42.765162283274684
               ],
               [
                -63.73718261718749,
                -42.81555136172695
               ],
               [
                -64.127197265625,
                -42.879989517714804
               ],
               [
                -64.259033203125,
                -42.76314586689493
               ],
               [
                -64.26177978515625,
                -42.68647341541783
               ],
               [
                -64.2041015625,
                -42.62587560259135
               ],
               [
                -64.21783447265625,
                -42.61172761665583
               ],
               [
                -64.281005859375,
                -42.627896481020834
               ],
               [
                -64.25628662109375,
                -42.595554553719204
               ],
               [
                -64.27825927734375,
                -42.56117285531809
               ],
               [
                -64.31121826171875,
                -42.593532625649935
               ],
               [
                -64.34967041015625,
                -42.53082032025189
               ],
               [
                -64.390869140625,
                -42.51462626746591
               ],
               [
                -64.57763671875,
                -42.49032731830466
               ],
               [
                -64.69573974609375,
                -42.52272381854158
               ],
               [
                -64.852294921875,
                -42.61779143282346
               ],
               [
                -64.874267578125,
                -42.61172761665583
               ],
               [
                -64.9896240234375,
                -42.65214190481524
               ],
               [
                -65.00335693359375,
                -42.700604408080835
               ],
               [
                -65.04730224609375,
                -42.73490914651559
               ],
               [
                -65.02532958984374,
                -42.7752433806997
               ],
               [
                -64.9456787109375,
                -42.78935416050277
               ],
               [
                -64.896240234375,
                -42.819580715795915
               ],
               [
                -64.86328125,
                -42.837709559849614
               ],
               [
                -64.8248291015625,
                -42.833681387335886
               ],
               [
                -64.70947265625,
                -42.87596410238254
               ],
               [
                -64.70123291015625,
                -42.90816007196053
               ],
               [
                -64.62158203125,
                -42.9182178655845
               ],
               [
                -64.53369140625,
                -42.93229601903057
               ],
               [
                -64.412841796875,
                -42.96245265666877
               ],
               [
                -64.34692382812499,
                -42.92827401776912
               ],
               [
                -64.281005859375,
                -42.98053954751642
               ],
               [
                -64.984130859375,
                -43.22118973298753
               ],
               [
                -65.181884765625,
                -43.52465500687185
               ],
               [
                -65.401611328125,
                -43.66787161011748
               ],
               [
                -65.21484375,
                -43.96909818325171
               ],
               [
                -65.21484375,
                -44.09547572946636
               ],
               [
                -65.302734375,
                -44.12702800650004
               ],
               [
                -65.302734375,
                -44.22158376545796
               ],
               [
                -65.23681640625,
                -44.363133113807706
               ],
               [
                -65.36865234375,
                -44.5982904898401
               ],
               [
                -65.72021484375,
                -44.65302415981199
               ],
               [
                -65.76416015625,
                -44.8636563054061
               ],
               [
                -65.54443359375,
                -44.941473354802504
               ],
               [
                -65.643310546875,
                -45.05800143539828
               ],
               [
                -65.8740234375,
                -45.02695045318544
               ],
               [
                -65.972900390625,
                -45.08127861241874
               ],
               [
                -66.148681640625,
                -44.941473354802504
               ],
               [
                -66.51123046875,
                -45.08127861241874
               ],
               [
                -66.588134765625,
                -45.213003555993964
               ],
               [
                -66.64306640625,
                -45.213003555993964
               ],
               [
                -66.99462890625,
                -45.25168825611765
               ],
               [
                -67.401123046875,
                -45.70617928533083
               ],
               [
                -67.401123046875,
                -45.83645405018771
               ],
               [
                -67.56591796875,
                -46.01985337287632
               ],
               [
                -71.619873046875,
                -45.98932892799953
               ],
               [
                -71.773681640625,
                -45.85176048817253
               ],
               [
                -71.7626953125,
                -45.575600209478
               ],
               [
                -71.641845703125,
                -45.52174389699363
               ],
               [
                -71.4990234375,
                -45.47554027158591
               ],
               [
                -71.553955078125,
                -45.38301927899064
               ],
               [
                -71.334228515625,
                -45.29034662473614
               ],
               [
                -71.553955078125,
                -44.98811302615805
               ],
               [
                -72.08129882812499,
                -44.91035917458493
               ],
               [
                -72.08129882812499,
                -44.74673324024679
               ],
               [
                -71.663818359375,
                -44.79353090474406
               ],
               [
                -71.52099609375,
                -44.73112559264325
               ],
               [
                -71.25732421875,
                -44.81691551782855
               ],
               [
                -71.21337890625,
                -44.61393394730626
               ],
               [
                -71.11450195312499,
                -44.6061127451739
               ],
               [
                -71.158447265625,
                -44.44946753600693
               ],
               [
                -71.817626953125,
                -44.4102404129601
               ],
               [
                -71.883544921875,
                -44.087585028245165
               ],
               [
                -71.7626953125,
                -44.150681159780916
               ],
               [
                -71.65283203125,
                -43.94537239244209
               ],
               [
                -71.78466796874999,
                -43.81074731344698
               ],
               [
                -71.60888671875,
                -43.63607515596578
               ],
               [
                -71.905517578125,
                -43.5326204268101
               ],
               [
                -71.9384765625,
                -43.36512572875842
               ],
               [
                -71.773681640625,
                -43.31718491566705
               ],
               [
                -71.773681640625,
                -43.16512263158296
               ],
               [
                -72.147216796875,
                -42.94033923363181
               ],
               [
                -72.158203125,
                -42.72280375732726
               ],
               [
                -72.02636718749999,
                -42.40723466155186
               ],
               [
                -72.169189453125,
                -42.350425122434565
               ],
               [
                -72.2021484375,
                -42.15525946577861
               ],
               [
                -72.08129882812499,
                -42.0737622400872
               ],
               [
                -71.89453125,
                -42.204107493733176
               ],
               [
                -71.751708984375,
                -42.12267315117256
               ],
               [
                -71.795654296875,
                -42.000325148316215
               ]
              ]
             ],
             "type": "Polygon"
            },
            "id": "Chubut",
            "properties": {},
            "type": "Feature"
           },
           {
            "bbox": [
             -73.564453125,
             -52.35547370875268,
             -65.709228515625,
             -45.98169518512228
            ],
            "geometry": {
             "coordinates": [
              [
               [
                -67.598876953125,
                -46.01985337287632
               ],
               [
                -67.6318359375,
                -46.21785176740299
               ],
               [
                -67.576904296875,
                -46.36967413462374
               ],
               [
                -67.39013671875,
                -46.59661864884464
               ],
               [
                -66.632080078125,
                -47.04766864046081
               ],
               [
                -66.192626953125,
                -47.070121823833084
               ],
               [
                -65.928955078125,
                -47.055154085503474
               ],
               [
                -65.753173828125,
                -47.18224592701489
               ],
               [
                -65.709228515625,
                -47.36115300722623
               ],
               [
                -65.906982421875,
                -47.75409797968002
               ],
               [
                -65.775146484375,
                -47.91634204016117
               ],
               [
                -65.841064453125,
                -47.975214123416166
               ],
               [
                -65.9619140625,
                -47.93106634750977
               ],
               [
                -66.02783203125,
                -48.01197512670994
               ],
               [
                -65.93994140625,
                -48.08541857551197
               ],
               [
                -66.192626953125,
                -48.12943437745314
               ],
               [
                -66.37939453125,
                -48.363548888986884
               ],
               [
                -66.478271484375,
                -48.327039130634766
               ],
               [
                -66.46728515624999,
                -48.400032496106846
               ],
               [
                -66.873779296875,
                -48.60385760823253
               ],
               [
                -67.159423828125,
                -48.64016871811908
               ],
               [
                -67.203369140625,
                -48.821332549646634
               ],
               [
                -67.598876953125,
                -49.0738659012854
               ],
               [
                -67.6318359375,
                -49.26780455063752
               ],
               [
                -67.752685546875,
                -49.85215166776998
               ],
               [
                -68.291015625,
                -50.12057809796008
               ],
               [
                -68.64257812499999,
                -49.83798245308484
               ],
               [
                -68.367919921875,
                -50.13466432216695
               ],
               [
                -68.93920898437499,
                -50.324422739309384
               ],
               [
                -69.136962890625,
                -50.847572953653874
               ],
               [
                -69.3896484375,
                -51.082821861609766
               ],
               [
                -69.18090820312499,
                -50.965346321637696
               ],
               [
                -68.9501953125,
                -51.52241608253253
               ],
               [
                -68.9501953125,
                -51.68617954855623
               ],
               [
                -68.35693359375,
                -52.32862548843016
               ],
               [
                -68.4228515625,
                -52.35547370875268
               ],
               [
                -68.895263671875,
                -52.274880130680536
               ],
               [
                -69.169921875,
                -52.146973340644706
               ],
               [
                -69.521484375,
                -52.15371445951162
               ],
               [
                -69.9609375,
                -51.99841038239032
               ],
               [
                -72.02636718749999,
                -51.971345808851716
               ],
               [
                -71.927490234375,
                -51.923943445544694
               ],
               [
                -72.2900390625,
                -51.692990211491846
               ],
               [
                -72.2900390625,
                -51.618016548773696
               ],
               [
                -72.421875,
                -51.570241445811234
               ],
               [
                -72.301025390625,
                -51.39920565355377
               ],
               [
                -72.3779296875,
                -51.35806157319091
               ],
               [
                -72.26806640624999,
                -51.26878915771343
               ],
               [
                -72.388916015625,
                -51.13800148806255
               ],
               [
                -72.388916015625,
                -51.020666012558095
               ],
               [
                -72.2900390625,
                -51.03448563297413
               ],
               [
                -72.3779296875,
                -50.736455137010644
               ],
               [
                -72.279052734375,
                -50.67383524992133
               ],
               [
                -72.4658203125,
                -50.59718623058701
               ],
               [
                -72.59765625,
                -50.68775800806201
               ],
               [
                -72.79541015625,
                -50.639010281258706
               ],
               [
                -73.1689453125,
                -50.79899141148548
               ],
               [
                -73.17993164062499,
                -50.625073063414355
               ],
               [
                -73.36669921875,
                -50.57626025689926
               ],
               [
                -73.42163085937499,
                -50.34546040860478
               ],
               [
                -73.41064453125,
                -50.24017888479702
               ],
               [
                -73.531494140625,
                -50.14170587960566
               ],
               [
                -73.45458984375,
                -49.96535590991309
               ],
               [
                -73.564453125,
                -49.95121990866204
               ],
               [
                -73.45458984375,
                -49.80963156356309
               ],
               [
                -73.54248046875,
                -49.55372551347578
               ],
               [
                -73.41064453125,
                -49.35375571830991
               ],
               [
                -73.5205078125,
                -49.26780455063752
               ],
               [
                -73.47656249999999,
                -49.210420445650286
               ],
               [
                -73.0810546875,
                -49.274972875996376
               ],
               [
                -73.135986328125,
                -49.2032427441791
               ],
               [
                -72.894287109375,
                -48.944151234187935
               ],
               [
                -72.83935546875,
                -48.98021698537499
               ],
               [
                -72.5537109375,
                -48.78515199804314
               ],
               [
                -72.57568359375,
                -48.451065619532145
               ],
               [
                -72.432861328125,
                -48.52388120259334
               ],
               [
                -72.257080078125,
                -48.34164617237459
               ],
               [
                -72.44384765625,
                -47.98992166741417
               ],
               [
                -72.564697265625,
                -47.95314495015593
               ],
               [
                -72.520751953125,
                -47.76886840424206
               ],
               [
                -72.322998046875,
                -47.613569753973955
               ],
               [
                -72.35595703125,
                -47.46523622438362
               ],
               [
                -72.1142578125,
                -47.31648293428332
               ],
               [
                -72.037353515625,
                -47.353710619513606
               ],
               [
                -72.037353515625,
                -47.19717795172787
               ],
               [
                -71.8505859375,
                -47.21210577562242
               ],
               [
                -71.97143554687499,
                -46.8000594467873
               ],
               [
                -71.883544921875,
                -46.8000594467873
               ],
               [
                -71.641845703125,
                -46.68713141244413
               ],
               [
                -71.78466796874999,
                -46.21785176740299
               ],
               [
                -71.9384765625,
                -46.13417004624325
               ],
               [
                -71.7626953125,
                -46.10370875598025
               ],
               [
                -71.60888671875,
                -45.98169518512228
               ],
               [
                -67.598876953125,
                -46.01985337287632
               ]
              ]
             ],
             "type": "Polygon"
            },
            "id": "Santa Cruz",
            "properties": {},
            "type": "Feature"
           },
           {
            "bbox": [
             -68.62060546875,
             -55.040614327716725,
             -65.19287109375,
             -52.36218321674425
            ],
            "geometry": {
             "coordinates": [
              [
               [
                -68.40087890624999,
                -52.36218321674425
               ],
               [
                -68.5546875,
                -52.72298552457067
               ],
               [
                -68.3349609375,
                -53.01478324585921
               ],
               [
                -68.62060546875,
                -53.25206880589412
               ],
               [
                -68.09326171875,
                -53.34399288223421
               ],
               [
                -68.04931640625,
                -53.59250480903936
               ],
               [
                -67.6318359375,
                -53.77468884583576
               ],
               [
                -67.47802734375,
                -53.95608553098789
               ],
               [
                -66.70898437499999,
                -54.316523240258256
               ],
               [
                -66.5771484375,
                -54.48280455958254
               ],
               [
                -65.63232421875,
                -54.67383096593114
               ],
               [
                -65.19287109375,
                -54.686534234529695
               ],
               [
                -65.3466796875,
                -54.914514007665254
               ],
               [
                -66.37939453125,
                -55.040614327716725
               ],
               [
                -67.25830078125,
                -54.914514007665254
               ],
               [
                -68.62060546875,
                -54.927141864546435
               ],
               [
                -68.62060546875,
                -52.643063436658906
               ],
               [
                -68.40087890624999,
                -52.36218321674425
               ]
              ]
             ],
             "type": "Polygon"
            },
            "id": "Tierra del Fuego, Antártida e Islas del Atlántico Sur",
            "properties": {},
            "type": "Feature"
           },
           {
            "bbox": [
             -58.532752990722656,
             -34.705281728442685,
             -58.33602905273437,
             -34.53371242139564
            ],
            "geometry": {
             "coordinates": [
              [
               [
                -58.41293334960937,
                -34.56566571569509
               ],
               [
                -58.36967468261719,
                -34.578387062362864
               ],
               [
                -58.36486816406249,
                -34.598737167902335
               ],
               [
                -58.35868835449218,
                -34.595345829770636
               ],
               [
                -58.34770202636719,
                -34.598737167902335
               ],
               [
                -58.33602905273437,
                -34.62699293367837
               ],
               [
                -58.34564208984375,
                -34.626427912618915
               ],
               [
                -58.347015380859375,
                -34.63320791137958
               ],
               [
                -58.356971740722656,
                -34.64436545285109
               ],
               [
                -58.36186408996582,
                -34.64831966420204
               ],
               [
                -58.36418151855469,
                -34.64863740514246
               ],
               [
                -58.368988037109375,
                -34.65146171553466
               ],
               [
                -58.36963176727295,
                -34.6538270014492
               ],
               [
                -58.37362289428711,
                -34.65718064936219
               ],
               [
                -58.37692737579346,
                -34.6571453485119
               ],
               [
                -58.38409423828125,
                -34.6586279712784
               ],
               [
                -58.39336395263672,
                -34.66286389017133
               ],
               [
                -58.40572357177734,
                -34.65975757082139
               ],
               [
                -58.41293334960937,
                -34.65778076151677
               ],
               [
                -58.424949645996094,
                -34.662299113496196
               ],
               [
                -58.46099853515624,
                -34.705281728442685
               ],
               [
                -58.52931976318359,
                -34.6555214931444
               ],
               [
                -58.532752990722656,
                -34.61682196594163
               ],
               [
                -58.50116729736328,
                -34.54954921593402
               ],
               [
                -58.46580505371094,
                -34.53371242139564
               ],
               [
                -58.41293334960937,
                -34.56566571569509
               ]
              ]
             ],
             "type": "Polygon"
            },
            "id": "Ciudad Autónoma de Buenos Aires",
            "properties": {},
            "type": "Feature"
           }
          ],
          "type": "FeatureCollection"
         },
         "hovertemplate": "<b>%{hovertext}</b><br>Licenses as % of popoulation: %{z:.4%}<extra></extra>",
         "hovertext": [
          "Tucumán",
          "Santiago del Estero",
          "Salta",
          "Jujuy",
          "Formosa",
          "Chaco",
          "Misiones",
          "Corrientes",
          "Catamarca",
          "Córdoba",
          "Santa Fe",
          "Entre Ríos",
          "Buenos Aires",
          "La Pampa",
          "La Rioja",
          "San Juan",
          "San Luis",
          "Mendoza",
          "Neuquén",
          "Río Negro",
          "Chubut",
          "Santa Cruz",
          "Tierra del Fuego, Antártida e Islas del Atlántico Sur",
          "Ciudad Autónoma de Buenos Aires"
         ],
         "locations": [
          "Tucumán",
          "Santiago del Estero",
          "Salta",
          "Jujuy",
          "Formosa",
          "Chaco",
          "Misiones",
          "Corrientes",
          "Catamarca",
          "Córdoba",
          "Santa Fe",
          "Entre Ríos",
          "Buenos Aires",
          "La Pampa",
          "La Rioja",
          "San Juan",
          "San Luis",
          "Mendoza",
          "Neuquén",
          "Río Negro",
          "Chubut",
          "Santa Cruz",
          "Tierra del Fuego, Antártida e Islas del Atlántico Sur",
          "Ciudad Autónoma de Buenos Aires"
         ],
         "marker": {
          "opacity": 0.6
         },
         "name": "",
         "subplot": "mapbox",
         "type": "choroplethmapbox",
         "z": [
          0.00006810765236445109,
          0.00008918169156796594,
          0.00008190622154105862,
          0.00003383649453916574,
          0.00004468142146495487,
          0.00011548930280332784,
          0.00010773170122408194,
          0.00020291377500620015,
          0.00016761493262810903,
          0.0003460682425463385,
          0.00028876282421851275,
          0.0004038064365063452,
          0.00037207469292738774,
          0.00030599253596778333,
          0.00014560317414919646,
          0.00021876382550712877,
          0.0003013468169086993,
          0.000386193723309571,
          0.00035091920188588105,
          0.0005380104374024857,
          0.0008406287306008754,
          0.0007376909075097534,
          0.000870746586516017,
          0.0005252174893899017
         ]
        }
       ],
       "layout": {
        "coloraxis": {
         "colorbar": {
          "orientation": "h",
          "tickformat": ",.2%",
          "title": {
           "text": "Licenses as % of population"
          }
         },
         "colorscale": [
          [
           0,
           "rgb(255,245,235)"
          ],
          [
           0.125,
           "rgb(254,230,206)"
          ],
          [
           0.25,
           "rgb(253,208,162)"
          ],
          [
           0.375,
           "rgb(253,174,107)"
          ],
          [
           0.5,
           "rgb(253,141,60)"
          ],
          [
           0.625,
           "rgb(241,105,19)"
          ],
          [
           0.75,
           "rgb(217,72,1)"
          ],
          [
           0.875,
           "rgb(166,54,3)"
          ],
          [
           1,
           "rgb(127,39,4)"
          ]
         ]
        },
        "font": {
         "family": "Ubuntu"
        },
        "height": 700,
        "legend": {
         "tracegroupgap": 0
        },
        "mapbox": {
         "center": {
          "lat": -40.7,
          "lon": -65.12695
         },
         "domain": {
          "x": [
           0,
           1
          ],
          "y": [
           0,
           1
          ]
         },
         "style": "carto-positron",
         "zoom": 3
        },
        "margin": {
         "b": 0
        },
        "template": {
         "data": {
          "bar": [
           {
            "error_x": {
             "color": "#2a3f5f"
            },
            "error_y": {
             "color": "#2a3f5f"
            },
            "marker": {
             "line": {
              "color": "#E5ECF6",
              "width": 0.5
             },
             "pattern": {
              "fillmode": "overlay",
              "size": 10,
              "solidity": 0.2
             }
            },
            "type": "bar"
           }
          ],
          "barpolar": [
           {
            "marker": {
             "line": {
              "color": "#E5ECF6",
              "width": 0.5
             },
             "pattern": {
              "fillmode": "overlay",
              "size": 10,
              "solidity": 0.2
             }
            },
            "type": "barpolar"
           }
          ],
          "carpet": [
           {
            "aaxis": {
             "endlinecolor": "#2a3f5f",
             "gridcolor": "white",
             "linecolor": "white",
             "minorgridcolor": "white",
             "startlinecolor": "#2a3f5f"
            },
            "baxis": {
             "endlinecolor": "#2a3f5f",
             "gridcolor": "white",
             "linecolor": "white",
             "minorgridcolor": "white",
             "startlinecolor": "#2a3f5f"
            },
            "type": "carpet"
           }
          ],
          "choropleth": [
           {
            "colorbar": {
             "outlinewidth": 0,
             "ticks": ""
            },
            "type": "choropleth"
           }
          ],
          "contour": [
           {
            "colorbar": {
             "outlinewidth": 0,
             "ticks": ""
            },
            "colorscale": [
             [
              0,
              "#0d0887"
             ],
             [
              0.1111111111111111,
              "#46039f"
             ],
             [
              0.2222222222222222,
              "#7201a8"
             ],
             [
              0.3333333333333333,
              "#9c179e"
             ],
             [
              0.4444444444444444,
              "#bd3786"
             ],
             [
              0.5555555555555556,
              "#d8576b"
             ],
             [
              0.6666666666666666,
              "#ed7953"
             ],
             [
              0.7777777777777778,
              "#fb9f3a"
             ],
             [
              0.8888888888888888,
              "#fdca26"
             ],
             [
              1,
              "#f0f921"
             ]
            ],
            "type": "contour"
           }
          ],
          "contourcarpet": [
           {
            "colorbar": {
             "outlinewidth": 0,
             "ticks": ""
            },
            "type": "contourcarpet"
           }
          ],
          "heatmap": [
           {
            "colorbar": {
             "outlinewidth": 0,
             "ticks": ""
            },
            "colorscale": [
             [
              0,
              "#0d0887"
             ],
             [
              0.1111111111111111,
              "#46039f"
             ],
             [
              0.2222222222222222,
              "#7201a8"
             ],
             [
              0.3333333333333333,
              "#9c179e"
             ],
             [
              0.4444444444444444,
              "#bd3786"
             ],
             [
              0.5555555555555556,
              "#d8576b"
             ],
             [
              0.6666666666666666,
              "#ed7953"
             ],
             [
              0.7777777777777778,
              "#fb9f3a"
             ],
             [
              0.8888888888888888,
              "#fdca26"
             ],
             [
              1,
              "#f0f921"
             ]
            ],
            "type": "heatmap"
           }
          ],
          "heatmapgl": [
           {
            "colorbar": {
             "outlinewidth": 0,
             "ticks": ""
            },
            "colorscale": [
             [
              0,
              "#0d0887"
             ],
             [
              0.1111111111111111,
              "#46039f"
             ],
             [
              0.2222222222222222,
              "#7201a8"
             ],
             [
              0.3333333333333333,
              "#9c179e"
             ],
             [
              0.4444444444444444,
              "#bd3786"
             ],
             [
              0.5555555555555556,
              "#d8576b"
             ],
             [
              0.6666666666666666,
              "#ed7953"
             ],
             [
              0.7777777777777778,
              "#fb9f3a"
             ],
             [
              0.8888888888888888,
              "#fdca26"
             ],
             [
              1,
              "#f0f921"
             ]
            ],
            "type": "heatmapgl"
           }
          ],
          "histogram": [
           {
            "marker": {
             "pattern": {
              "fillmode": "overlay",
              "size": 10,
              "solidity": 0.2
             }
            },
            "type": "histogram"
           }
          ],
          "histogram2d": [
           {
            "colorbar": {
             "outlinewidth": 0,
             "ticks": ""
            },
            "colorscale": [
             [
              0,
              "#0d0887"
             ],
             [
              0.1111111111111111,
              "#46039f"
             ],
             [
              0.2222222222222222,
              "#7201a8"
             ],
             [
              0.3333333333333333,
              "#9c179e"
             ],
             [
              0.4444444444444444,
              "#bd3786"
             ],
             [
              0.5555555555555556,
              "#d8576b"
             ],
             [
              0.6666666666666666,
              "#ed7953"
             ],
             [
              0.7777777777777778,
              "#fb9f3a"
             ],
             [
              0.8888888888888888,
              "#fdca26"
             ],
             [
              1,
              "#f0f921"
             ]
            ],
            "type": "histogram2d"
           }
          ],
          "histogram2dcontour": [
           {
            "colorbar": {
             "outlinewidth": 0,
             "ticks": ""
            },
            "colorscale": [
             [
              0,
              "#0d0887"
             ],
             [
              0.1111111111111111,
              "#46039f"
             ],
             [
              0.2222222222222222,
              "#7201a8"
             ],
             [
              0.3333333333333333,
              "#9c179e"
             ],
             [
              0.4444444444444444,
              "#bd3786"
             ],
             [
              0.5555555555555556,
              "#d8576b"
             ],
             [
              0.6666666666666666,
              "#ed7953"
             ],
             [
              0.7777777777777778,
              "#fb9f3a"
             ],
             [
              0.8888888888888888,
              "#fdca26"
             ],
             [
              1,
              "#f0f921"
             ]
            ],
            "type": "histogram2dcontour"
           }
          ],
          "mesh3d": [
           {
            "colorbar": {
             "outlinewidth": 0,
             "ticks": ""
            },
            "type": "mesh3d"
           }
          ],
          "parcoords": [
           {
            "line": {
             "colorbar": {
              "outlinewidth": 0,
              "ticks": ""
             }
            },
            "type": "parcoords"
           }
          ],
          "pie": [
           {
            "automargin": true,
            "type": "pie"
           }
          ],
          "scatter": [
           {
            "fillpattern": {
             "fillmode": "overlay",
             "size": 10,
             "solidity": 0.2
            },
            "type": "scatter"
           }
          ],
          "scatter3d": [
           {
            "line": {
             "colorbar": {
              "outlinewidth": 0,
              "ticks": ""
             }
            },
            "marker": {
             "colorbar": {
              "outlinewidth": 0,
              "ticks": ""
             }
            },
            "type": "scatter3d"
           }
          ],
          "scattercarpet": [
           {
            "marker": {
             "colorbar": {
              "outlinewidth": 0,
              "ticks": ""
             }
            },
            "type": "scattercarpet"
           }
          ],
          "scattergeo": [
           {
            "marker": {
             "colorbar": {
              "outlinewidth": 0,
              "ticks": ""
             }
            },
            "type": "scattergeo"
           }
          ],
          "scattergl": [
           {
            "marker": {
             "colorbar": {
              "outlinewidth": 0,
              "ticks": ""
             }
            },
            "type": "scattergl"
           }
          ],
          "scattermapbox": [
           {
            "marker": {
             "colorbar": {
              "outlinewidth": 0,
              "ticks": ""
             }
            },
            "type": "scattermapbox"
           }
          ],
          "scatterpolar": [
           {
            "marker": {
             "colorbar": {
              "outlinewidth": 0,
              "ticks": ""
             }
            },
            "type": "scatterpolar"
           }
          ],
          "scatterpolargl": [
           {
            "marker": {
             "colorbar": {
              "outlinewidth": 0,
              "ticks": ""
             }
            },
            "type": "scatterpolargl"
           }
          ],
          "scatterternary": [
           {
            "marker": {
             "colorbar": {
              "outlinewidth": 0,
              "ticks": ""
             }
            },
            "type": "scatterternary"
           }
          ],
          "surface": [
           {
            "colorbar": {
             "outlinewidth": 0,
             "ticks": ""
            },
            "colorscale": [
             [
              0,
              "#0d0887"
             ],
             [
              0.1111111111111111,
              "#46039f"
             ],
             [
              0.2222222222222222,
              "#7201a8"
             ],
             [
              0.3333333333333333,
              "#9c179e"
             ],
             [
              0.4444444444444444,
              "#bd3786"
             ],
             [
              0.5555555555555556,
              "#d8576b"
             ],
             [
              0.6666666666666666,
              "#ed7953"
             ],
             [
              0.7777777777777778,
              "#fb9f3a"
             ],
             [
              0.8888888888888888,
              "#fdca26"
             ],
             [
              1,
              "#f0f921"
             ]
            ],
            "type": "surface"
           }
          ],
          "table": [
           {
            "cells": {
             "fill": {
              "color": "#EBF0F8"
             },
             "line": {
              "color": "white"
             }
            },
            "header": {
             "fill": {
              "color": "#C8D4E3"
             },
             "line": {
              "color": "white"
             }
            },
            "type": "table"
           }
          ]
         },
         "layout": {
          "annotationdefaults": {
           "arrowcolor": "#2a3f5f",
           "arrowhead": 0,
           "arrowwidth": 1
          },
          "autotypenumbers": "strict",
          "coloraxis": {
           "colorbar": {
            "outlinewidth": 0,
            "ticks": ""
           }
          },
          "colorscale": {
           "diverging": [
            [
             0,
             "#8e0152"
            ],
            [
             0.1,
             "#c51b7d"
            ],
            [
             0.2,
             "#de77ae"
            ],
            [
             0.3,
             "#f1b6da"
            ],
            [
             0.4,
             "#fde0ef"
            ],
            [
             0.5,
             "#f7f7f7"
            ],
            [
             0.6,
             "#e6f5d0"
            ],
            [
             0.7,
             "#b8e186"
            ],
            [
             0.8,
             "#7fbc41"
            ],
            [
             0.9,
             "#4d9221"
            ],
            [
             1,
             "#276419"
            ]
           ],
           "sequential": [
            [
             0,
             "#0d0887"
            ],
            [
             0.1111111111111111,
             "#46039f"
            ],
            [
             0.2222222222222222,
             "#7201a8"
            ],
            [
             0.3333333333333333,
             "#9c179e"
            ],
            [
             0.4444444444444444,
             "#bd3786"
            ],
            [
             0.5555555555555556,
             "#d8576b"
            ],
            [
             0.6666666666666666,
             "#ed7953"
            ],
            [
             0.7777777777777778,
             "#fb9f3a"
            ],
            [
             0.8888888888888888,
             "#fdca26"
            ],
            [
             1,
             "#f0f921"
            ]
           ],
           "sequentialminus": [
            [
             0,
             "#0d0887"
            ],
            [
             0.1111111111111111,
             "#46039f"
            ],
            [
             0.2222222222222222,
             "#7201a8"
            ],
            [
             0.3333333333333333,
             "#9c179e"
            ],
            [
             0.4444444444444444,
             "#bd3786"
            ],
            [
             0.5555555555555556,
             "#d8576b"
            ],
            [
             0.6666666666666666,
             "#ed7953"
            ],
            [
             0.7777777777777778,
             "#fb9f3a"
            ],
            [
             0.8888888888888888,
             "#fdca26"
            ],
            [
             1,
             "#f0f921"
            ]
           ]
          },
          "colorway": [
           "#636efa",
           "#EF553B",
           "#00cc96",
           "#ab63fa",
           "#FFA15A",
           "#19d3f3",
           "#FF6692",
           "#B6E880",
           "#FF97FF",
           "#FECB52"
          ],
          "font": {
           "color": "#2a3f5f"
          },
          "geo": {
           "bgcolor": "white",
           "lakecolor": "white",
           "landcolor": "#E5ECF6",
           "showlakes": true,
           "showland": true,
           "subunitcolor": "white"
          },
          "hoverlabel": {
           "align": "left"
          },
          "hovermode": "closest",
          "mapbox": {
           "style": "light"
          },
          "paper_bgcolor": "white",
          "plot_bgcolor": "#E5ECF6",
          "polar": {
           "angularaxis": {
            "gridcolor": "white",
            "linecolor": "white",
            "ticks": ""
           },
           "bgcolor": "#E5ECF6",
           "radialaxis": {
            "gridcolor": "white",
            "linecolor": "white",
            "ticks": ""
           }
          },
          "scene": {
           "xaxis": {
            "backgroundcolor": "#E5ECF6",
            "gridcolor": "white",
            "gridwidth": 2,
            "linecolor": "white",
            "showbackground": true,
            "ticks": "",
            "zerolinecolor": "white"
           },
           "yaxis": {
            "backgroundcolor": "#E5ECF6",
            "gridcolor": "white",
            "gridwidth": 2,
            "linecolor": "white",
            "showbackground": true,
            "ticks": "",
            "zerolinecolor": "white"
           },
           "zaxis": {
            "backgroundcolor": "#E5ECF6",
            "gridcolor": "white",
            "gridwidth": 2,
            "linecolor": "white",
            "showbackground": true,
            "ticks": "",
            "zerolinecolor": "white"
           }
          },
          "shapedefaults": {
           "line": {
            "color": "#2a3f5f"
           }
          },
          "ternary": {
           "aaxis": {
            "gridcolor": "white",
            "linecolor": "white",
            "ticks": ""
           },
           "baxis": {
            "gridcolor": "white",
            "linecolor": "white",
            "ticks": ""
           },
           "bgcolor": "#E5ECF6",
           "caxis": {
            "gridcolor": "white",
            "linecolor": "white",
            "ticks": ""
           }
          },
          "title": {
           "x": 0.05
          },
          "xaxis": {
           "automargin": true,
           "gridcolor": "white",
           "linecolor": "white",
           "ticks": "",
           "title": {
            "standoff": 15
           },
           "zerolinecolor": "white",
           "zerolinewidth": 2
          },
          "yaxis": {
           "automargin": true,
           "gridcolor": "white",
           "linecolor": "white",
           "ticks": "",
           "title": {
            "standoff": 15
           },
           "zerolinecolor": "white",
           "zerolinewidth": 2
          }
         }
        },
        "title": {
         "font": {
          "size": 20
         },
         "text": "Amateur Radio Licenses Relative to Population"
        },
        "width": 900
       }
      }
     },
     "metadata": {},
     "output_type": "display_data"
    }
   ],
   "source": [
    "fig4 = px.choropleth_mapbox(gdf, \n",
    "                           geojson=gdf.geometry, \n",
    "                           locations=gdf.index,\n",
    "                           color='licenses_perc_pop',\n",
    "                           color_continuous_scale = px.colors.sequential.Oranges,\n",
    "                           mapbox_style='carto-positron', \n",
    "                           center={'lat': -40.7, 'lon': -65.12695},\n",
    "                           zoom=3,\n",
    "                           opacity=0.6,\n",
    "                           labels={'licenses_perc_pop': 'Licenses as % of population'},\n",
    "                           title='Amateur Radio Licenses Relative to Population',\n",
    "                           hover_name=gdf.index)\n",
    "fig4.update_layout(height=700, width=900, margin={'b':0}, font_family='Ubuntu', title_font_size=20)\n",
    "fig4.update_traces(hovertemplate='<b>%{hovertext}</b><br>Licenses as % of popoulation: %{z:.4%}<extra></extra>')\n",
    "fig4.update_layout(coloraxis=dict(colorbar=dict(orientation='h', tickformat=',.2%')))\n",
    "fig4.show()"
   ]
  },
  {
   "cell_type": "code",
   "execution_count": 800,
   "metadata": {},
   "outputs": [
    {
     "data": {
      "application/vnd.plotly.v1+json": {
       "config": {
        "plotlyServerURL": "https://plot.ly"
       },
       "data": [
        {
         "hovertemplate": "<b>%{hovertext}</b><br><br>earnings=%{x}<br>licenses_perc_pop=%{y}<extra></extra>",
         "hovertext": [
          "Tucumán",
          "Santiago del Estero",
          "Salta",
          "Jujuy",
          "Formosa",
          "Chaco",
          "Misiones",
          "Corrientes",
          "Catamarca",
          "Córdoba",
          "Santa Fe",
          "Entre Ríos",
          "Buenos Aires",
          "La Pampa",
          "La Rioja",
          "San Juan",
          "San Luis",
          "Mendoza",
          "Neuquén",
          "Río Negro",
          "Chubut",
          "Santa Cruz",
          "Tierra del Fuego, Antártida e Islas del Atlántico Sur",
          "Ciudad Autónoma de Buenos Aires"
         ],
         "legendgroup": "",
         "marker": {
          "color": "chocolate",
          "line": {
           "color": "DarkSlateGrey",
           "width": 1
          },
          "size": 10,
          "symbol": "circle"
         },
         "mode": "markers",
         "name": "",
         "orientation": "v",
         "showlegend": false,
         "type": "scatter",
         "x": [
          152862,
          170466,
          241973,
          153811,
          194757,
          186228,
          211361,
          179803,
          186419,
          224244,
          246073,
          203392,
          244345,
          254007,
          146527,
          238846,
          218375,
          193043,
          391426,
          252666,
          368289,
          477488,
          336948,
          323670
         ],
         "xaxis": "x",
         "y": [
          0.00006810765236445109,
          0.00008918169156796594,
          0.00008190622154105862,
          0.00003383649453916574,
          0.00004468142146495487,
          0.00011548930280332784,
          0.00010773170122408194,
          0.00020291377500620015,
          0.00016761493262810903,
          0.0003460682425463385,
          0.00028876282421851275,
          0.0004038064365063452,
          0.00037207469292738774,
          0.00030599253596778333,
          0.00014560317414919646,
          0.00021876382550712877,
          0.0003013468169086993,
          0.000386193723309571,
          0.00035091920188588105,
          0.0005380104374024857,
          0.0008406287306008754,
          0.0007376909075097534,
          0.000870746586516017,
          0.0005252174893899017
         ],
         "yaxis": "y"
        },
        {
         "hovertemplate": "<b>OLS trendline</b><br>licenses_perc_pop = 2.29118e-09 * earnings + -0.000239115<br>R<sup>2</sup>=0.612799<br><br>earnings=%{x}<br>licenses_perc_pop=%{y} <b>(trend)</b><extra></extra>",
         "legendgroup": "",
         "marker": {
          "color": "chocolate",
          "line": {
           "color": "DarkSlateGrey",
           "width": 1
          },
          "size": 10,
          "symbol": "circle"
         },
         "mode": "lines",
         "name": "",
         "showlegend": false,
         "type": "scatter",
         "x": [
          146527,
          152862,
          153811,
          170466,
          179803,
          186228,
          186419,
          193043,
          194757,
          203392,
          211361,
          218375,
          224244,
          238846,
          241973,
          244345,
          246073,
          252666,
          254007,
          323670,
          336948,
          368289,
          391426,
          477488
         ],
         "xaxis": "x",
         "y": [
          0.00009660575099718934,
          0.00011112040509667184,
          0.00011329473923091162,
          0.00015145441784604675,
          0.0001728472079528926,
          0.00018756806866152323,
          0.00018800568490982649,
          0.0002031824913431291,
          0.000207109581655128,
          0.00022689396021061836,
          0.0002451524098584125,
          0.00026122277826469035,
          0.00027466974036569476,
          0.0003081256171077064,
          0.00031529015118333096,
          0.00032072484092665734,
          0.00032468400782230156,
          0.0003397897875346754,
          0.0003428622660109825,
          0.0005024730550452761,
          0.000532895403448264,
          0.0006047034183072823,
          0.0006577145551501754,
          0.000854898479555805
         ],
         "yaxis": "y"
        }
       ],
       "layout": {
        "font": {
         "family": "Ubuntu"
        },
        "height": 700,
        "legend": {
         "tracegroupgap": 0
        },
        "showlegend": false,
        "template": {
         "data": {
          "bar": [
           {
            "error_x": {
             "color": "#2a3f5f"
            },
            "error_y": {
             "color": "#2a3f5f"
            },
            "marker": {
             "line": {
              "color": "#E5ECF6",
              "width": 0.5
             },
             "pattern": {
              "fillmode": "overlay",
              "size": 10,
              "solidity": 0.2
             }
            },
            "type": "bar"
           }
          ],
          "barpolar": [
           {
            "marker": {
             "line": {
              "color": "#E5ECF6",
              "width": 0.5
             },
             "pattern": {
              "fillmode": "overlay",
              "size": 10,
              "solidity": 0.2
             }
            },
            "type": "barpolar"
           }
          ],
          "carpet": [
           {
            "aaxis": {
             "endlinecolor": "#2a3f5f",
             "gridcolor": "white",
             "linecolor": "white",
             "minorgridcolor": "white",
             "startlinecolor": "#2a3f5f"
            },
            "baxis": {
             "endlinecolor": "#2a3f5f",
             "gridcolor": "white",
             "linecolor": "white",
             "minorgridcolor": "white",
             "startlinecolor": "#2a3f5f"
            },
            "type": "carpet"
           }
          ],
          "choropleth": [
           {
            "colorbar": {
             "outlinewidth": 0,
             "ticks": ""
            },
            "type": "choropleth"
           }
          ],
          "contour": [
           {
            "colorbar": {
             "outlinewidth": 0,
             "ticks": ""
            },
            "colorscale": [
             [
              0,
              "#0d0887"
             ],
             [
              0.1111111111111111,
              "#46039f"
             ],
             [
              0.2222222222222222,
              "#7201a8"
             ],
             [
              0.3333333333333333,
              "#9c179e"
             ],
             [
              0.4444444444444444,
              "#bd3786"
             ],
             [
              0.5555555555555556,
              "#d8576b"
             ],
             [
              0.6666666666666666,
              "#ed7953"
             ],
             [
              0.7777777777777778,
              "#fb9f3a"
             ],
             [
              0.8888888888888888,
              "#fdca26"
             ],
             [
              1,
              "#f0f921"
             ]
            ],
            "type": "contour"
           }
          ],
          "contourcarpet": [
           {
            "colorbar": {
             "outlinewidth": 0,
             "ticks": ""
            },
            "type": "contourcarpet"
           }
          ],
          "heatmap": [
           {
            "colorbar": {
             "outlinewidth": 0,
             "ticks": ""
            },
            "colorscale": [
             [
              0,
              "#0d0887"
             ],
             [
              0.1111111111111111,
              "#46039f"
             ],
             [
              0.2222222222222222,
              "#7201a8"
             ],
             [
              0.3333333333333333,
              "#9c179e"
             ],
             [
              0.4444444444444444,
              "#bd3786"
             ],
             [
              0.5555555555555556,
              "#d8576b"
             ],
             [
              0.6666666666666666,
              "#ed7953"
             ],
             [
              0.7777777777777778,
              "#fb9f3a"
             ],
             [
              0.8888888888888888,
              "#fdca26"
             ],
             [
              1,
              "#f0f921"
             ]
            ],
            "type": "heatmap"
           }
          ],
          "heatmapgl": [
           {
            "colorbar": {
             "outlinewidth": 0,
             "ticks": ""
            },
            "colorscale": [
             [
              0,
              "#0d0887"
             ],
             [
              0.1111111111111111,
              "#46039f"
             ],
             [
              0.2222222222222222,
              "#7201a8"
             ],
             [
              0.3333333333333333,
              "#9c179e"
             ],
             [
              0.4444444444444444,
              "#bd3786"
             ],
             [
              0.5555555555555556,
              "#d8576b"
             ],
             [
              0.6666666666666666,
              "#ed7953"
             ],
             [
              0.7777777777777778,
              "#fb9f3a"
             ],
             [
              0.8888888888888888,
              "#fdca26"
             ],
             [
              1,
              "#f0f921"
             ]
            ],
            "type": "heatmapgl"
           }
          ],
          "histogram": [
           {
            "marker": {
             "pattern": {
              "fillmode": "overlay",
              "size": 10,
              "solidity": 0.2
             }
            },
            "type": "histogram"
           }
          ],
          "histogram2d": [
           {
            "colorbar": {
             "outlinewidth": 0,
             "ticks": ""
            },
            "colorscale": [
             [
              0,
              "#0d0887"
             ],
             [
              0.1111111111111111,
              "#46039f"
             ],
             [
              0.2222222222222222,
              "#7201a8"
             ],
             [
              0.3333333333333333,
              "#9c179e"
             ],
             [
              0.4444444444444444,
              "#bd3786"
             ],
             [
              0.5555555555555556,
              "#d8576b"
             ],
             [
              0.6666666666666666,
              "#ed7953"
             ],
             [
              0.7777777777777778,
              "#fb9f3a"
             ],
             [
              0.8888888888888888,
              "#fdca26"
             ],
             [
              1,
              "#f0f921"
             ]
            ],
            "type": "histogram2d"
           }
          ],
          "histogram2dcontour": [
           {
            "colorbar": {
             "outlinewidth": 0,
             "ticks": ""
            },
            "colorscale": [
             [
              0,
              "#0d0887"
             ],
             [
              0.1111111111111111,
              "#46039f"
             ],
             [
              0.2222222222222222,
              "#7201a8"
             ],
             [
              0.3333333333333333,
              "#9c179e"
             ],
             [
              0.4444444444444444,
              "#bd3786"
             ],
             [
              0.5555555555555556,
              "#d8576b"
             ],
             [
              0.6666666666666666,
              "#ed7953"
             ],
             [
              0.7777777777777778,
              "#fb9f3a"
             ],
             [
              0.8888888888888888,
              "#fdca26"
             ],
             [
              1,
              "#f0f921"
             ]
            ],
            "type": "histogram2dcontour"
           }
          ],
          "mesh3d": [
           {
            "colorbar": {
             "outlinewidth": 0,
             "ticks": ""
            },
            "type": "mesh3d"
           }
          ],
          "parcoords": [
           {
            "line": {
             "colorbar": {
              "outlinewidth": 0,
              "ticks": ""
             }
            },
            "type": "parcoords"
           }
          ],
          "pie": [
           {
            "automargin": true,
            "type": "pie"
           }
          ],
          "scatter": [
           {
            "fillpattern": {
             "fillmode": "overlay",
             "size": 10,
             "solidity": 0.2
            },
            "type": "scatter"
           }
          ],
          "scatter3d": [
           {
            "line": {
             "colorbar": {
              "outlinewidth": 0,
              "ticks": ""
             }
            },
            "marker": {
             "colorbar": {
              "outlinewidth": 0,
              "ticks": ""
             }
            },
            "type": "scatter3d"
           }
          ],
          "scattercarpet": [
           {
            "marker": {
             "colorbar": {
              "outlinewidth": 0,
              "ticks": ""
             }
            },
            "type": "scattercarpet"
           }
          ],
          "scattergeo": [
           {
            "marker": {
             "colorbar": {
              "outlinewidth": 0,
              "ticks": ""
             }
            },
            "type": "scattergeo"
           }
          ],
          "scattergl": [
           {
            "marker": {
             "colorbar": {
              "outlinewidth": 0,
              "ticks": ""
             }
            },
            "type": "scattergl"
           }
          ],
          "scattermapbox": [
           {
            "marker": {
             "colorbar": {
              "outlinewidth": 0,
              "ticks": ""
             }
            },
            "type": "scattermapbox"
           }
          ],
          "scatterpolar": [
           {
            "marker": {
             "colorbar": {
              "outlinewidth": 0,
              "ticks": ""
             }
            },
            "type": "scatterpolar"
           }
          ],
          "scatterpolargl": [
           {
            "marker": {
             "colorbar": {
              "outlinewidth": 0,
              "ticks": ""
             }
            },
            "type": "scatterpolargl"
           }
          ],
          "scatterternary": [
           {
            "marker": {
             "colorbar": {
              "outlinewidth": 0,
              "ticks": ""
             }
            },
            "type": "scatterternary"
           }
          ],
          "surface": [
           {
            "colorbar": {
             "outlinewidth": 0,
             "ticks": ""
            },
            "colorscale": [
             [
              0,
              "#0d0887"
             ],
             [
              0.1111111111111111,
              "#46039f"
             ],
             [
              0.2222222222222222,
              "#7201a8"
             ],
             [
              0.3333333333333333,
              "#9c179e"
             ],
             [
              0.4444444444444444,
              "#bd3786"
             ],
             [
              0.5555555555555556,
              "#d8576b"
             ],
             [
              0.6666666666666666,
              "#ed7953"
             ],
             [
              0.7777777777777778,
              "#fb9f3a"
             ],
             [
              0.8888888888888888,
              "#fdca26"
             ],
             [
              1,
              "#f0f921"
             ]
            ],
            "type": "surface"
           }
          ],
          "table": [
           {
            "cells": {
             "fill": {
              "color": "#EBF0F8"
             },
             "line": {
              "color": "white"
             }
            },
            "header": {
             "fill": {
              "color": "#C8D4E3"
             },
             "line": {
              "color": "white"
             }
            },
            "type": "table"
           }
          ]
         },
         "layout": {
          "annotationdefaults": {
           "arrowcolor": "#2a3f5f",
           "arrowhead": 0,
           "arrowwidth": 1
          },
          "autotypenumbers": "strict",
          "coloraxis": {
           "colorbar": {
            "outlinewidth": 0,
            "ticks": ""
           }
          },
          "colorscale": {
           "diverging": [
            [
             0,
             "#8e0152"
            ],
            [
             0.1,
             "#c51b7d"
            ],
            [
             0.2,
             "#de77ae"
            ],
            [
             0.3,
             "#f1b6da"
            ],
            [
             0.4,
             "#fde0ef"
            ],
            [
             0.5,
             "#f7f7f7"
            ],
            [
             0.6,
             "#e6f5d0"
            ],
            [
             0.7,
             "#b8e186"
            ],
            [
             0.8,
             "#7fbc41"
            ],
            [
             0.9,
             "#4d9221"
            ],
            [
             1,
             "#276419"
            ]
           ],
           "sequential": [
            [
             0,
             "#0d0887"
            ],
            [
             0.1111111111111111,
             "#46039f"
            ],
            [
             0.2222222222222222,
             "#7201a8"
            ],
            [
             0.3333333333333333,
             "#9c179e"
            ],
            [
             0.4444444444444444,
             "#bd3786"
            ],
            [
             0.5555555555555556,
             "#d8576b"
            ],
            [
             0.6666666666666666,
             "#ed7953"
            ],
            [
             0.7777777777777778,
             "#fb9f3a"
            ],
            [
             0.8888888888888888,
             "#fdca26"
            ],
            [
             1,
             "#f0f921"
            ]
           ],
           "sequentialminus": [
            [
             0,
             "#0d0887"
            ],
            [
             0.1111111111111111,
             "#46039f"
            ],
            [
             0.2222222222222222,
             "#7201a8"
            ],
            [
             0.3333333333333333,
             "#9c179e"
            ],
            [
             0.4444444444444444,
             "#bd3786"
            ],
            [
             0.5555555555555556,
             "#d8576b"
            ],
            [
             0.6666666666666666,
             "#ed7953"
            ],
            [
             0.7777777777777778,
             "#fb9f3a"
            ],
            [
             0.8888888888888888,
             "#fdca26"
            ],
            [
             1,
             "#f0f921"
            ]
           ]
          },
          "colorway": [
           "#636efa",
           "#EF553B",
           "#00cc96",
           "#ab63fa",
           "#FFA15A",
           "#19d3f3",
           "#FF6692",
           "#B6E880",
           "#FF97FF",
           "#FECB52"
          ],
          "font": {
           "color": "#2a3f5f"
          },
          "geo": {
           "bgcolor": "white",
           "lakecolor": "white",
           "landcolor": "#E5ECF6",
           "showlakes": true,
           "showland": true,
           "subunitcolor": "white"
          },
          "hoverlabel": {
           "align": "left"
          },
          "hovermode": "closest",
          "mapbox": {
           "style": "light"
          },
          "paper_bgcolor": "white",
          "plot_bgcolor": "#E5ECF6",
          "polar": {
           "angularaxis": {
            "gridcolor": "white",
            "linecolor": "white",
            "ticks": ""
           },
           "bgcolor": "#E5ECF6",
           "radialaxis": {
            "gridcolor": "white",
            "linecolor": "white",
            "ticks": ""
           }
          },
          "scene": {
           "xaxis": {
            "backgroundcolor": "#E5ECF6",
            "gridcolor": "white",
            "gridwidth": 2,
            "linecolor": "white",
            "showbackground": true,
            "ticks": "",
            "zerolinecolor": "white"
           },
           "yaxis": {
            "backgroundcolor": "#E5ECF6",
            "gridcolor": "white",
            "gridwidth": 2,
            "linecolor": "white",
            "showbackground": true,
            "ticks": "",
            "zerolinecolor": "white"
           },
           "zaxis": {
            "backgroundcolor": "#E5ECF6",
            "gridcolor": "white",
            "gridwidth": 2,
            "linecolor": "white",
            "showbackground": true,
            "ticks": "",
            "zerolinecolor": "white"
           }
          },
          "shapedefaults": {
           "line": {
            "color": "#2a3f5f"
           }
          },
          "ternary": {
           "aaxis": {
            "gridcolor": "white",
            "linecolor": "white",
            "ticks": ""
           },
           "baxis": {
            "gridcolor": "white",
            "linecolor": "white",
            "ticks": ""
           },
           "bgcolor": "#E5ECF6",
           "caxis": {
            "gridcolor": "white",
            "linecolor": "white",
            "ticks": ""
           }
          },
          "title": {
           "x": 0.05
          },
          "xaxis": {
           "automargin": true,
           "gridcolor": "white",
           "linecolor": "white",
           "ticks": "",
           "title": {
            "standoff": 15
           },
           "zerolinecolor": "white",
           "zerolinewidth": 2
          },
          "yaxis": {
           "automargin": true,
           "gridcolor": "white",
           "linecolor": "white",
           "ticks": "",
           "title": {
            "standoff": 15
           },
           "zerolinecolor": "white",
           "zerolinewidth": 2
          }
         }
        },
        "title": {
         "font": {
          "size": 20
         },
         "text": "Earnings vs. Amateur Radio Licenses Relative to Population"
        },
        "xaxis": {
         "anchor": "y",
         "domain": [
          0,
          1
         ],
         "title": {
          "text": "Mean Monthly Earning"
         }
        },
        "yaxis": {
         "anchor": "x",
         "domain": [
          0,
          1
         ],
         "tickformat": ",.2%",
         "title": {
          "text": "Amateur Radio Licenses Relative to Population"
         }
        }
       }
      }
     },
     "metadata": {},
     "output_type": "display_data"
    }
   ],
   "source": [
    "fig5 = px.scatter(gdf, x='earnings', y='licenses_perc_pop', trendline='ols', title='Earnings vs. Amateur Radio Licenses Relative to Population', hover_name=gdf.index)\n",
    "fig5.update_layout(height=700, font_family='Ubuntu', title_font_size=20, xaxis_title='Mean Monthly Earning', yaxis_title='Amateur Radio Licenses Relative to Population', showlegend=False)\n",
    "fig5.update_traces(marker_color='chocolate', marker_size=10, marker_line_color='DarkSlateGrey', marker_line_width=1)\n",
    "fig5.update_layout(yaxis={'tickformat': ',.2%'})\n",
    "#fig5.update_layout(hovermode='x unified')\n",
    "fig5.show()"
   ]
  },
  {
   "cell_type": "code",
   "execution_count": 801,
   "metadata": {},
   "outputs": [
    {
     "data": {
      "application/vnd.plotly.v1+json": {
       "config": {
        "plotlyServerURL": "https://plot.ly"
       },
       "data": [
        {
         "hovertemplate": "<b>%{hovertext}</b><br><br>area=%{x}<br>licenses_perc_pop=%{y}<extra></extra>",
         "hovertext": [
          "Tucumán",
          "Santiago del Estero",
          "Salta",
          "Jujuy",
          "Formosa",
          "Chaco",
          "Misiones",
          "Corrientes",
          "Catamarca",
          "Córdoba",
          "Santa Fe",
          "Entre Ríos",
          "La Pampa",
          "La Rioja",
          "San Juan",
          "San Luis",
          "Mendoza",
          "Neuquén",
          "Río Negro",
          "Chubut",
          "Santa Cruz"
         ],
         "legendgroup": "",
         "marker": {
          "color": "chocolate",
          "line": {
           "color": "DarkSlateGrey",
           "width": 1
          },
          "size": 10,
          "symbol": "circle"
         },
         "mode": "markers",
         "name": "",
         "orientation": "v",
         "showlegend": false,
         "type": "scatter",
         "x": [
          22524,
          136351,
          155488,
          53219,
          72066,
          99633,
          29081,
          88199,
          102602,
          165321,
          133007,
          78781,
          143440,
          89680,
          89651,
          76748,
          148827,
          94078,
          203013,
          224686,
          243943
         ],
         "xaxis": "x",
         "y": [
          0.00006810765236445109,
          0.00008918169156796594,
          0.00008190622154105862,
          0.00003383649453916574,
          0.00004468142146495487,
          0.00011548930280332784,
          0.00010773170122408194,
          0.00020291377500620015,
          0.00016761493262810903,
          0.0003460682425463385,
          0.00028876282421851275,
          0.0004038064365063452,
          0.00030599253596778333,
          0.00014560317414919646,
          0.00021876382550712877,
          0.0003013468169086993,
          0.000386193723309571,
          0.00035091920188588105,
          0.0005380104374024857,
          0.0008406287306008754,
          0.0007376909075097534
         ],
         "yaxis": "y"
        },
        {
         "hovertemplate": "<b>OLS trendline</b><br>licenses_perc_pop = 2.88127e-09 * area + -6.1183e-05<br>R<sup>2</sup>=0.608769<br><br>area=%{x}<br>licenses_perc_pop=%{y} <b>(trend)</b><extra></extra>",
         "legendgroup": "",
         "marker": {
          "color": "chocolate",
          "line": {
           "color": "DarkSlateGrey",
           "width": 1
          },
          "size": 10,
          "symbol": "circle"
         },
         "mode": "lines",
         "name": "",
         "showlegend": false,
         "type": "scatter",
         "x": [
          22524,
          29081,
          53219,
          72066,
          76748,
          78781,
          88199,
          89651,
          89680,
          94078,
          99633,
          102602,
          133007,
          136351,
          143440,
          148827,
          155488,
          165321,
          203013,
          224686,
          243943
         ],
         "xaxis": "x",
         "y": [
          0.0000037148166035766954,
          0.000022607323116742762,
          0.00009215548877402546,
          0.00014645883943036845,
          0.00015994895922518982,
          0.00016580658706433373,
          0.00019294241539146475,
          0.0001971260236661509,
          0.00019720958058072797,
          0.00020988141886727738,
          0.00022588688991816,
          0.0002344413892071016,
          0.00032204649223177974,
          0.0003316814688643903,
          0.00035210681256910806,
          0.000367628229770027,
          0.00038682038866650394,
          0.0004151519452539619,
          0.000523752884020815,
          0.0005861987119390472,
          0.0006416833844911349
         ],
         "yaxis": "y"
        }
       ],
       "layout": {
        "font": {
         "family": "Ubuntu"
        },
        "height": 700,
        "legend": {
         "tracegroupgap": 0
        },
        "showlegend": false,
        "template": {
         "data": {
          "bar": [
           {
            "error_x": {
             "color": "#2a3f5f"
            },
            "error_y": {
             "color": "#2a3f5f"
            },
            "marker": {
             "line": {
              "color": "#E5ECF6",
              "width": 0.5
             },
             "pattern": {
              "fillmode": "overlay",
              "size": 10,
              "solidity": 0.2
             }
            },
            "type": "bar"
           }
          ],
          "barpolar": [
           {
            "marker": {
             "line": {
              "color": "#E5ECF6",
              "width": 0.5
             },
             "pattern": {
              "fillmode": "overlay",
              "size": 10,
              "solidity": 0.2
             }
            },
            "type": "barpolar"
           }
          ],
          "carpet": [
           {
            "aaxis": {
             "endlinecolor": "#2a3f5f",
             "gridcolor": "white",
             "linecolor": "white",
             "minorgridcolor": "white",
             "startlinecolor": "#2a3f5f"
            },
            "baxis": {
             "endlinecolor": "#2a3f5f",
             "gridcolor": "white",
             "linecolor": "white",
             "minorgridcolor": "white",
             "startlinecolor": "#2a3f5f"
            },
            "type": "carpet"
           }
          ],
          "choropleth": [
           {
            "colorbar": {
             "outlinewidth": 0,
             "ticks": ""
            },
            "type": "choropleth"
           }
          ],
          "contour": [
           {
            "colorbar": {
             "outlinewidth": 0,
             "ticks": ""
            },
            "colorscale": [
             [
              0,
              "#0d0887"
             ],
             [
              0.1111111111111111,
              "#46039f"
             ],
             [
              0.2222222222222222,
              "#7201a8"
             ],
             [
              0.3333333333333333,
              "#9c179e"
             ],
             [
              0.4444444444444444,
              "#bd3786"
             ],
             [
              0.5555555555555556,
              "#d8576b"
             ],
             [
              0.6666666666666666,
              "#ed7953"
             ],
             [
              0.7777777777777778,
              "#fb9f3a"
             ],
             [
              0.8888888888888888,
              "#fdca26"
             ],
             [
              1,
              "#f0f921"
             ]
            ],
            "type": "contour"
           }
          ],
          "contourcarpet": [
           {
            "colorbar": {
             "outlinewidth": 0,
             "ticks": ""
            },
            "type": "contourcarpet"
           }
          ],
          "heatmap": [
           {
            "colorbar": {
             "outlinewidth": 0,
             "ticks": ""
            },
            "colorscale": [
             [
              0,
              "#0d0887"
             ],
             [
              0.1111111111111111,
              "#46039f"
             ],
             [
              0.2222222222222222,
              "#7201a8"
             ],
             [
              0.3333333333333333,
              "#9c179e"
             ],
             [
              0.4444444444444444,
              "#bd3786"
             ],
             [
              0.5555555555555556,
              "#d8576b"
             ],
             [
              0.6666666666666666,
              "#ed7953"
             ],
             [
              0.7777777777777778,
              "#fb9f3a"
             ],
             [
              0.8888888888888888,
              "#fdca26"
             ],
             [
              1,
              "#f0f921"
             ]
            ],
            "type": "heatmap"
           }
          ],
          "heatmapgl": [
           {
            "colorbar": {
             "outlinewidth": 0,
             "ticks": ""
            },
            "colorscale": [
             [
              0,
              "#0d0887"
             ],
             [
              0.1111111111111111,
              "#46039f"
             ],
             [
              0.2222222222222222,
              "#7201a8"
             ],
             [
              0.3333333333333333,
              "#9c179e"
             ],
             [
              0.4444444444444444,
              "#bd3786"
             ],
             [
              0.5555555555555556,
              "#d8576b"
             ],
             [
              0.6666666666666666,
              "#ed7953"
             ],
             [
              0.7777777777777778,
              "#fb9f3a"
             ],
             [
              0.8888888888888888,
              "#fdca26"
             ],
             [
              1,
              "#f0f921"
             ]
            ],
            "type": "heatmapgl"
           }
          ],
          "histogram": [
           {
            "marker": {
             "pattern": {
              "fillmode": "overlay",
              "size": 10,
              "solidity": 0.2
             }
            },
            "type": "histogram"
           }
          ],
          "histogram2d": [
           {
            "colorbar": {
             "outlinewidth": 0,
             "ticks": ""
            },
            "colorscale": [
             [
              0,
              "#0d0887"
             ],
             [
              0.1111111111111111,
              "#46039f"
             ],
             [
              0.2222222222222222,
              "#7201a8"
             ],
             [
              0.3333333333333333,
              "#9c179e"
             ],
             [
              0.4444444444444444,
              "#bd3786"
             ],
             [
              0.5555555555555556,
              "#d8576b"
             ],
             [
              0.6666666666666666,
              "#ed7953"
             ],
             [
              0.7777777777777778,
              "#fb9f3a"
             ],
             [
              0.8888888888888888,
              "#fdca26"
             ],
             [
              1,
              "#f0f921"
             ]
            ],
            "type": "histogram2d"
           }
          ],
          "histogram2dcontour": [
           {
            "colorbar": {
             "outlinewidth": 0,
             "ticks": ""
            },
            "colorscale": [
             [
              0,
              "#0d0887"
             ],
             [
              0.1111111111111111,
              "#46039f"
             ],
             [
              0.2222222222222222,
              "#7201a8"
             ],
             [
              0.3333333333333333,
              "#9c179e"
             ],
             [
              0.4444444444444444,
              "#bd3786"
             ],
             [
              0.5555555555555556,
              "#d8576b"
             ],
             [
              0.6666666666666666,
              "#ed7953"
             ],
             [
              0.7777777777777778,
              "#fb9f3a"
             ],
             [
              0.8888888888888888,
              "#fdca26"
             ],
             [
              1,
              "#f0f921"
             ]
            ],
            "type": "histogram2dcontour"
           }
          ],
          "mesh3d": [
           {
            "colorbar": {
             "outlinewidth": 0,
             "ticks": ""
            },
            "type": "mesh3d"
           }
          ],
          "parcoords": [
           {
            "line": {
             "colorbar": {
              "outlinewidth": 0,
              "ticks": ""
             }
            },
            "type": "parcoords"
           }
          ],
          "pie": [
           {
            "automargin": true,
            "type": "pie"
           }
          ],
          "scatter": [
           {
            "fillpattern": {
             "fillmode": "overlay",
             "size": 10,
             "solidity": 0.2
            },
            "type": "scatter"
           }
          ],
          "scatter3d": [
           {
            "line": {
             "colorbar": {
              "outlinewidth": 0,
              "ticks": ""
             }
            },
            "marker": {
             "colorbar": {
              "outlinewidth": 0,
              "ticks": ""
             }
            },
            "type": "scatter3d"
           }
          ],
          "scattercarpet": [
           {
            "marker": {
             "colorbar": {
              "outlinewidth": 0,
              "ticks": ""
             }
            },
            "type": "scattercarpet"
           }
          ],
          "scattergeo": [
           {
            "marker": {
             "colorbar": {
              "outlinewidth": 0,
              "ticks": ""
             }
            },
            "type": "scattergeo"
           }
          ],
          "scattergl": [
           {
            "marker": {
             "colorbar": {
              "outlinewidth": 0,
              "ticks": ""
             }
            },
            "type": "scattergl"
           }
          ],
          "scattermapbox": [
           {
            "marker": {
             "colorbar": {
              "outlinewidth": 0,
              "ticks": ""
             }
            },
            "type": "scattermapbox"
           }
          ],
          "scatterpolar": [
           {
            "marker": {
             "colorbar": {
              "outlinewidth": 0,
              "ticks": ""
             }
            },
            "type": "scatterpolar"
           }
          ],
          "scatterpolargl": [
           {
            "marker": {
             "colorbar": {
              "outlinewidth": 0,
              "ticks": ""
             }
            },
            "type": "scatterpolargl"
           }
          ],
          "scatterternary": [
           {
            "marker": {
             "colorbar": {
              "outlinewidth": 0,
              "ticks": ""
             }
            },
            "type": "scatterternary"
           }
          ],
          "surface": [
           {
            "colorbar": {
             "outlinewidth": 0,
             "ticks": ""
            },
            "colorscale": [
             [
              0,
              "#0d0887"
             ],
             [
              0.1111111111111111,
              "#46039f"
             ],
             [
              0.2222222222222222,
              "#7201a8"
             ],
             [
              0.3333333333333333,
              "#9c179e"
             ],
             [
              0.4444444444444444,
              "#bd3786"
             ],
             [
              0.5555555555555556,
              "#d8576b"
             ],
             [
              0.6666666666666666,
              "#ed7953"
             ],
             [
              0.7777777777777778,
              "#fb9f3a"
             ],
             [
              0.8888888888888888,
              "#fdca26"
             ],
             [
              1,
              "#f0f921"
             ]
            ],
            "type": "surface"
           }
          ],
          "table": [
           {
            "cells": {
             "fill": {
              "color": "#EBF0F8"
             },
             "line": {
              "color": "white"
             }
            },
            "header": {
             "fill": {
              "color": "#C8D4E3"
             },
             "line": {
              "color": "white"
             }
            },
            "type": "table"
           }
          ]
         },
         "layout": {
          "annotationdefaults": {
           "arrowcolor": "#2a3f5f",
           "arrowhead": 0,
           "arrowwidth": 1
          },
          "autotypenumbers": "strict",
          "coloraxis": {
           "colorbar": {
            "outlinewidth": 0,
            "ticks": ""
           }
          },
          "colorscale": {
           "diverging": [
            [
             0,
             "#8e0152"
            ],
            [
             0.1,
             "#c51b7d"
            ],
            [
             0.2,
             "#de77ae"
            ],
            [
             0.3,
             "#f1b6da"
            ],
            [
             0.4,
             "#fde0ef"
            ],
            [
             0.5,
             "#f7f7f7"
            ],
            [
             0.6,
             "#e6f5d0"
            ],
            [
             0.7,
             "#b8e186"
            ],
            [
             0.8,
             "#7fbc41"
            ],
            [
             0.9,
             "#4d9221"
            ],
            [
             1,
             "#276419"
            ]
           ],
           "sequential": [
            [
             0,
             "#0d0887"
            ],
            [
             0.1111111111111111,
             "#46039f"
            ],
            [
             0.2222222222222222,
             "#7201a8"
            ],
            [
             0.3333333333333333,
             "#9c179e"
            ],
            [
             0.4444444444444444,
             "#bd3786"
            ],
            [
             0.5555555555555556,
             "#d8576b"
            ],
            [
             0.6666666666666666,
             "#ed7953"
            ],
            [
             0.7777777777777778,
             "#fb9f3a"
            ],
            [
             0.8888888888888888,
             "#fdca26"
            ],
            [
             1,
             "#f0f921"
            ]
           ],
           "sequentialminus": [
            [
             0,
             "#0d0887"
            ],
            [
             0.1111111111111111,
             "#46039f"
            ],
            [
             0.2222222222222222,
             "#7201a8"
            ],
            [
             0.3333333333333333,
             "#9c179e"
            ],
            [
             0.4444444444444444,
             "#bd3786"
            ],
            [
             0.5555555555555556,
             "#d8576b"
            ],
            [
             0.6666666666666666,
             "#ed7953"
            ],
            [
             0.7777777777777778,
             "#fb9f3a"
            ],
            [
             0.8888888888888888,
             "#fdca26"
            ],
            [
             1,
             "#f0f921"
            ]
           ]
          },
          "colorway": [
           "#636efa",
           "#EF553B",
           "#00cc96",
           "#ab63fa",
           "#FFA15A",
           "#19d3f3",
           "#FF6692",
           "#B6E880",
           "#FF97FF",
           "#FECB52"
          ],
          "font": {
           "color": "#2a3f5f"
          },
          "geo": {
           "bgcolor": "white",
           "lakecolor": "white",
           "landcolor": "#E5ECF6",
           "showlakes": true,
           "showland": true,
           "subunitcolor": "white"
          },
          "hoverlabel": {
           "align": "left"
          },
          "hovermode": "closest",
          "mapbox": {
           "style": "light"
          },
          "paper_bgcolor": "white",
          "plot_bgcolor": "#E5ECF6",
          "polar": {
           "angularaxis": {
            "gridcolor": "white",
            "linecolor": "white",
            "ticks": ""
           },
           "bgcolor": "#E5ECF6",
           "radialaxis": {
            "gridcolor": "white",
            "linecolor": "white",
            "ticks": ""
           }
          },
          "scene": {
           "xaxis": {
            "backgroundcolor": "#E5ECF6",
            "gridcolor": "white",
            "gridwidth": 2,
            "linecolor": "white",
            "showbackground": true,
            "ticks": "",
            "zerolinecolor": "white"
           },
           "yaxis": {
            "backgroundcolor": "#E5ECF6",
            "gridcolor": "white",
            "gridwidth": 2,
            "linecolor": "white",
            "showbackground": true,
            "ticks": "",
            "zerolinecolor": "white"
           },
           "zaxis": {
            "backgroundcolor": "#E5ECF6",
            "gridcolor": "white",
            "gridwidth": 2,
            "linecolor": "white",
            "showbackground": true,
            "ticks": "",
            "zerolinecolor": "white"
           }
          },
          "shapedefaults": {
           "line": {
            "color": "#2a3f5f"
           }
          },
          "ternary": {
           "aaxis": {
            "gridcolor": "white",
            "linecolor": "white",
            "ticks": ""
           },
           "baxis": {
            "gridcolor": "white",
            "linecolor": "white",
            "ticks": ""
           },
           "bgcolor": "#E5ECF6",
           "caxis": {
            "gridcolor": "white",
            "linecolor": "white",
            "ticks": ""
           }
          },
          "title": {
           "x": 0.05
          },
          "xaxis": {
           "automargin": true,
           "gridcolor": "white",
           "linecolor": "white",
           "ticks": "",
           "title": {
            "standoff": 15
           },
           "zerolinecolor": "white",
           "zerolinewidth": 2
          },
          "yaxis": {
           "automargin": true,
           "gridcolor": "white",
           "linecolor": "white",
           "ticks": "",
           "title": {
            "standoff": 15
           },
           "zerolinecolor": "white",
           "zerolinewidth": 2
          }
         }
        },
        "title": {
         "font": {
          "size": 20
         },
         "text": "Province Area vs. Amateur Radio Licenses Relative to Population"
        },
        "xaxis": {
         "anchor": "y",
         "domain": [
          0,
          1
         ],
         "title": {
          "text": "Province Area [km^2]"
         }
        },
        "yaxis": {
         "anchor": "x",
         "domain": [
          0,
          1
         ],
         "tickformat": ",.2%",
         "title": {
          "text": "Amateur Radio Licenses Relative to Population"
         }
        }
       }
      }
     },
     "metadata": {},
     "output_type": "display_data"
    }
   ],
   "source": [
    "gdf_without_outliers = gdf.drop(['Ciudad Autónoma de Buenos Aires', 'Buenos Aires', 'Tierra del Fuego, Antártida e Islas del Atlántico Sur'])\n",
    "fig6 = px.scatter(gdf_without_outliers, x='area', y='licenses_perc_pop', trendline='ols', title='Province Area vs. Amateur Radio Licenses Relative to Population', hover_name=gdf_without_outliers.index)\n",
    "fig6.update_layout(height=700, font_family='Ubuntu', title_font_size=20, xaxis_title='Province Area [km^2]', yaxis_title='Amateur Radio Licenses Relative to Population', showlegend=False)\n",
    "fig6.update_traces(marker_color='chocolate', marker_size=10, marker_line_color='DarkSlateGrey', marker_line_width=1)\n",
    "fig6.update_layout(yaxis={'tickformat': ',.2%'})\n",
    "#fig5.update_layout(hovermode='x unified')\n",
    "fig6.show()"
   ]
  },
  {
   "cell_type": "code",
   "execution_count": 802,
   "metadata": {},
   "outputs": [
    {
     "data": {
      "application/vnd.plotly.v1+json": {
       "config": {
        "plotlyServerURL": "https://plot.ly"
       },
       "data": [
        {
         "hovertemplate": "<b>%{hovertext}</b><br><br>latitude=%{x}<br>licenses_perc_pop=%{y}<extra></extra>",
         "hovertext": [
          "Tucumán",
          "Santiago del Estero",
          "Salta",
          "Jujuy",
          "Formosa",
          "Chaco",
          "Misiones",
          "Corrientes",
          "Catamarca",
          "Córdoba",
          "Santa Fe",
          "Entre Ríos",
          "Buenos Aires",
          "La Pampa",
          "La Rioja",
          "San Juan",
          "San Luis",
          "Mendoza",
          "Neuquén",
          "Río Negro",
          "Chubut",
          "Santa Cruz",
          "Tierra del Fuego, Antártida e Islas del Atlántico Sur",
          "Ciudad Autónoma de Buenos Aires"
         ],
         "legendgroup": "",
         "marker": {
          "color": "chocolate",
          "line": {
           "color": "DarkSlateGrey",
           "width": 1
          },
          "size": 10,
          "symbol": "circle"
         },
         "mode": "markers",
         "name": "",
         "orientation": "v",
         "showlegend": false,
         "type": "scatter",
         "x": [
          26.953959515395354,
          27.771536882578335,
          24.310458064835633,
          23.301782059463093,
          24.847571141168075,
          26.45392342371667,
          26.84285466456507,
          28.75598705384927,
          27.341089678368878,
          32.16748315078643,
          30.70344558762595,
          32.035610410655416,
          36.67124822268652,
          37.13313834078744,
          29.685796948408516,
          30.862352629528505,
          33.7478253168703,
          34.626956794257254,
          38.65536322441136,
          40.41233260512035,
          43.779096941415254,
          48.81498580143221,
          54.339462882255674,
          34.61653710776715
         ],
         "xaxis": "x",
         "y": [
          0.00006810765236445109,
          0.00008918169156796594,
          0.00008190622154105862,
          0.00003383649453916574,
          0.00004468142146495487,
          0.00011548930280332784,
          0.00010773170122408194,
          0.00020291377500620015,
          0.00016761493262810903,
          0.0003460682425463385,
          0.00028876282421851275,
          0.0004038064365063452,
          0.00037207469292738774,
          0.00030599253596778333,
          0.00014560317414919646,
          0.00021876382550712877,
          0.0003013468169086993,
          0.000386193723309571,
          0.00035091920188588105,
          0.0005380104374024857,
          0.0008406287306008754,
          0.0007376909075097534,
          0.000870746586516017,
          0.0005252174893899017
         ],
         "yaxis": "y"
        },
        {
         "hovertemplate": "<b>OLS trendline</b><br>licenses_perc_pop = 2.92765e-05 * latitude + -0.000655275<br>R<sup>2</sup>=0.887104<br><br>latitude=%{x}<br>licenses_perc_pop=%{y} <b>(trend)</b><extra></extra>",
         "legendgroup": "",
         "marker": {
          "color": "chocolate",
          "line": {
           "color": "DarkSlateGrey",
           "width": 1
          },
          "size": 10,
          "symbol": "circle"
         },
         "mode": "lines",
         "name": "",
         "showlegend": false,
         "type": "scatter",
         "x": [
          23.301782059463093,
          24.310458064835633,
          24.847571141168075,
          26.45392342371667,
          26.84285466456507,
          26.953959515395354,
          27.341089678368878,
          27.771536882578335,
          28.75598705384927,
          29.685796948408516,
          30.70344558762595,
          30.862352629528505,
          32.035610410655416,
          32.16748315078643,
          33.7478253168703,
          34.61653710776715,
          34.626956794257254,
          36.67124822268652,
          37.13313834078744,
          38.65536322441136,
          40.41233260512035,
          43.779096941415254,
          48.81498580143221,
          54.339462882255674
         ],
         "xaxis": "x",
         "y": [
          0.000026920253116711665,
          0.000056450798198561056,
          0.000072175611548144,
          0.00011920405105148393,
          0.00013059061272286158,
          0.00013384337851562382,
          0.00014517721085558432,
          0.00015777921635740913,
          0.00018660051279819603,
          0.00021382213090210883,
          0.00024361536367242147,
          0.0002482676123030346,
          0.00028261654259745803,
          0.0002864773203662994,
          0.0003327442736116589,
          0.0003581771505390118,
          0.0003584822029245109,
          0.0004183319860720465,
          0.0004318545313519872,
          0.00047642001155686925,
          0.0005278579988075852,
          0.000626425215122203,
          0.0007738586250732898,
          0.0009355962084201325
         ],
         "yaxis": "y"
        }
       ],
       "layout": {
        "font": {
         "family": "Ubuntu"
        },
        "height": 700,
        "legend": {
         "tracegroupgap": 0
        },
        "showlegend": false,
        "template": {
         "data": {
          "bar": [
           {
            "error_x": {
             "color": "#2a3f5f"
            },
            "error_y": {
             "color": "#2a3f5f"
            },
            "marker": {
             "line": {
              "color": "#E5ECF6",
              "width": 0.5
             },
             "pattern": {
              "fillmode": "overlay",
              "size": 10,
              "solidity": 0.2
             }
            },
            "type": "bar"
           }
          ],
          "barpolar": [
           {
            "marker": {
             "line": {
              "color": "#E5ECF6",
              "width": 0.5
             },
             "pattern": {
              "fillmode": "overlay",
              "size": 10,
              "solidity": 0.2
             }
            },
            "type": "barpolar"
           }
          ],
          "carpet": [
           {
            "aaxis": {
             "endlinecolor": "#2a3f5f",
             "gridcolor": "white",
             "linecolor": "white",
             "minorgridcolor": "white",
             "startlinecolor": "#2a3f5f"
            },
            "baxis": {
             "endlinecolor": "#2a3f5f",
             "gridcolor": "white",
             "linecolor": "white",
             "minorgridcolor": "white",
             "startlinecolor": "#2a3f5f"
            },
            "type": "carpet"
           }
          ],
          "choropleth": [
           {
            "colorbar": {
             "outlinewidth": 0,
             "ticks": ""
            },
            "type": "choropleth"
           }
          ],
          "contour": [
           {
            "colorbar": {
             "outlinewidth": 0,
             "ticks": ""
            },
            "colorscale": [
             [
              0,
              "#0d0887"
             ],
             [
              0.1111111111111111,
              "#46039f"
             ],
             [
              0.2222222222222222,
              "#7201a8"
             ],
             [
              0.3333333333333333,
              "#9c179e"
             ],
             [
              0.4444444444444444,
              "#bd3786"
             ],
             [
              0.5555555555555556,
              "#d8576b"
             ],
             [
              0.6666666666666666,
              "#ed7953"
             ],
             [
              0.7777777777777778,
              "#fb9f3a"
             ],
             [
              0.8888888888888888,
              "#fdca26"
             ],
             [
              1,
              "#f0f921"
             ]
            ],
            "type": "contour"
           }
          ],
          "contourcarpet": [
           {
            "colorbar": {
             "outlinewidth": 0,
             "ticks": ""
            },
            "type": "contourcarpet"
           }
          ],
          "heatmap": [
           {
            "colorbar": {
             "outlinewidth": 0,
             "ticks": ""
            },
            "colorscale": [
             [
              0,
              "#0d0887"
             ],
             [
              0.1111111111111111,
              "#46039f"
             ],
             [
              0.2222222222222222,
              "#7201a8"
             ],
             [
              0.3333333333333333,
              "#9c179e"
             ],
             [
              0.4444444444444444,
              "#bd3786"
             ],
             [
              0.5555555555555556,
              "#d8576b"
             ],
             [
              0.6666666666666666,
              "#ed7953"
             ],
             [
              0.7777777777777778,
              "#fb9f3a"
             ],
             [
              0.8888888888888888,
              "#fdca26"
             ],
             [
              1,
              "#f0f921"
             ]
            ],
            "type": "heatmap"
           }
          ],
          "heatmapgl": [
           {
            "colorbar": {
             "outlinewidth": 0,
             "ticks": ""
            },
            "colorscale": [
             [
              0,
              "#0d0887"
             ],
             [
              0.1111111111111111,
              "#46039f"
             ],
             [
              0.2222222222222222,
              "#7201a8"
             ],
             [
              0.3333333333333333,
              "#9c179e"
             ],
             [
              0.4444444444444444,
              "#bd3786"
             ],
             [
              0.5555555555555556,
              "#d8576b"
             ],
             [
              0.6666666666666666,
              "#ed7953"
             ],
             [
              0.7777777777777778,
              "#fb9f3a"
             ],
             [
              0.8888888888888888,
              "#fdca26"
             ],
             [
              1,
              "#f0f921"
             ]
            ],
            "type": "heatmapgl"
           }
          ],
          "histogram": [
           {
            "marker": {
             "pattern": {
              "fillmode": "overlay",
              "size": 10,
              "solidity": 0.2
             }
            },
            "type": "histogram"
           }
          ],
          "histogram2d": [
           {
            "colorbar": {
             "outlinewidth": 0,
             "ticks": ""
            },
            "colorscale": [
             [
              0,
              "#0d0887"
             ],
             [
              0.1111111111111111,
              "#46039f"
             ],
             [
              0.2222222222222222,
              "#7201a8"
             ],
             [
              0.3333333333333333,
              "#9c179e"
             ],
             [
              0.4444444444444444,
              "#bd3786"
             ],
             [
              0.5555555555555556,
              "#d8576b"
             ],
             [
              0.6666666666666666,
              "#ed7953"
             ],
             [
              0.7777777777777778,
              "#fb9f3a"
             ],
             [
              0.8888888888888888,
              "#fdca26"
             ],
             [
              1,
              "#f0f921"
             ]
            ],
            "type": "histogram2d"
           }
          ],
          "histogram2dcontour": [
           {
            "colorbar": {
             "outlinewidth": 0,
             "ticks": ""
            },
            "colorscale": [
             [
              0,
              "#0d0887"
             ],
             [
              0.1111111111111111,
              "#46039f"
             ],
             [
              0.2222222222222222,
              "#7201a8"
             ],
             [
              0.3333333333333333,
              "#9c179e"
             ],
             [
              0.4444444444444444,
              "#bd3786"
             ],
             [
              0.5555555555555556,
              "#d8576b"
             ],
             [
              0.6666666666666666,
              "#ed7953"
             ],
             [
              0.7777777777777778,
              "#fb9f3a"
             ],
             [
              0.8888888888888888,
              "#fdca26"
             ],
             [
              1,
              "#f0f921"
             ]
            ],
            "type": "histogram2dcontour"
           }
          ],
          "mesh3d": [
           {
            "colorbar": {
             "outlinewidth": 0,
             "ticks": ""
            },
            "type": "mesh3d"
           }
          ],
          "parcoords": [
           {
            "line": {
             "colorbar": {
              "outlinewidth": 0,
              "ticks": ""
             }
            },
            "type": "parcoords"
           }
          ],
          "pie": [
           {
            "automargin": true,
            "type": "pie"
           }
          ],
          "scatter": [
           {
            "fillpattern": {
             "fillmode": "overlay",
             "size": 10,
             "solidity": 0.2
            },
            "type": "scatter"
           }
          ],
          "scatter3d": [
           {
            "line": {
             "colorbar": {
              "outlinewidth": 0,
              "ticks": ""
             }
            },
            "marker": {
             "colorbar": {
              "outlinewidth": 0,
              "ticks": ""
             }
            },
            "type": "scatter3d"
           }
          ],
          "scattercarpet": [
           {
            "marker": {
             "colorbar": {
              "outlinewidth": 0,
              "ticks": ""
             }
            },
            "type": "scattercarpet"
           }
          ],
          "scattergeo": [
           {
            "marker": {
             "colorbar": {
              "outlinewidth": 0,
              "ticks": ""
             }
            },
            "type": "scattergeo"
           }
          ],
          "scattergl": [
           {
            "marker": {
             "colorbar": {
              "outlinewidth": 0,
              "ticks": ""
             }
            },
            "type": "scattergl"
           }
          ],
          "scattermapbox": [
           {
            "marker": {
             "colorbar": {
              "outlinewidth": 0,
              "ticks": ""
             }
            },
            "type": "scattermapbox"
           }
          ],
          "scatterpolar": [
           {
            "marker": {
             "colorbar": {
              "outlinewidth": 0,
              "ticks": ""
             }
            },
            "type": "scatterpolar"
           }
          ],
          "scatterpolargl": [
           {
            "marker": {
             "colorbar": {
              "outlinewidth": 0,
              "ticks": ""
             }
            },
            "type": "scatterpolargl"
           }
          ],
          "scatterternary": [
           {
            "marker": {
             "colorbar": {
              "outlinewidth": 0,
              "ticks": ""
             }
            },
            "type": "scatterternary"
           }
          ],
          "surface": [
           {
            "colorbar": {
             "outlinewidth": 0,
             "ticks": ""
            },
            "colorscale": [
             [
              0,
              "#0d0887"
             ],
             [
              0.1111111111111111,
              "#46039f"
             ],
             [
              0.2222222222222222,
              "#7201a8"
             ],
             [
              0.3333333333333333,
              "#9c179e"
             ],
             [
              0.4444444444444444,
              "#bd3786"
             ],
             [
              0.5555555555555556,
              "#d8576b"
             ],
             [
              0.6666666666666666,
              "#ed7953"
             ],
             [
              0.7777777777777778,
              "#fb9f3a"
             ],
             [
              0.8888888888888888,
              "#fdca26"
             ],
             [
              1,
              "#f0f921"
             ]
            ],
            "type": "surface"
           }
          ],
          "table": [
           {
            "cells": {
             "fill": {
              "color": "#EBF0F8"
             },
             "line": {
              "color": "white"
             }
            },
            "header": {
             "fill": {
              "color": "#C8D4E3"
             },
             "line": {
              "color": "white"
             }
            },
            "type": "table"
           }
          ]
         },
         "layout": {
          "annotationdefaults": {
           "arrowcolor": "#2a3f5f",
           "arrowhead": 0,
           "arrowwidth": 1
          },
          "autotypenumbers": "strict",
          "coloraxis": {
           "colorbar": {
            "outlinewidth": 0,
            "ticks": ""
           }
          },
          "colorscale": {
           "diverging": [
            [
             0,
             "#8e0152"
            ],
            [
             0.1,
             "#c51b7d"
            ],
            [
             0.2,
             "#de77ae"
            ],
            [
             0.3,
             "#f1b6da"
            ],
            [
             0.4,
             "#fde0ef"
            ],
            [
             0.5,
             "#f7f7f7"
            ],
            [
             0.6,
             "#e6f5d0"
            ],
            [
             0.7,
             "#b8e186"
            ],
            [
             0.8,
             "#7fbc41"
            ],
            [
             0.9,
             "#4d9221"
            ],
            [
             1,
             "#276419"
            ]
           ],
           "sequential": [
            [
             0,
             "#0d0887"
            ],
            [
             0.1111111111111111,
             "#46039f"
            ],
            [
             0.2222222222222222,
             "#7201a8"
            ],
            [
             0.3333333333333333,
             "#9c179e"
            ],
            [
             0.4444444444444444,
             "#bd3786"
            ],
            [
             0.5555555555555556,
             "#d8576b"
            ],
            [
             0.6666666666666666,
             "#ed7953"
            ],
            [
             0.7777777777777778,
             "#fb9f3a"
            ],
            [
             0.8888888888888888,
             "#fdca26"
            ],
            [
             1,
             "#f0f921"
            ]
           ],
           "sequentialminus": [
            [
             0,
             "#0d0887"
            ],
            [
             0.1111111111111111,
             "#46039f"
            ],
            [
             0.2222222222222222,
             "#7201a8"
            ],
            [
             0.3333333333333333,
             "#9c179e"
            ],
            [
             0.4444444444444444,
             "#bd3786"
            ],
            [
             0.5555555555555556,
             "#d8576b"
            ],
            [
             0.6666666666666666,
             "#ed7953"
            ],
            [
             0.7777777777777778,
             "#fb9f3a"
            ],
            [
             0.8888888888888888,
             "#fdca26"
            ],
            [
             1,
             "#f0f921"
            ]
           ]
          },
          "colorway": [
           "#636efa",
           "#EF553B",
           "#00cc96",
           "#ab63fa",
           "#FFA15A",
           "#19d3f3",
           "#FF6692",
           "#B6E880",
           "#FF97FF",
           "#FECB52"
          ],
          "font": {
           "color": "#2a3f5f"
          },
          "geo": {
           "bgcolor": "white",
           "lakecolor": "white",
           "landcolor": "#E5ECF6",
           "showlakes": true,
           "showland": true,
           "subunitcolor": "white"
          },
          "hoverlabel": {
           "align": "left"
          },
          "hovermode": "closest",
          "mapbox": {
           "style": "light"
          },
          "paper_bgcolor": "white",
          "plot_bgcolor": "#E5ECF6",
          "polar": {
           "angularaxis": {
            "gridcolor": "white",
            "linecolor": "white",
            "ticks": ""
           },
           "bgcolor": "#E5ECF6",
           "radialaxis": {
            "gridcolor": "white",
            "linecolor": "white",
            "ticks": ""
           }
          },
          "scene": {
           "xaxis": {
            "backgroundcolor": "#E5ECF6",
            "gridcolor": "white",
            "gridwidth": 2,
            "linecolor": "white",
            "showbackground": true,
            "ticks": "",
            "zerolinecolor": "white"
           },
           "yaxis": {
            "backgroundcolor": "#E5ECF6",
            "gridcolor": "white",
            "gridwidth": 2,
            "linecolor": "white",
            "showbackground": true,
            "ticks": "",
            "zerolinecolor": "white"
           },
           "zaxis": {
            "backgroundcolor": "#E5ECF6",
            "gridcolor": "white",
            "gridwidth": 2,
            "linecolor": "white",
            "showbackground": true,
            "ticks": "",
            "zerolinecolor": "white"
           }
          },
          "shapedefaults": {
           "line": {
            "color": "#2a3f5f"
           }
          },
          "ternary": {
           "aaxis": {
            "gridcolor": "white",
            "linecolor": "white",
            "ticks": ""
           },
           "baxis": {
            "gridcolor": "white",
            "linecolor": "white",
            "ticks": ""
           },
           "bgcolor": "#E5ECF6",
           "caxis": {
            "gridcolor": "white",
            "linecolor": "white",
            "ticks": ""
           }
          },
          "title": {
           "x": 0.05
          },
          "xaxis": {
           "automargin": true,
           "gridcolor": "white",
           "linecolor": "white",
           "ticks": "",
           "title": {
            "standoff": 15
           },
           "zerolinecolor": "white",
           "zerolinewidth": 2
          },
          "yaxis": {
           "automargin": true,
           "gridcolor": "white",
           "linecolor": "white",
           "ticks": "",
           "title": {
            "standoff": 15
           },
           "zerolinecolor": "white",
           "zerolinewidth": 2
          }
         }
        },
        "title": {
         "font": {
          "size": 20
         },
         "text": "Latitude vs. Amateur Radio Licenses Relative to Population"
        },
        "xaxis": {
         "anchor": "y",
         "domain": [
          0,
          1
         ],
         "title": {
          "text": "Latitude [°S]"
         }
        },
        "yaxis": {
         "anchor": "x",
         "domain": [
          0,
          1
         ],
         "tickformat": ",.2%",
         "title": {
          "text": "Amateur Radio Licenses Relative to Population"
         }
        }
       }
      }
     },
     "metadata": {},
     "output_type": "display_data"
    }
   ],
   "source": [
    "gdf_without_outliers = gdf.drop(['Ciudad Autónoma de Buenos Aires', 'Buenos Aires'])\n",
    "fig7 = px.scatter(gdf, x='latitude', y='licenses_perc_pop', trendline='ols', title='Latitude vs. Amateur Radio Licenses Relative to Population', hover_name=gdf.index)\n",
    "fig7.update_layout(height=700, font_family='Ubuntu', title_font_size=20, xaxis_title='Latitude [°S]', yaxis_title='Amateur Radio Licenses Relative to Population', showlegend=False)\n",
    "fig7.update_traces(marker_color='chocolate', marker_size=10, marker_line_color='DarkSlateGrey', marker_line_width=1)\n",
    "fig7.update_layout(yaxis={'tickformat': ',.2%'})\n",
    "fig7.show()"
   ]
  },
  {
   "cell_type": "code",
   "execution_count": 803,
   "metadata": {},
   "outputs": [],
   "source": [
    "# Get number of licenses for each category\n",
    "total_per_category = df.groupby('category').size()\n",
    "stacked_per_category = total_per_category.sort_values(ascending=False).cumsum()"
   ]
  },
  {
   "cell_type": "code",
   "execution_count": 804,
   "metadata": {},
   "outputs": [
    {
     "data": {
      "application/vnd.plotly.v1+json": {
       "config": {
        "plotlyServerURL": "https://plot.ly"
       },
       "data": [
        {
         "alignmentgroup": "True",
         "hovertemplate": "Licenses: %{x}<extra></extra>",
         "legendgroup": "0",
         "marker": {
          "color": "chocolate",
          "line": {
           "color": "DarkSlateGrey",
           "width": 1
          },
          "pattern": {
           "shape": ""
          }
         },
         "name": "0",
         "offsetgroup": "0",
         "orientation": "h",
         "showlegend": true,
         "textposition": "auto",
         "type": "bar",
         "x": [
          311,
          2023,
          3400,
          9261
         ],
         "xaxis": "x",
         "y": [
          "Especial",
          "Superior",
          "General",
          "Novicio"
         ],
         "yaxis": "y"
        }
       ],
       "layout": {
        "barmode": "relative",
        "font": {
         "family": "Ubuntu"
        },
        "height": 500,
        "hovermode": "y unified",
        "legend": {
         "title": {
          "text": "variable"
         },
         "tracegroupgap": 0
        },
        "margin": {
         "pad": 10
        },
        "showlegend": false,
        "template": {
         "data": {
          "bar": [
           {
            "error_x": {
             "color": "#2a3f5f"
            },
            "error_y": {
             "color": "#2a3f5f"
            },
            "marker": {
             "line": {
              "color": "#E5ECF6",
              "width": 0.5
             },
             "pattern": {
              "fillmode": "overlay",
              "size": 10,
              "solidity": 0.2
             }
            },
            "type": "bar"
           }
          ],
          "barpolar": [
           {
            "marker": {
             "line": {
              "color": "#E5ECF6",
              "width": 0.5
             },
             "pattern": {
              "fillmode": "overlay",
              "size": 10,
              "solidity": 0.2
             }
            },
            "type": "barpolar"
           }
          ],
          "carpet": [
           {
            "aaxis": {
             "endlinecolor": "#2a3f5f",
             "gridcolor": "white",
             "linecolor": "white",
             "minorgridcolor": "white",
             "startlinecolor": "#2a3f5f"
            },
            "baxis": {
             "endlinecolor": "#2a3f5f",
             "gridcolor": "white",
             "linecolor": "white",
             "minorgridcolor": "white",
             "startlinecolor": "#2a3f5f"
            },
            "type": "carpet"
           }
          ],
          "choropleth": [
           {
            "colorbar": {
             "outlinewidth": 0,
             "ticks": ""
            },
            "type": "choropleth"
           }
          ],
          "contour": [
           {
            "colorbar": {
             "outlinewidth": 0,
             "ticks": ""
            },
            "colorscale": [
             [
              0,
              "#0d0887"
             ],
             [
              0.1111111111111111,
              "#46039f"
             ],
             [
              0.2222222222222222,
              "#7201a8"
             ],
             [
              0.3333333333333333,
              "#9c179e"
             ],
             [
              0.4444444444444444,
              "#bd3786"
             ],
             [
              0.5555555555555556,
              "#d8576b"
             ],
             [
              0.6666666666666666,
              "#ed7953"
             ],
             [
              0.7777777777777778,
              "#fb9f3a"
             ],
             [
              0.8888888888888888,
              "#fdca26"
             ],
             [
              1,
              "#f0f921"
             ]
            ],
            "type": "contour"
           }
          ],
          "contourcarpet": [
           {
            "colorbar": {
             "outlinewidth": 0,
             "ticks": ""
            },
            "type": "contourcarpet"
           }
          ],
          "heatmap": [
           {
            "colorbar": {
             "outlinewidth": 0,
             "ticks": ""
            },
            "colorscale": [
             [
              0,
              "#0d0887"
             ],
             [
              0.1111111111111111,
              "#46039f"
             ],
             [
              0.2222222222222222,
              "#7201a8"
             ],
             [
              0.3333333333333333,
              "#9c179e"
             ],
             [
              0.4444444444444444,
              "#bd3786"
             ],
             [
              0.5555555555555556,
              "#d8576b"
             ],
             [
              0.6666666666666666,
              "#ed7953"
             ],
             [
              0.7777777777777778,
              "#fb9f3a"
             ],
             [
              0.8888888888888888,
              "#fdca26"
             ],
             [
              1,
              "#f0f921"
             ]
            ],
            "type": "heatmap"
           }
          ],
          "heatmapgl": [
           {
            "colorbar": {
             "outlinewidth": 0,
             "ticks": ""
            },
            "colorscale": [
             [
              0,
              "#0d0887"
             ],
             [
              0.1111111111111111,
              "#46039f"
             ],
             [
              0.2222222222222222,
              "#7201a8"
             ],
             [
              0.3333333333333333,
              "#9c179e"
             ],
             [
              0.4444444444444444,
              "#bd3786"
             ],
             [
              0.5555555555555556,
              "#d8576b"
             ],
             [
              0.6666666666666666,
              "#ed7953"
             ],
             [
              0.7777777777777778,
              "#fb9f3a"
             ],
             [
              0.8888888888888888,
              "#fdca26"
             ],
             [
              1,
              "#f0f921"
             ]
            ],
            "type": "heatmapgl"
           }
          ],
          "histogram": [
           {
            "marker": {
             "pattern": {
              "fillmode": "overlay",
              "size": 10,
              "solidity": 0.2
             }
            },
            "type": "histogram"
           }
          ],
          "histogram2d": [
           {
            "colorbar": {
             "outlinewidth": 0,
             "ticks": ""
            },
            "colorscale": [
             [
              0,
              "#0d0887"
             ],
             [
              0.1111111111111111,
              "#46039f"
             ],
             [
              0.2222222222222222,
              "#7201a8"
             ],
             [
              0.3333333333333333,
              "#9c179e"
             ],
             [
              0.4444444444444444,
              "#bd3786"
             ],
             [
              0.5555555555555556,
              "#d8576b"
             ],
             [
              0.6666666666666666,
              "#ed7953"
             ],
             [
              0.7777777777777778,
              "#fb9f3a"
             ],
             [
              0.8888888888888888,
              "#fdca26"
             ],
             [
              1,
              "#f0f921"
             ]
            ],
            "type": "histogram2d"
           }
          ],
          "histogram2dcontour": [
           {
            "colorbar": {
             "outlinewidth": 0,
             "ticks": ""
            },
            "colorscale": [
             [
              0,
              "#0d0887"
             ],
             [
              0.1111111111111111,
              "#46039f"
             ],
             [
              0.2222222222222222,
              "#7201a8"
             ],
             [
              0.3333333333333333,
              "#9c179e"
             ],
             [
              0.4444444444444444,
              "#bd3786"
             ],
             [
              0.5555555555555556,
              "#d8576b"
             ],
             [
              0.6666666666666666,
              "#ed7953"
             ],
             [
              0.7777777777777778,
              "#fb9f3a"
             ],
             [
              0.8888888888888888,
              "#fdca26"
             ],
             [
              1,
              "#f0f921"
             ]
            ],
            "type": "histogram2dcontour"
           }
          ],
          "mesh3d": [
           {
            "colorbar": {
             "outlinewidth": 0,
             "ticks": ""
            },
            "type": "mesh3d"
           }
          ],
          "parcoords": [
           {
            "line": {
             "colorbar": {
              "outlinewidth": 0,
              "ticks": ""
             }
            },
            "type": "parcoords"
           }
          ],
          "pie": [
           {
            "automargin": true,
            "type": "pie"
           }
          ],
          "scatter": [
           {
            "fillpattern": {
             "fillmode": "overlay",
             "size": 10,
             "solidity": 0.2
            },
            "type": "scatter"
           }
          ],
          "scatter3d": [
           {
            "line": {
             "colorbar": {
              "outlinewidth": 0,
              "ticks": ""
             }
            },
            "marker": {
             "colorbar": {
              "outlinewidth": 0,
              "ticks": ""
             }
            },
            "type": "scatter3d"
           }
          ],
          "scattercarpet": [
           {
            "marker": {
             "colorbar": {
              "outlinewidth": 0,
              "ticks": ""
             }
            },
            "type": "scattercarpet"
           }
          ],
          "scattergeo": [
           {
            "marker": {
             "colorbar": {
              "outlinewidth": 0,
              "ticks": ""
             }
            },
            "type": "scattergeo"
           }
          ],
          "scattergl": [
           {
            "marker": {
             "colorbar": {
              "outlinewidth": 0,
              "ticks": ""
             }
            },
            "type": "scattergl"
           }
          ],
          "scattermapbox": [
           {
            "marker": {
             "colorbar": {
              "outlinewidth": 0,
              "ticks": ""
             }
            },
            "type": "scattermapbox"
           }
          ],
          "scatterpolar": [
           {
            "marker": {
             "colorbar": {
              "outlinewidth": 0,
              "ticks": ""
             }
            },
            "type": "scatterpolar"
           }
          ],
          "scatterpolargl": [
           {
            "marker": {
             "colorbar": {
              "outlinewidth": 0,
              "ticks": ""
             }
            },
            "type": "scatterpolargl"
           }
          ],
          "scatterternary": [
           {
            "marker": {
             "colorbar": {
              "outlinewidth": 0,
              "ticks": ""
             }
            },
            "type": "scatterternary"
           }
          ],
          "surface": [
           {
            "colorbar": {
             "outlinewidth": 0,
             "ticks": ""
            },
            "colorscale": [
             [
              0,
              "#0d0887"
             ],
             [
              0.1111111111111111,
              "#46039f"
             ],
             [
              0.2222222222222222,
              "#7201a8"
             ],
             [
              0.3333333333333333,
              "#9c179e"
             ],
             [
              0.4444444444444444,
              "#bd3786"
             ],
             [
              0.5555555555555556,
              "#d8576b"
             ],
             [
              0.6666666666666666,
              "#ed7953"
             ],
             [
              0.7777777777777778,
              "#fb9f3a"
             ],
             [
              0.8888888888888888,
              "#fdca26"
             ],
             [
              1,
              "#f0f921"
             ]
            ],
            "type": "surface"
           }
          ],
          "table": [
           {
            "cells": {
             "fill": {
              "color": "#EBF0F8"
             },
             "line": {
              "color": "white"
             }
            },
            "header": {
             "fill": {
              "color": "#C8D4E3"
             },
             "line": {
              "color": "white"
             }
            },
            "type": "table"
           }
          ]
         },
         "layout": {
          "annotationdefaults": {
           "arrowcolor": "#2a3f5f",
           "arrowhead": 0,
           "arrowwidth": 1
          },
          "autotypenumbers": "strict",
          "coloraxis": {
           "colorbar": {
            "outlinewidth": 0,
            "ticks": ""
           }
          },
          "colorscale": {
           "diverging": [
            [
             0,
             "#8e0152"
            ],
            [
             0.1,
             "#c51b7d"
            ],
            [
             0.2,
             "#de77ae"
            ],
            [
             0.3,
             "#f1b6da"
            ],
            [
             0.4,
             "#fde0ef"
            ],
            [
             0.5,
             "#f7f7f7"
            ],
            [
             0.6,
             "#e6f5d0"
            ],
            [
             0.7,
             "#b8e186"
            ],
            [
             0.8,
             "#7fbc41"
            ],
            [
             0.9,
             "#4d9221"
            ],
            [
             1,
             "#276419"
            ]
           ],
           "sequential": [
            [
             0,
             "#0d0887"
            ],
            [
             0.1111111111111111,
             "#46039f"
            ],
            [
             0.2222222222222222,
             "#7201a8"
            ],
            [
             0.3333333333333333,
             "#9c179e"
            ],
            [
             0.4444444444444444,
             "#bd3786"
            ],
            [
             0.5555555555555556,
             "#d8576b"
            ],
            [
             0.6666666666666666,
             "#ed7953"
            ],
            [
             0.7777777777777778,
             "#fb9f3a"
            ],
            [
             0.8888888888888888,
             "#fdca26"
            ],
            [
             1,
             "#f0f921"
            ]
           ],
           "sequentialminus": [
            [
             0,
             "#0d0887"
            ],
            [
             0.1111111111111111,
             "#46039f"
            ],
            [
             0.2222222222222222,
             "#7201a8"
            ],
            [
             0.3333333333333333,
             "#9c179e"
            ],
            [
             0.4444444444444444,
             "#bd3786"
            ],
            [
             0.5555555555555556,
             "#d8576b"
            ],
            [
             0.6666666666666666,
             "#ed7953"
            ],
            [
             0.7777777777777778,
             "#fb9f3a"
            ],
            [
             0.8888888888888888,
             "#fdca26"
            ],
            [
             1,
             "#f0f921"
            ]
           ]
          },
          "colorway": [
           "#636efa",
           "#EF553B",
           "#00cc96",
           "#ab63fa",
           "#FFA15A",
           "#19d3f3",
           "#FF6692",
           "#B6E880",
           "#FF97FF",
           "#FECB52"
          ],
          "font": {
           "color": "#2a3f5f"
          },
          "geo": {
           "bgcolor": "white",
           "lakecolor": "white",
           "landcolor": "#E5ECF6",
           "showlakes": true,
           "showland": true,
           "subunitcolor": "white"
          },
          "hoverlabel": {
           "align": "left"
          },
          "hovermode": "closest",
          "mapbox": {
           "style": "light"
          },
          "paper_bgcolor": "white",
          "plot_bgcolor": "#E5ECF6",
          "polar": {
           "angularaxis": {
            "gridcolor": "white",
            "linecolor": "white",
            "ticks": ""
           },
           "bgcolor": "#E5ECF6",
           "radialaxis": {
            "gridcolor": "white",
            "linecolor": "white",
            "ticks": ""
           }
          },
          "scene": {
           "xaxis": {
            "backgroundcolor": "#E5ECF6",
            "gridcolor": "white",
            "gridwidth": 2,
            "linecolor": "white",
            "showbackground": true,
            "ticks": "",
            "zerolinecolor": "white"
           },
           "yaxis": {
            "backgroundcolor": "#E5ECF6",
            "gridcolor": "white",
            "gridwidth": 2,
            "linecolor": "white",
            "showbackground": true,
            "ticks": "",
            "zerolinecolor": "white"
           },
           "zaxis": {
            "backgroundcolor": "#E5ECF6",
            "gridcolor": "white",
            "gridwidth": 2,
            "linecolor": "white",
            "showbackground": true,
            "ticks": "",
            "zerolinecolor": "white"
           }
          },
          "shapedefaults": {
           "line": {
            "color": "#2a3f5f"
           }
          },
          "ternary": {
           "aaxis": {
            "gridcolor": "white",
            "linecolor": "white",
            "ticks": ""
           },
           "baxis": {
            "gridcolor": "white",
            "linecolor": "white",
            "ticks": ""
           },
           "bgcolor": "#E5ECF6",
           "caxis": {
            "gridcolor": "white",
            "linecolor": "white",
            "ticks": ""
           }
          },
          "title": {
           "x": 0.05
          },
          "xaxis": {
           "automargin": true,
           "gridcolor": "white",
           "linecolor": "white",
           "ticks": "",
           "title": {
            "standoff": 15
           },
           "zerolinecolor": "white",
           "zerolinewidth": 2
          },
          "yaxis": {
           "automargin": true,
           "gridcolor": "white",
           "linecolor": "white",
           "ticks": "",
           "title": {
            "standoff": 15
           },
           "zerolinecolor": "white",
           "zerolinewidth": 2
          }
         }
        },
        "title": {
         "font": {
          "size": 20
         },
         "text": "National Amateur Radio Licenses by Category"
        },
        "width": 1200,
        "xaxis": {
         "anchor": "y",
         "domain": [
          0,
          1
         ],
         "title": {}
        },
        "yaxis": {
         "anchor": "x",
         "domain": [
          0,
          1
         ],
         "title": {}
        }
       }
      }
     },
     "metadata": {},
     "output_type": "display_data"
    }
   ],
   "source": [
    "fig7 = px.bar(total_per_category.sort_values(ascending=True), orientation='h', title='National Amateur Radio Licenses by Category')\n",
    "fig7.update_layout(height=500, width=1200, font_family='Ubuntu', title_font_size=20, xaxis_title=None, yaxis_title=None, showlegend=False)\n",
    "fig7.update_traces(marker_color='chocolate', marker_line_color='DarkSlateGrey', marker_line_width=1, hovertemplate='Licenses: %{x}<extra></extra>')\n",
    "fig7.update_layout(hovermode='y unified')\n",
    "fig7.update_layout(margin={'pad': 10})\n",
    "fig7.show()"
   ]
  },
  {
   "attachments": {},
   "cell_type": "markdown",
   "metadata": {},
   "source": [
    "## 4. Conclusions\n",
    "\n",
    "## 5. Possible future work\n",
    "\n",
    "1. Geolocation of corrected cities.\n",
    "2. Download from API names of Argentina, to differentiate institutions from people"
   ]
  }
 ],
 "metadata": {
  "kernelspec": {
   "display_name": "ham_radio-1efgdwPP",
   "language": "python",
   "name": "python3"
  },
  "language_info": {
   "codemirror_mode": {
    "name": "ipython",
    "version": 3
   },
   "file_extension": ".py",
   "mimetype": "text/x-python",
   "name": "python",
   "nbconvert_exporter": "python",
   "pygments_lexer": "ipython3",
   "version": "3.10.8"
  },
  "orig_nbformat": 4
 },
 "nbformat": 4,
 "nbformat_minor": 2
}
